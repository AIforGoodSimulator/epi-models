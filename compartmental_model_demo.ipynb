{
 "cells": [
  {
   "cell_type": "code",
   "execution_count": 1,
   "id": "moral-american",
   "metadata": {},
   "outputs": [],
   "source": [
    "from models import DeterministicCompartmentalModel, SingleInterventionScenario, CampParams"
   ]
  },
  {
   "cell_type": "code",
   "execution_count": 2,
   "id": "hybrid-binary",
   "metadata": {},
   "outputs": [],
   "source": [
    "camp_params = CampParams.load_from_json(\"/Users/billyzhaoyh/Desktop/AIforGoodSimulator/epi-models/models/config/sample_input.json\")"
   ]
  },
  {
   "cell_type": "code",
   "execution_count": 3,
   "id": "standard-belarus",
   "metadata": {},
   "outputs": [],
   "source": [
    "model = DeterministicCompartmentalModel(camp_params)"
   ]
  },
  {
   "cell_type": "code",
   "execution_count": 4,
   "id": "nominated-iraqi",
   "metadata": {},
   "outputs": [],
   "source": [
    "assert model.infection_matrix.shape == (8, 8)"
   ]
  },
  {
   "cell_type": "code",
   "execution_count": 5,
   "id": "caroline-lafayette",
   "metadata": {},
   "outputs": [],
   "source": [
    "better_hygiene = SingleInterventionScenario(start_times=[0], end_times=[180], infection_matrix=model.infection_matrix, transmission_reduction_factor_inter=0.7)"
   ]
  },
  {
   "cell_type": "code",
   "execution_count": 6,
   "id": "military-preparation",
   "metadata": {},
   "outputs": [],
   "source": [
    "results = model.run_model(better_hygiene, r0=2, beta=1/24, latent_rate = 1/6, removal_rate = 1/5, hosp_rate = 1/20, death_rate_ICU = 1/5, death_rate_no_ICU = 1/3, initial_symp=5)"
   ]
  },
  {
   "cell_type": "code",
   "execution_count": 7,
   "id": "operating-boating",
   "metadata": {},
   "outputs": [],
   "source": [
    "results = results * 20000"
   ]
  },
  {
   "cell_type": "code",
   "execution_count": 37,
   "id": "parallel-discussion",
   "metadata": {},
   "outputs": [
    {
     "name": "stdout",
     "output_type": "stream",
     "text": [
      "Susceptible: 0-9:5998.5\n",
      "Susceptible: 10-19:0.0\n",
      "Susceptible: 20-29:1.4999999999999998\n",
      "Susceptible: 30-39:0.0\n",
      "Susceptible: 40-49:0.0\n",
      "Susceptible: 50-59:0.0\n",
      "Susceptible: 60-69:0.0\n",
      "Susceptible: 70+:0.0\n",
      "Exposed: 0-9:0.0\n",
      "Exposed: 10-19:0.0\n",
      "Exposed: 20-29:0.0\n",
      "Exposed: 30-39:1999.5000000000002\n",
      "Exposed: 40-49:0.0\n",
      "Exposed: 50-59:0.5\n",
      "Exposed: 60-69:0.0\n",
      "Exposed: 70+:0.0\n",
      "Infected (symptomatic): 0-9:0.0\n",
      "Infected (symptomatic): 10-19:0.0\n",
      "Infected (symptomatic): 20-29:0.0\n",
      "Infected (symptomatic): 30-39:0.0\n",
      "Infected (symptomatic): 40-49:0.0\n",
      "Infected (symptomatic): 50-59:0.0\n",
      "Infected (symptomatic): 60-69:1999.5000000000002\n",
      "Infected (symptomatic): 70+:0.0\n",
      "Asymptomatically Infected: 0-9:0.5\n",
      "Asymptomatically Infected: 10-19:0.0\n",
      "Asymptomatically Infected: 20-29:0.0\n",
      "Asymptomatically Infected: 30-39:0.0\n",
      "Asymptomatically Infected: 40-49:0.0\n",
      "Asymptomatically Infected: 50-59:0.0\n",
      "Asymptomatically Infected: 60-69:0.0\n",
      "Asymptomatically Infected: 70+:0.0\n",
      "Recovered: 0-9:0.0\n",
      "Recovered: 10-19:1999.5000000000002\n",
      "Recovered: 20-29:0.0\n",
      "Recovered: 30-39:0.5\n",
      "Recovered: 40-49:0.0\n",
      "Recovered: 50-59:0.0\n",
      "Recovered: 60-69:0.0\n",
      "Recovered: 70+:0.0\n",
      "Hospitalised: 0-9:0.0\n",
      "Hospitalised: 10-19:0.0\n",
      "Hospitalised: 20-29:0.0\n",
      "Hospitalised: 30-39:0.0\n",
      "Hospitalised: 40-49:1999.5000000000002\n",
      "Hospitalised: 50-59:0.0\n",
      "Hospitalised: 60-69:0.5\n",
      "Hospitalised: 70+:0.0\n",
      "Critical: 0-9:0.0\n",
      "Critical: 10-19:0.0\n",
      "Critical: 20-29:0.0\n",
      "Critical: 30-39:0.0\n",
      "Critical: 40-49:0.0\n",
      "Critical: 50-59:0.0\n",
      "Critical: 60-69:0.0\n",
      "Critical: 70+:1999.5000000000002\n",
      "Deaths: 0-9:0.0\n",
      "Deaths: 10-19:0.5\n",
      "Deaths: 20-29:0.0\n",
      "Deaths: 30-39:0.0\n",
      "Deaths: 40-49:0.0\n",
      "Deaths: 50-59:0.0\n",
      "Deaths: 60-69:0.0\n",
      "Deaths: 70+:0.0\n",
      "Offsite: 0-9:0.0\n",
      "Offsite: 10-19:0.0\n",
      "Offsite: 20-29:1999.5000000000002\n",
      "Offsite: 30-39:0.0\n",
      "Offsite: 40-49:0.5\n",
      "Offsite: 50-59:0.0\n",
      "Offsite: 60-69:0.0\n",
      "Offsite: 70+:0.0\n",
      "Quarantined: 0-9:0.0\n",
      "Quarantined: 10-19:0.0\n",
      "Quarantined: 20-29:0.0\n",
      "Quarantined: 30-39:0.0\n",
      "Quarantined: 40-49:0.0\n",
      "Quarantined: 50-59:1999.5000000000002\n",
      "Quarantined: 60-69:0.0\n",
      "Quarantined: 70+:0.5\n",
      "No ICU Care: 0-9:0.0\n",
      "No ICU Care: 10-19:0.0\n",
      "No ICU Care: 20-29:0.0\n",
      "No ICU Care: 30-39:0.0\n",
      "No ICU Care: 40-49:0.0\n",
      "No ICU Care: 50-59:0.0\n",
      "No ICU Care: 60-69:0.0\n",
      "No ICU Care: 70+:0.0\n",
      "Time:0.0\n",
      "R0:40000.0\n",
      "latentRate:3333.333333333333\n",
      "removalRate:4000.0\n",
      "hospRate:1000.0\n",
      "deathRateICU:4000.0\n",
      "deathRateNoIcu:6666.666666666666\n",
      "Susceptible:19995.000000000004\n",
      "Exposed:0.0\n",
      "Infected (symptomatic):5.000000000000001\n",
      "Asymptomatically Infected:0.0\n",
      "Recovered:0.0\n",
      "Hospitalised:0.0\n",
      "Critical:0.0\n",
      "Deaths:0.0\n",
      "Offsite:0.0\n",
      "Quarantined:0.0\n",
      "No ICU Care:0.0\n"
     ]
    }
   ],
   "source": [
    "# TODO: the results don't really line up but otherwise it looks good. Fix the csv load into results frame\n",
    "for a,b in zip(results.iloc[0].index, results.iloc[0].values):\n",
    "    print(f\"{a}:{b}\")"
   ]
  },
  {
   "cell_type": "code",
   "execution_count": null,
   "id": "hearing-adobe",
   "metadata": {},
   "outputs": [],
   "source": []
  }
 ],
 "metadata": {
  "kernelspec": {
   "display_name": "Python 3",
   "language": "python",
   "name": "python3"
  },
  "language_info": {
   "codemirror_mode": {
    "name": "ipython",
    "version": 3
   },
   "file_extension": ".py",
   "mimetype": "text/x-python",
   "name": "python",
   "nbconvert_exporter": "python",
   "pygments_lexer": "ipython3",
   "version": "3.7.9"
  }
 },
 "nbformat": 4,
 "nbformat_minor": 5
}
