{
 "cells": [
  {
   "cell_type": "code",
   "execution_count": 2,
   "id": "hispanic-sight",
   "metadata": {},
   "outputs": [
    {
     "name": "stdout",
     "output_type": "stream",
     "text": [
      "D:\\Documents\\AIforGood\\epi-model\\epi-models\n"
     ]
    }
   ],
   "source": [
    "%cd .."
   ]
  },
  {
   "cell_type": "code",
   "execution_count": 3,
   "id": "seventh-action",
   "metadata": {},
   "outputs": [
    {
     "name": "stdout",
     "output_type": "stream",
     "text": [
      "Processing d:\\documents\\aiforgood\\epi-model\\epi-models\n",
      "Requirement already satisfied: scipy in d:\\anaconda\\envs\\compartment\\lib\\site-packages (from simulator-epi-models==0.1.0) (1.6.2)\n",
      "Requirement already satisfied: numpy in d:\\anaconda\\envs\\compartment\\lib\\site-packages (from simulator-epi-models==0.1.0) (1.19.2)\n",
      "Requirement already satisfied: pandas in d:\\anaconda\\envs\\compartment\\lib\\site-packages (from simulator-epi-models==0.1.0) (1.2.3)\n",
      "Requirement already satisfied: pytz>=2017.3 in d:\\anaconda\\envs\\compartment\\lib\\site-packages (from pandas->simulator-epi-models==0.1.0) (2021.1)\n",
      "Requirement already satisfied: python-dateutil>=2.7.3 in d:\\anaconda\\envs\\compartment\\lib\\site-packages (from pandas->simulator-epi-models==0.1.0) (2.8.1)\n",
      "Requirement already satisfied: six>=1.5 in d:\\anaconda\\envs\\compartment\\lib\\site-packages (from python-dateutil>=2.7.3->pandas->simulator-epi-models==0.1.0) (1.15.0)\n",
      "Building wheels for collected packages: simulator-epi-models\n",
      "  Building wheel for simulator-epi-models (setup.py): started\n",
      "  Building wheel for simulator-epi-models (setup.py): finished with status 'done'\n",
      "  Created wheel for simulator-epi-models: filename=simulator_epi_models-0.1.0-py3-none-any.whl size=15684 sha256=1480a957357f48d1630f79c06c01fd965b9368714045c9121300bc0a8b4ec49d\n",
      "  Stored in directory: c:\\users\\alifbros\\appdata\\local\\pip\\cache\\wheels\\f1\\02\\b4\\6403e72ee65f32afc80630173107283f858aa6d67563cc7e24\n",
      "Successfully built simulator-epi-models\n",
      "Installing collected packages: simulator-epi-models\n",
      "  Attempting uninstall: simulator-epi-models\n",
      "    Found existing installation: simulator-epi-models 0.1.0\n",
      "    Uninstalling simulator-epi-models-0.1.0:\n",
      "      Successfully uninstalled simulator-epi-models-0.1.0\n",
      "Successfully installed simulator-epi-models-0.1.0\n"
     ]
    }
   ],
   "source": [
    "!pip install ."
   ]
  },
  {
   "cell_type": "code",
   "execution_count": 4,
   "id": "exotic-shannon",
   "metadata": {},
   "outputs": [],
   "source": [
    "from epi_models import (\n",
    "    DeterministicCompartmentalModel, \n",
    "    DeterministicCompartmentalModelRunner,\n",
    "    DeterministicCompartmentalModelScenario,\n",
    "    SingleInterventionScenario, \n",
    "    CampParams,\n",
    ")"
   ]
  },
  {
   "cell_type": "code",
   "execution_count": 5,
   "id": "elegant-terrain",
   "metadata": {},
   "outputs": [],
   "source": [
    "camp_params = CampParams.load_from_json(\".//epi_models//config//sample_input.json\")"
   ]
  },
  {
   "cell_type": "code",
   "execution_count": 6,
   "id": "received-swiss",
   "metadata": {},
   "outputs": [],
   "source": [
    "runner = DeterministicCompartmentalModelRunner(camp_params)"
   ]
  },
  {
   "cell_type": "code",
   "execution_count": 7,
   "id": "annoying-stanley",
   "metadata": {},
   "outputs": [
    {
     "data": {
      "text/plain": [
       "{'baseline_param_dict': {'transmission_reduction_factor': 1,\n",
       "  'isolation_capacity': 0.0,\n",
       "  'remove_symptomatic_rate': 0.0,\n",
       "  'first_high_risk_category_n': 2,\n",
       "  'remove_high_risk_rate': 0.0,\n",
       "  'icu_capacity': 0.0003,\n",
       "  'infection_matrix': array([[ 4.22809072,  0.76683669,  0.69660451,  1.69675934,  0.9419763 ,\n",
       "           0.40558608,  0.26184182,  0.13495187],\n",
       "         [ 1.03261083, 10.05606702,  1.01280489,  1.14206231,  1.56232239,\n",
       "           0.46542807,  0.1387554 ,  0.10195448],\n",
       "         [ 0.47648793,  1.33730962,  5.13565028,  2.80824944,  2.01839376,\n",
       "           1.07529096,  0.15740874,  0.09723487],\n",
       "         [ 1.69258432,  1.33778696,  2.53743288,  5.44312577,  2.97093189,\n",
       "           1.23122415,  0.43175245,  0.19069098],\n",
       "         [ 0.8846813 ,  2.10324815,  1.90233514,  3.04133909,  3.86404601,\n",
       "           1.23801107,  0.30903475,  0.21044958],\n",
       "         [ 0.92895678,  1.68534637,  1.71733168,  1.98331471,  2.14926742,\n",
       "           2.2260002 ,  0.57990652,  0.25079698],\n",
       "         [ 0.68072678,  0.57696998,  0.72899012,  1.3762413 ,  0.99483819,\n",
       "           1.00025976,  1.74279907,  0.52488937],\n",
       "         [ 0.65041013,  0.96432193,  0.50929962,  1.09691175,  1.33352542,\n",
       "           0.98824482,  1.26285789,  1.59330589]])}}"
      ]
     },
     "execution_count": 7,
     "metadata": {},
     "output_type": "execute_result"
    }
   ],
   "source": [
    "runner.do_nothing_scenario.__dict__"
   ]
  },
  {
   "cell_type": "code",
   "execution_count": 8,
   "id": "skilled-organizer",
   "metadata": {},
   "outputs": [
    {
     "data": {
      "text/plain": [
       "{'baseline_param_dict': {'transmission_reduction_factor': 0.9375,\n",
       "  'isolation_capacity': 0.01,\n",
       "  'remove_symptomatic_rate': 0.01,\n",
       "  'first_high_risk_category_n': 1,\n",
       "  'remove_high_risk_rate': 0.01,\n",
       "  'icu_capacity': 0.0003,\n",
       "  'infection_matrix': array([[ 4.22809072,  0.76683669,  0.69660451,  1.69675934,  0.9419763 ,\n",
       "           0.40558608,  0.26184182,  0.13495187],\n",
       "         [ 1.03261083, 10.05606702,  1.01280489,  1.14206231,  1.56232239,\n",
       "           0.46542807,  0.1387554 ,  0.10195448],\n",
       "         [ 0.47648793,  1.33730962,  5.13565028,  2.80824944,  2.01839376,\n",
       "           1.07529096,  0.15740874,  0.09723487],\n",
       "         [ 1.69258432,  1.33778696,  2.53743288,  5.44312577,  2.97093189,\n",
       "           1.23122415,  0.43175245,  0.19069098],\n",
       "         [ 0.8846813 ,  2.10324815,  1.90233514,  3.04133909,  3.86404601,\n",
       "           1.23801107,  0.30903475,  0.21044958],\n",
       "         [ 0.92895678,  1.68534637,  1.71733168,  1.98331471,  2.14926742,\n",
       "           2.2260002 ,  0.57990652,  0.25079698],\n",
       "         [ 0.68072678,  0.57696998,  0.72899012,  1.3762413 ,  0.99483819,\n",
       "           1.00025976,  1.74279907,  0.52488937],\n",
       "         [ 0.65041013,  0.96432193,  0.50929962,  1.09691175,  1.33352542,\n",
       "           0.98824482,  1.26285789,  1.59330589]])}}"
      ]
     },
     "execution_count": 8,
     "metadata": {},
     "output_type": "execute_result"
    }
   ],
   "source": [
    "runner.camp_baseline.__dict__"
   ]
  },
  {
   "cell_type": "code",
   "execution_count": 9,
   "id": "thorough-subscription",
   "metadata": {},
   "outputs": [
    {
     "data": {
      "text/plain": [
       "(1000, 12)"
      ]
     },
     "execution_count": 9,
     "metadata": {},
     "output_type": "execute_result"
    }
   ],
   "source": [
    "runner.generated_params_df.shape"
   ]
  },
  {
   "cell_type": "code",
   "execution_count": 10,
   "id": "italic-regard",
   "metadata": {},
   "outputs": [],
   "source": [
    "assert runner.model.infection_matrix.shape == (8, 8)"
   ]
  },
  {
   "cell_type": "code",
   "execution_count": 11,
   "id": "satisfactory-biography",
   "metadata": {},
   "outputs": [],
   "source": [
    "do_nothing_baseline, camp_baseline = runner.run_baselines()"
   ]
  },
  {
   "cell_type": "code",
   "execution_count": 14,
   "id": "spatial-failing",
   "metadata": {},
   "outputs": [],
   "source": [
    "better_hygiene_intervention_result, increase_icu_intervention_result, increase_remove_high_risk_result, \\\n",
    "               better_isolation_intervention_result, shiexlding_intervention_result = runner.run_different_scenarios()"
   ]
  },
  {
   "cell_type": "code",
   "execution_count": 15,
   "id": "typical-undergraduate",
   "metadata": {},
   "outputs": [],
   "source": [
    "better_hygiene_intervention_result = runner.run_better_hygiene_scenarios()"
   ]
  },
  {
   "cell_type": "code",
   "execution_count": 16,
   "id": "emerging-office",
   "metadata": {},
   "outputs": [
    {
     "data": {
      "text/plain": [
       "dict_keys(['5%|one_month', '5%|three_month', '5%|six_month', '10%|one_month', '10%|three_month', '10%|six_month', '15%|one_month', '15%|three_month', '15%|six_month'])"
      ]
     },
     "execution_count": 16,
     "metadata": {},
     "output_type": "execute_result"
    }
   ],
   "source": [
    "better_hygiene_intervention_result.keys()"
   ]
  },
  {
   "cell_type": "code",
   "execution_count": 12,
   "id": "expensive-profession",
   "metadata": {},
   "outputs": [],
   "source": [
    "do_nothing_baseline = do_nothing_baseline * camp_params.total_population"
   ]
  },
  {
   "cell_type": "code",
   "execution_count": 13,
   "id": "broad-assumption",
   "metadata": {},
   "outputs": [
    {
     "data": {
      "text/plain": [
       "0            0\n",
       "1        20000\n",
       "2        40000\n",
       "3        60000\n",
       "4        80000\n",
       "        ...   \n",
       "196    3920000\n",
       "197    3940000\n",
       "198    3960000\n",
       "199    3980000\n",
       "200    4000000\n",
       "Name: Time, Length: 201000, dtype: int32"
      ]
     },
     "execution_count": 13,
     "metadata": {},
     "output_type": "execute_result"
    }
   ],
   "source": [
    "do_nothing_baseline['Time']"
   ]
  },
  {
   "cell_type": "code",
   "execution_count": 18,
   "id": "complex-access",
   "metadata": {},
   "outputs": [],
   "source": [
    "camp_baseline = camp_baseline * camp_params.total_population"
   ]
  },
  {
   "cell_type": "code",
   "execution_count": 14,
   "id": "dated-reader",
   "metadata": {},
   "outputs": [],
   "source": [
    "sim_groups = do_nothing_baseline.groupby('R0')"
   ]
  },
  {
   "cell_type": "code",
   "execution_count": 15,
   "id": "chinese-birth",
   "metadata": {},
   "outputs": [
    {
     "name": "stdout",
     "output_type": "stream",
     "text": [
      "0 Susceptible: 0-9\n",
      "1 Exposed: 0-9\n",
      "2 Infected (symptomatic): 0-9\n",
      "3 Asymptomatically Infected: 0-9\n",
      "4 Recovered: 0-9\n",
      "5 Hospitalised: 0-9\n",
      "6 Critical: 0-9\n",
      "7 Deaths: 0-9\n",
      "8 Offsite: 0-9\n",
      "9 Quarantined: 0-9\n",
      "10 No ICU Care: 0-9\n",
      "11 Susceptible: 10-19\n",
      "12 Exposed: 10-19\n",
      "13 Infected (symptomatic): 10-19\n",
      "14 Asymptomatically Infected: 10-19\n",
      "15 Recovered: 10-19\n",
      "16 Hospitalised: 10-19\n",
      "17 Critical: 10-19\n",
      "18 Deaths: 10-19\n",
      "19 Offsite: 10-19\n",
      "20 Quarantined: 10-19\n",
      "21 No ICU Care: 10-19\n",
      "22 Susceptible: 20-29\n",
      "23 Exposed: 20-29\n",
      "24 Infected (symptomatic): 20-29\n",
      "25 Asymptomatically Infected: 20-29\n",
      "26 Recovered: 20-29\n",
      "27 Hospitalised: 20-29\n",
      "28 Critical: 20-29\n",
      "29 Deaths: 20-29\n",
      "30 Offsite: 20-29\n",
      "31 Quarantined: 20-29\n",
      "32 No ICU Care: 20-29\n",
      "33 Susceptible: 30-39\n",
      "34 Exposed: 30-39\n",
      "35 Infected (symptomatic): 30-39\n",
      "36 Asymptomatically Infected: 30-39\n",
      "37 Recovered: 30-39\n",
      "38 Hospitalised: 30-39\n",
      "39 Critical: 30-39\n",
      "40 Deaths: 30-39\n",
      "41 Offsite: 30-39\n",
      "42 Quarantined: 30-39\n",
      "43 No ICU Care: 30-39\n",
      "44 Susceptible: 40-49\n",
      "45 Exposed: 40-49\n",
      "46 Infected (symptomatic): 40-49\n",
      "47 Asymptomatically Infected: 40-49\n",
      "48 Recovered: 40-49\n",
      "49 Hospitalised: 40-49\n",
      "50 Critical: 40-49\n",
      "51 Deaths: 40-49\n",
      "52 Offsite: 40-49\n",
      "53 Quarantined: 40-49\n",
      "54 No ICU Care: 40-49\n",
      "55 Susceptible: 50-59\n",
      "56 Exposed: 50-59\n",
      "57 Infected (symptomatic): 50-59\n",
      "58 Asymptomatically Infected: 50-59\n",
      "59 Recovered: 50-59\n",
      "60 Hospitalised: 50-59\n",
      "61 Critical: 50-59\n",
      "62 Deaths: 50-59\n",
      "63 Offsite: 50-59\n",
      "64 Quarantined: 50-59\n",
      "65 No ICU Care: 50-59\n",
      "66 Susceptible: 60-69\n",
      "67 Exposed: 60-69\n",
      "68 Infected (symptomatic): 60-69\n",
      "69 Asymptomatically Infected: 60-69\n",
      "70 Recovered: 60-69\n",
      "71 Hospitalised: 60-69\n",
      "72 Critical: 60-69\n",
      "73 Deaths: 60-69\n",
      "74 Offsite: 60-69\n",
      "75 Quarantined: 60-69\n",
      "76 No ICU Care: 60-69\n",
      "77 Susceptible: 70+\n",
      "78 Exposed: 70+\n",
      "79 Infected (symptomatic): 70+\n",
      "80 Asymptomatically Infected: 70+\n",
      "81 Recovered: 70+\n",
      "82 Hospitalised: 70+\n",
      "83 Critical: 70+\n",
      "84 Deaths: 70+\n",
      "85 Offsite: 70+\n",
      "86 Quarantined: 70+\n",
      "87 No ICU Care: 70+\n",
      "88 Time\n",
      "89 R0\n",
      "90 latentRate\n",
      "91 removalRate\n",
      "92 hospRate\n",
      "93 deathRateICU\n",
      "94 deathRateNoIcu\n",
      "95 Susceptible\n",
      "96 Exposed\n",
      "97 Infected (symptomatic)\n",
      "98 Asymptomatically Infected\n",
      "99 Recovered\n",
      "100 Hospitalised\n",
      "101 Critical\n",
      "102 Deaths\n",
      "103 Offsite\n",
      "104 Quarantined\n",
      "105 No ICU Care\n"
     ]
    }
   ],
   "source": [
    "for i in range(len(do_nothing_baseline.columns)):\n",
    "    print(i, do_nothing_baseline.columns[i])"
   ]
  },
  {
   "cell_type": "code",
   "execution_count": 16,
   "id": "latin-horror",
   "metadata": {},
   "outputs": [
    {
     "data": {
      "text/plain": [
       "2    19995.648252\n",
       "2    19996.128910\n",
       "2    19995.460041\n",
       "2    19995.237755\n",
       "2    19995.320793\n",
       "         ...     \n",
       "2    19996.260829\n",
       "2    19995.438762\n",
       "2    19995.115181\n",
       "2    19996.421159\n",
       "2    19995.750667\n",
       "Name: Susceptible, Length: 1000, dtype: float64"
      ]
     },
     "execution_count": 16,
     "metadata": {},
     "output_type": "execute_result"
    }
   ],
   "source": [
    "do_nothing_baseline['Susceptible'][2]"
   ]
  },
  {
   "cell_type": "code",
   "execution_count": 17,
   "id": "amber-relations",
   "metadata": {},
   "outputs": [
    {
     "data": {
      "text/plain": [
       "2    19995.648252\n",
       "2    19996.128910\n",
       "2    19995.460041\n",
       "2    19995.237755\n",
       "2    19995.320793\n",
       "         ...     \n",
       "2    19996.260829\n",
       "2    19995.438762\n",
       "2    19995.115181\n",
       "2    19996.421159\n",
       "2    19995.750667\n",
       "Length: 1000, dtype: float64"
      ]
     },
     "execution_count": 17,
     "metadata": {},
     "output_type": "execute_result"
    }
   ],
   "source": [
    "#do_nothing_baseline['Susceptible'][2].equals(do_nothing_baseline['Susceptible: 0-9'][2] + do_nothing_baseline['Susceptible: 10-19'][2] + do_nothing_baseline['Susceptible: 20-29'][2] + do_nothing_baseline['Susceptible: 30-39'][2] + do_nothing_baseline['Susceptible: 40-49'][2] + do_nothing_baseline['Susceptible: 50-59'][2] + do_nothing_baseline['Susceptible: 60-69'][2] + do_nothing_baseline['Susceptible: 70+'][2]  )\n",
    "do_nothing_baseline['Susceptible: 0-9'][2] + do_nothing_baseline['Susceptible: 10-19'][2] + do_nothing_baseline['Susceptible: 20-29'][2] + do_nothing_baseline['Susceptible: 30-39'][2] + do_nothing_baseline['Susceptible: 40-49'][2] + do_nothing_baseline['Susceptible: 50-59'][2] + do_nothing_baseline['Susceptible: 60-69'][2] + do_nothing_baseline['Susceptible: 70+'][2]  "
   ]
  },
  {
   "cell_type": "code",
   "execution_count": 18,
   "id": "ignored-statistics",
   "metadata": {},
   "outputs": [
    {
     "name": "stderr",
     "output_type": "stream",
     "text": [
      "D:\\Anaconda\\envs\\compartment\\lib\\site-packages\\ipykernel_launcher.py:1: FutureWarning: pandas.util.testing is deprecated. Use the functions in the public API at pandas.testing instead.\n",
      "  \"\"\"Entry point for launching an IPython kernel.\n"
     ]
    }
   ],
   "source": [
    "from pandas.util.testing import assert_almost_equal"
   ]
  },
  {
   "cell_type": "code",
   "execution_count": 19,
   "id": "australian-ordinance",
   "metadata": {
    "scrolled": true
   },
   "outputs": [],
   "source": [
    "#check within age divisions sum is equal to each compartment\n",
    "for j in ['Susceptible','Exposed','Infected (symptomatic)','Asymptomatically Infected','Recovered','Hospitalised','Critical','Deaths','Offsite','Quarantined','No ICU Care']:\n",
    "    for i in range(0,201):\n",
    "        assert_almost_equal(do_nothing_baseline[j][i].values,do_nothing_baseline[str(j)+': 0-9'][i].values + do_nothing_baseline[str(j)+': 10-19'][i].values + do_nothing_baseline[str(j)+': 20-29'][i].values + do_nothing_baseline[str(j)+': 30-39'][i].values + do_nothing_baseline[str(j)+': 40-49'][i].values + do_nothing_baseline[str(j)+': 50-59'][i].values + do_nothing_baseline[str(j)+': 60-69'][i].values + do_nothing_baseline[str(j)+': 70+'][i].values  )"
   ]
  },
  {
   "cell_type": "code",
   "execution_count": 20,
   "id": "hairy-physics",
   "metadata": {},
   "outputs": [],
   "source": [
    "sum=0\n",
    "for j in ['Susceptible','Exposed','Infected (symptomatic)','Asymptomatically Infected','Recovered','Hospitalised','Critical','Deaths','Offsite','Quarantined','No ICU Care']:\n",
    "    sum+=do_nothing_baseline[j]"
   ]
  },
  {
   "cell_type": "code",
   "execution_count": 21,
   "id": "informed-corruption",
   "metadata": {},
   "outputs": [],
   "source": [
    "#checking the total population by adding up the individual compartments and check equal to total population of the camp\n",
    "import numpy as np\n",
    "for i in range(0,201):\n",
    "    assert_almost_equal(sum[i].values,np.array([float(camp_params.total_population)]*1000))"
   ]
  },
  {
   "cell_type": "code",
   "execution_count": null,
   "id": "fifth-entrance",
   "metadata": {},
   "outputs": [],
   "source": [
    "#"
   ]
  },
  {
   "cell_type": "markdown",
   "id": "enhanced-villa",
   "metadata": {},
   "source": [
    "### Import the compartmental model and tinker with a few options\n",
    "1. Single interventions\n",
    "* better hygiene\n",
    "* remove symptomatic (test out if the capacity implementation is working)\n",
    "* increase ICU\n",
    "* remove high risk\n",
    "* shielding"
   ]
  },
  {
   "cell_type": "code",
   "execution_count": 26,
   "id": "adverse-collins",
   "metadata": {},
   "outputs": [],
   "source": [
    "# test with less iterations for sure 1000 is a nightmare to plot "
   ]
  },
  {
   "cell_type": "code",
   "execution_count": 47,
   "id": "pregnant-rental",
   "metadata": {},
   "outputs": [
    {
     "data": {
      "text/plain": [
       "20000"
      ]
     },
     "execution_count": 47,
     "metadata": {},
     "output_type": "execute_result"
    }
   ],
   "source": [
    "camp_params.total_population"
   ]
  },
  {
   "cell_type": "code",
   "execution_count": 48,
   "id": "geological-afternoon",
   "metadata": {},
   "outputs": [],
   "source": [
    "model = DeterministicCompartmentalModel(camp_params)"
   ]
  },
  {
   "cell_type": "code",
   "execution_count": 49,
   "id": "radio-spoke",
   "metadata": {},
   "outputs": [],
   "source": [
    "better_hygiene_6_month = SingleInterventionScenario(camp_params.total_population, [0], [180], model.infection_matrix, transmission_reduction_factor_inter=0.7)"
   ]
  },
  {
   "cell_type": "code",
   "execution_count": 50,
   "id": "annoying-component",
   "metadata": {},
   "outputs": [
    {
     "ename": "TypeError",
     "evalue": "run_single_simulation() got an unexpected keyword argument 'num_iterations'",
     "output_type": "error",
     "traceback": [
      "\u001b[1;31m---------------------------------------------------------------------------\u001b[0m",
      "\u001b[1;31mTypeError\u001b[0m                                 Traceback (most recent call last)",
      "\u001b[1;32m<timed exec>\u001b[0m in \u001b[0;36m<module>\u001b[1;34m\u001b[0m\n",
      "\u001b[1;31mTypeError\u001b[0m: run_single_simulation() got an unexpected keyword argument 'num_iterations'"
     ]
    }
   ],
   "source": [
    "%%time\n",
    "better_hygiene_6_month_results = model.run_single_simulation(better_hygiene_6_month, num_iterations=100)"
   ]
  },
  {
   "cell_type": "code",
   "execution_count": 51,
   "id": "federal-world",
   "metadata": {},
   "outputs": [
    {
     "ename": "NameError",
     "evalue": "name 'better_hygiene_6_month_results' is not defined",
     "output_type": "error",
     "traceback": [
      "\u001b[1;31m---------------------------------------------------------------------------\u001b[0m",
      "\u001b[1;31mNameError\u001b[0m                                 Traceback (most recent call last)",
      "\u001b[1;32m<ipython-input-51-49e2ffc8388c>\u001b[0m in \u001b[0;36m<module>\u001b[1;34m\u001b[0m\n\u001b[1;32m----> 1\u001b[1;33m \u001b[0mbetter_hygiene_6_month_results\u001b[0m \u001b[1;33m=\u001b[0m \u001b[0mcamp_params\u001b[0m\u001b[1;33m.\u001b[0m\u001b[0mtotal_population\u001b[0m \u001b[1;33m*\u001b[0m \u001b[0mbetter_hygiene_6_month_results\u001b[0m\u001b[1;33m\u001b[0m\u001b[1;33m\u001b[0m\u001b[0m\n\u001b[0m",
      "\u001b[1;31mNameError\u001b[0m: name 'better_hygiene_6_month_results' is not defined"
     ]
    }
   ],
   "source": [
    "better_hygiene_6_month_results = camp_params.total_population * better_hygiene_6_month_results"
   ]
  },
  {
   "cell_type": "code",
   "execution_count": null,
   "id": "charming-percentage",
   "metadata": {},
   "outputs": [],
   "source": [
    "better_hygiene_6_month_groups = better_hygiene_6_month_results.groupby('R0')"
   ]
  },
  {
   "cell_type": "code",
   "execution_count": null,
   "id": "wanted-morocco",
   "metadata": {},
   "outputs": [],
   "source": [
    "for index,group in better_hygiene_6_month_groups:\n",
    "    group['Infected (symptomatic)'].plot()"
   ]
  },
  {
   "cell_type": "code",
   "execution_count": null,
   "id": "infinite-cameroon",
   "metadata": {},
   "outputs": [],
   "source": [
    "for index,group in better_hygiene_6_month_groups:\n",
    "    group['Deaths'].plot()"
   ]
  },
  {
   "cell_type": "code",
   "execution_count": null,
   "id": "wireless-valentine",
   "metadata": {},
   "outputs": [],
   "source": [
    "for index,group in better_hygiene_6_month_groups:\n",
    "    group['Hospitalised'].plot()"
   ]
  },
  {
   "cell_type": "code",
   "execution_count": null,
   "id": "canadian-ground",
   "metadata": {},
   "outputs": [],
   "source": [
    "for index,group in better_hygiene_6_month_groups:\n",
    "    group['Susceptible'].plot()"
   ]
  },
  {
   "cell_type": "code",
   "execution_count": null,
   "id": "equal-intermediate",
   "metadata": {},
   "outputs": [],
   "source": [
    "# test isolation\n",
    "iso_6_month = SingleInterventionScenario(camp_params.total_population, [0], [180], model.infection_matrix, isolation_capacity_inter=10000, remove_symptomatic_rate_inter=10)"
   ]
  },
  {
   "cell_type": "code",
   "execution_count": null,
   "id": "bacterial-minister",
   "metadata": {},
   "outputs": [],
   "source": [
    "%%time\n",
    "iso_6_month_results = model.run_single_simulation(iso_6_month, num_iterations=100)"
   ]
  },
  {
   "cell_type": "code",
   "execution_count": null,
   "id": "celtic-lightweight",
   "metadata": {},
   "outputs": [],
   "source": [
    "iso_6_month_results = camp_params.total_population * iso_6_month_results\n",
    "iso_6_month_results_groups = iso_6_month_results.groupby('R0')"
   ]
  },
  {
   "cell_type": "code",
   "execution_count": null,
   "id": "dedicated-portsmouth",
   "metadata": {},
   "outputs": [],
   "source": [
    "for index,group in iso_6_month_results_groups:\n",
    "    group['Quarantined'].plot()"
   ]
  },
  {
   "cell_type": "code",
   "execution_count": null,
   "id": "written-carroll",
   "metadata": {},
   "outputs": [],
   "source": [
    "for index,group in iso_6_month_results_groups:\n",
    "    (group['Infected (symptomatic)']+group['Quarantined']).plot()"
   ]
  },
  {
   "cell_type": "code",
   "execution_count": 17,
   "id": "compliant-luxury",
   "metadata": {},
   "outputs": [],
   "source": [
    "# the Infected dynamics is tinted while they are in quarantine - needs a better solution to deal with this (maybe extra compartments is the answer like the Tucker model)"
   ]
  },
  {
   "cell_type": "code",
   "execution_count": null,
   "id": "current-college",
   "metadata": {},
   "outputs": [],
   "source": []
  }
 ],
 "metadata": {
  "kernelspec": {
   "display_name": "Python 3",
   "language": "python",
   "name": "python3"
  },
  "language_info": {
   "codemirror_mode": {
    "name": "ipython",
    "version": 3
   },
   "file_extension": ".py",
   "mimetype": "text/x-python",
   "name": "python",
   "nbconvert_exporter": "python",
   "pygments_lexer": "ipython3",
   "version": "3.7.10"
  }
 },
 "nbformat": 4,
 "nbformat_minor": 5
}
