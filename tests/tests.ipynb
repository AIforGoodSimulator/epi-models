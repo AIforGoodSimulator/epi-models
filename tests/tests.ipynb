{
 "cells": [
  {
   "cell_type": "code",
   "execution_count": 11,
   "id": "hispanic-sight",
   "metadata": {},
   "outputs": [
    {
     "name": "stdout",
     "output_type": "stream",
     "text": [
      "D:\\OneDrive\\Documents\\AIforGood\\epi-model\\epi-models\n"
     ]
    }
   ],
   "source": [
    "%cd D:\\OneDrive\\Documents\\AIforGood\\epi-model\\epi-models"
   ]
  },
  {
   "cell_type": "code",
   "execution_count": 10,
   "id": "plastic-relief",
   "metadata": {},
   "outputs": [
    {
     "name": "stdout",
     "output_type": "stream",
     "text": [
      " Volume in drive D is Data\n",
      " Volume Serial Number is D61A-D1E8\n",
      "\n",
      " Directory of D:\\OneDrive\\Documents\\AIforGood\\epi-model\\epi-models\n",
      "\n",
      "04/18/2021  10:52 PM    <DIR>          .\n",
      "04/18/2021  10:52 PM    <DIR>          ..\n",
      "04/19/2021  05:49 AM    <DIR>          .git\n",
      "04/14/2021  01:15 PM               270 .gitignore\n",
      "04/18/2021  10:52 PM    <DIR>          .ipynb_checkpoints\n",
      "04/16/2021  01:21 AM             1,147 .pre-commit-config.yaml\n",
      "04/19/2021  05:49 AM         1,781,153 compartmental_model_demo.ipynb\n",
      "04/18/2021  10:52 PM    <DIR>          epi_models\n",
      "04/14/2021  01:15 PM                92 README.md\n",
      "04/14/2021  01:15 PM               736 setup.py\n",
      "04/23/2021  07:55 PM    <DIR>          tests\n",
      "               5 File(s)      1,783,398 bytes\n",
      "               6 Dir(s)  874,228,506,624 bytes free\n"
     ]
    }
   ],
   "source": []
  },
  {
   "cell_type": "code",
   "execution_count": 12,
   "id": "seventh-action",
   "metadata": {},
   "outputs": [
    {
     "name": "stdout",
     "output_type": "stream",
     "text": [
      "Processing d:\\onedrive\\documents\\aiforgood\\epi-model\\epi-models\n",
      "Requirement already satisfied: scipy in d:\\anaconda\\envs\\compartment\\lib\\site-packages (from simulator-epi-models==0.1.0) (1.6.2)\n",
      "Requirement already satisfied: numpy in d:\\anaconda\\envs\\compartment\\lib\\site-packages (from simulator-epi-models==0.1.0) (1.19.2)\n",
      "Requirement already satisfied: pandas in d:\\anaconda\\envs\\compartment\\lib\\site-packages (from simulator-epi-models==0.1.0) (1.2.3)\n",
      "Requirement already satisfied: python-dateutil>=2.7.3 in d:\\anaconda\\envs\\compartment\\lib\\site-packages (from pandas->simulator-epi-models==0.1.0) (2.8.1)\n",
      "Requirement already satisfied: pytz>=2017.3 in d:\\anaconda\\envs\\compartment\\lib\\site-packages (from pandas->simulator-epi-models==0.1.0) (2021.1)\n",
      "Requirement already satisfied: six>=1.5 in d:\\anaconda\\envs\\compartment\\lib\\site-packages (from python-dateutil>=2.7.3->pandas->simulator-epi-models==0.1.0) (1.15.0)\n",
      "Building wheels for collected packages: simulator-epi-models\n",
      "  Building wheel for simulator-epi-models (setup.py): started\n",
      "  Building wheel for simulator-epi-models (setup.py): finished with status 'done'\n",
      "  Created wheel for simulator-epi-models: filename=simulator_epi_models-0.1.0-py3-none-any.whl size=15684 sha256=78cd624105e79b4f2dbd5c52e1a4863f96f3f6268dde10992aaa9704e2dbc0b3\n",
      "  Stored in directory: c:\\users\\alifbros\\appdata\\local\\pip\\cache\\wheels\\42\\44\\72\\51b04583fa649b151a5ec58ce9d32839b86e8c922d70169a43\n",
      "Successfully built simulator-epi-models\n",
      "Installing collected packages: simulator-epi-models\n",
      "  Attempting uninstall: simulator-epi-models\n",
      "    Found existing installation: simulator-epi-models 0.1.0\n",
      "    Uninstalling simulator-epi-models-0.1.0:\n",
      "      Successfully uninstalled simulator-epi-models-0.1.0\n",
      "Successfully installed simulator-epi-models-0.1.0\n"
     ]
    }
   ],
   "source": [
    "!pip install ."
   ]
  },
  {
   "cell_type": "code",
   "execution_count": 13,
   "id": "exotic-shannon",
   "metadata": {},
   "outputs": [],
   "source": [
    "from epi_models import (\n",
    "    DeterministicCompartmentalModel, \n",
    "    DeterministicCompartmentalModelRunner,\n",
    "    DeterministicCompartmentalModelScenario,\n",
    "    SingleInterventionScenario, \n",
    "    CampParams,\n",
    ")"
   ]
  },
  {
   "cell_type": "code",
   "execution_count": 14,
   "id": "elegant-terrain",
   "metadata": {},
   "outputs": [],
   "source": [
    "camp_params = CampParams.load_from_json(\".//epi_models//config//sample_input.json\")"
   ]
  },
  {
   "cell_type": "code",
   "execution_count": 15,
   "id": "received-swiss",
   "metadata": {},
   "outputs": [],
   "source": [
    "num_iterations = 1\n",
    "runner = DeterministicCompartmentalModelRunner(camp_params, num_iterations=num_iterations)"
   ]
  },
  {
   "cell_type": "code",
   "execution_count": 16,
   "id": "annoying-stanley",
   "metadata": {},
   "outputs": [
    {
     "data": {
      "text/plain": [
       "{'baseline_param_dict': {'transmission_reduction_factor': 1,\n",
       "  'isolation_capacity': 0.0,\n",
       "  'remove_symptomatic_rate': 0.0,\n",
       "  'first_high_risk_category_n': 2,\n",
       "  'remove_high_risk_rate': 0.0,\n",
       "  'icu_capacity': 0.0003,\n",
       "  'infection_matrix': array([[ 4.22809072,  0.76683669,  0.69660451,  1.69675934,  0.9419763 ,\n",
       "           0.40558608,  0.26184182,  0.13495187],\n",
       "         [ 1.03261083, 10.05606702,  1.01280489,  1.14206231,  1.56232239,\n",
       "           0.46542807,  0.1387554 ,  0.10195448],\n",
       "         [ 0.47648793,  1.33730962,  5.13565028,  2.80824944,  2.01839376,\n",
       "           1.07529096,  0.15740874,  0.09723487],\n",
       "         [ 1.69258432,  1.33778696,  2.53743288,  5.44312577,  2.97093189,\n",
       "           1.23122415,  0.43175245,  0.19069098],\n",
       "         [ 0.8846813 ,  2.10324815,  1.90233514,  3.04133909,  3.86404601,\n",
       "           1.23801107,  0.30903475,  0.21044958],\n",
       "         [ 0.92895678,  1.68534637,  1.71733168,  1.98331471,  2.14926742,\n",
       "           2.2260002 ,  0.57990652,  0.25079698],\n",
       "         [ 0.68072678,  0.57696998,  0.72899012,  1.3762413 ,  0.99483819,\n",
       "           1.00025976,  1.74279907,  0.52488937],\n",
       "         [ 0.65041013,  0.96432193,  0.50929962,  1.09691175,  1.33352542,\n",
       "           0.98824482,  1.26285789,  1.59330589]])}}"
      ]
     },
     "execution_count": 16,
     "metadata": {},
     "output_type": "execute_result"
    }
   ],
   "source": [
    "runner.do_nothing_scenario.__dict__"
   ]
  },
  {
   "cell_type": "code",
   "execution_count": 17,
   "id": "skilled-organizer",
   "metadata": {},
   "outputs": [
    {
     "data": {
      "text/plain": [
       "{'baseline_param_dict': {'transmission_reduction_factor': 0.9375,\n",
       "  'isolation_capacity': 0.01,\n",
       "  'remove_symptomatic_rate': 0.01,\n",
       "  'first_high_risk_category_n': 1,\n",
       "  'remove_high_risk_rate': 0.01,\n",
       "  'icu_capacity': 0.0003,\n",
       "  'infection_matrix': array([[ 4.22809072,  0.76683669,  0.69660451,  1.69675934,  0.9419763 ,\n",
       "           0.40558608,  0.26184182,  0.13495187],\n",
       "         [ 1.03261083, 10.05606702,  1.01280489,  1.14206231,  1.56232239,\n",
       "           0.46542807,  0.1387554 ,  0.10195448],\n",
       "         [ 0.47648793,  1.33730962,  5.13565028,  2.80824944,  2.01839376,\n",
       "           1.07529096,  0.15740874,  0.09723487],\n",
       "         [ 1.69258432,  1.33778696,  2.53743288,  5.44312577,  2.97093189,\n",
       "           1.23122415,  0.43175245,  0.19069098],\n",
       "         [ 0.8846813 ,  2.10324815,  1.90233514,  3.04133909,  3.86404601,\n",
       "           1.23801107,  0.30903475,  0.21044958],\n",
       "         [ 0.92895678,  1.68534637,  1.71733168,  1.98331471,  2.14926742,\n",
       "           2.2260002 ,  0.57990652,  0.25079698],\n",
       "         [ 0.68072678,  0.57696998,  0.72899012,  1.3762413 ,  0.99483819,\n",
       "           1.00025976,  1.74279907,  0.52488937],\n",
       "         [ 0.65041013,  0.96432193,  0.50929962,  1.09691175,  1.33352542,\n",
       "           0.98824482,  1.26285789,  1.59330589]])}}"
      ]
     },
     "execution_count": 17,
     "metadata": {},
     "output_type": "execute_result"
    }
   ],
   "source": [
    "runner.camp_baseline.__dict__"
   ]
  },
  {
   "cell_type": "code",
   "execution_count": 18,
   "id": "thorough-subscription",
   "metadata": {},
   "outputs": [
    {
     "data": {
      "text/plain": [
       "(1, 12)"
      ]
     },
     "execution_count": 18,
     "metadata": {},
     "output_type": "execute_result"
    }
   ],
   "source": [
    "runner.generated_params_df.shape"
   ]
  },
  {
   "cell_type": "code",
   "execution_count": 19,
   "id": "numerical-transcript",
   "metadata": {},
   "outputs": [
    {
     "name": "stdout",
     "output_type": "stream",
     "text": [
      "{'_is_copy': None, '_mgr': BlockManager\n",
      "Items: Index(['R0', 'LatentPeriod', 'RemovalPeriod', 'HospPeriod', 'DeathICUPeriod',\n",
      "       'DeathNoICUPeriod', 'latentRate', 'removalRate', 'hospRate',\n",
      "       'deathRateICU', 'deathRateNoICU', 'beta'],\n",
      "      dtype='object')\n",
      "Axis 1: RangeIndex(start=0, stop=1, step=1)\n",
      "FloatBlock: slice(0, 6, 1), 6 x 1, dtype: float64\n",
      "FloatBlock: slice(6, 7, 1), 1 x 1, dtype: float64\n",
      "FloatBlock: slice(7, 8, 1), 1 x 1, dtype: float64\n",
      "FloatBlock: slice(8, 9, 1), 1 x 1, dtype: float64\n",
      "FloatBlock: slice(9, 10, 1), 1 x 1, dtype: float64\n",
      "FloatBlock: slice(10, 11, 1), 1 x 1, dtype: float64\n",
      "FloatBlock: slice(11, 12, 1), 1 x 1, dtype: float64, '_item_cache': {'LatentPeriod': 0    3.861736\n",
      "Name: LatentPeriod, dtype: float64, 'RemovalPeriod': 0    5.647689\n",
      "Name: RemovalPeriod, dtype: float64, 'HospPeriod': 0    9.52303\n",
      "Name: HospPeriod, dtype: float64, 'DeathICUPeriod': 0    9.765847\n",
      "Name: DeathICUPeriod, dtype: float64, 'DeathNoICUPeriod': 0    1.765863\n",
      "Name: DeathNoICUPeriod, dtype: float64, 'removalRate': 0    0.177064\n",
      "Name: removalRate, dtype: float64, 'R0': 0    4.405565\n",
      "Name: R0, dtype: float64}, '_attrs': {}, '_flags': <Flags(allows_duplicate_labels=True)>}\n"
     ]
    }
   ],
   "source": [
    "print(runner.generated_params_df.__dict__)"
   ]
  },
  {
   "cell_type": "code",
   "execution_count": 20,
   "id": "italic-regard",
   "metadata": {},
   "outputs": [],
   "source": [
    "assert runner.model.infection_matrix.shape == (8, 8)"
   ]
  },
  {
   "cell_type": "code",
   "execution_count": 21,
   "id": "satisfactory-biography",
   "metadata": {},
   "outputs": [],
   "source": [
    "do_nothing_baseline, camp_baseline = runner.run_baselines()"
   ]
  },
  {
   "cell_type": "code",
   "execution_count": 22,
   "id": "spatial-failing",
   "metadata": {},
   "outputs": [],
   "source": [
    "better_hygiene_intervention_result, increase_icu_intervention_result, increase_remove_high_risk_result, \\\n",
    "               better_isolation_intervention_result, shiexlding_intervention_result = runner.run_different_scenarios()"
   ]
  },
  {
   "cell_type": "code",
   "execution_count": 23,
   "id": "typical-undergraduate",
   "metadata": {},
   "outputs": [],
   "source": [
    "better_hygiene_intervention_result = runner.run_better_hygiene_scenarios()"
   ]
  },
  {
   "cell_type": "code",
   "execution_count": 24,
   "id": "emerging-office",
   "metadata": {},
   "outputs": [
    {
     "data": {
      "text/plain": [
       "dict_keys(['5%|one_month', '5%|three_month', '5%|six_month', '10%|one_month', '10%|three_month', '10%|six_month', '15%|one_month', '15%|three_month', '15%|six_month'])"
      ]
     },
     "execution_count": 24,
     "metadata": {},
     "output_type": "execute_result"
    }
   ],
   "source": [
    "better_hygiene_intervention_result.keys()"
   ]
  },
  {
   "cell_type": "code",
   "execution_count": 25,
   "id": "expensive-profession",
   "metadata": {},
   "outputs": [],
   "source": [
    "do_nothing_baseline = do_nothing_baseline * camp_params.total_population"
   ]
  },
  {
   "cell_type": "code",
   "execution_count": 26,
   "id": "broad-assumption",
   "metadata": {},
   "outputs": [
    {
     "data": {
      "text/plain": [
       "0            0\n",
       "1        20000\n",
       "2        40000\n",
       "3        60000\n",
       "4        80000\n",
       "        ...   \n",
       "196    3920000\n",
       "197    3940000\n",
       "198    3960000\n",
       "199    3980000\n",
       "200    4000000\n",
       "Name: Time, Length: 201, dtype: int32"
      ]
     },
     "execution_count": 26,
     "metadata": {},
     "output_type": "execute_result"
    }
   ],
   "source": [
    "do_nothing_baseline['Time']"
   ]
  },
  {
   "cell_type": "code",
   "execution_count": 27,
   "id": "complex-access",
   "metadata": {},
   "outputs": [],
   "source": [
    "camp_baseline = camp_baseline * camp_params.total_population"
   ]
  },
  {
   "cell_type": "code",
   "execution_count": 28,
   "id": "chinese-birth",
   "metadata": {},
   "outputs": [
    {
     "name": "stdout",
     "output_type": "stream",
     "text": [
      "0 Susceptible: 0-9\n",
      "1 Exposed: 0-9\n",
      "2 Infected (symptomatic): 0-9\n",
      "3 Asymptomatically Infected: 0-9\n",
      "4 Recovered: 0-9\n",
      "5 Hospitalised: 0-9\n",
      "6 Critical: 0-9\n",
      "7 Deaths: 0-9\n",
      "8 Offsite: 0-9\n",
      "9 Quarantined: 0-9\n",
      "10 No ICU Care: 0-9\n",
      "11 Susceptible: 10-19\n",
      "12 Exposed: 10-19\n",
      "13 Infected (symptomatic): 10-19\n",
      "14 Asymptomatically Infected: 10-19\n",
      "15 Recovered: 10-19\n",
      "16 Hospitalised: 10-19\n",
      "17 Critical: 10-19\n",
      "18 Deaths: 10-19\n",
      "19 Offsite: 10-19\n",
      "20 Quarantined: 10-19\n",
      "21 No ICU Care: 10-19\n",
      "22 Susceptible: 20-29\n",
      "23 Exposed: 20-29\n",
      "24 Infected (symptomatic): 20-29\n",
      "25 Asymptomatically Infected: 20-29\n",
      "26 Recovered: 20-29\n",
      "27 Hospitalised: 20-29\n",
      "28 Critical: 20-29\n",
      "29 Deaths: 20-29\n",
      "30 Offsite: 20-29\n",
      "31 Quarantined: 20-29\n",
      "32 No ICU Care: 20-29\n",
      "33 Susceptible: 30-39\n",
      "34 Exposed: 30-39\n",
      "35 Infected (symptomatic): 30-39\n",
      "36 Asymptomatically Infected: 30-39\n",
      "37 Recovered: 30-39\n",
      "38 Hospitalised: 30-39\n",
      "39 Critical: 30-39\n",
      "40 Deaths: 30-39\n",
      "41 Offsite: 30-39\n",
      "42 Quarantined: 30-39\n",
      "43 No ICU Care: 30-39\n",
      "44 Susceptible: 40-49\n",
      "45 Exposed: 40-49\n",
      "46 Infected (symptomatic): 40-49\n",
      "47 Asymptomatically Infected: 40-49\n",
      "48 Recovered: 40-49\n",
      "49 Hospitalised: 40-49\n",
      "50 Critical: 40-49\n",
      "51 Deaths: 40-49\n",
      "52 Offsite: 40-49\n",
      "53 Quarantined: 40-49\n",
      "54 No ICU Care: 40-49\n",
      "55 Susceptible: 50-59\n",
      "56 Exposed: 50-59\n",
      "57 Infected (symptomatic): 50-59\n",
      "58 Asymptomatically Infected: 50-59\n",
      "59 Recovered: 50-59\n",
      "60 Hospitalised: 50-59\n",
      "61 Critical: 50-59\n",
      "62 Deaths: 50-59\n",
      "63 Offsite: 50-59\n",
      "64 Quarantined: 50-59\n",
      "65 No ICU Care: 50-59\n",
      "66 Susceptible: 60-69\n",
      "67 Exposed: 60-69\n",
      "68 Infected (symptomatic): 60-69\n",
      "69 Asymptomatically Infected: 60-69\n",
      "70 Recovered: 60-69\n",
      "71 Hospitalised: 60-69\n",
      "72 Critical: 60-69\n",
      "73 Deaths: 60-69\n",
      "74 Offsite: 60-69\n",
      "75 Quarantined: 60-69\n",
      "76 No ICU Care: 60-69\n",
      "77 Susceptible: 70+\n",
      "78 Exposed: 70+\n",
      "79 Infected (symptomatic): 70+\n",
      "80 Asymptomatically Infected: 70+\n",
      "81 Recovered: 70+\n",
      "82 Hospitalised: 70+\n",
      "83 Critical: 70+\n",
      "84 Deaths: 70+\n",
      "85 Offsite: 70+\n",
      "86 Quarantined: 70+\n",
      "87 No ICU Care: 70+\n",
      "88 Time\n",
      "89 R0\n",
      "90 latentRate\n",
      "91 removalRate\n",
      "92 hospRate\n",
      "93 deathRateICU\n",
      "94 deathRateNoIcu\n",
      "95 Susceptible\n",
      "96 Exposed\n",
      "97 Infected (symptomatic)\n",
      "98 Asymptomatically Infected\n",
      "99 Recovered\n",
      "100 Hospitalised\n",
      "101 Critical\n",
      "102 Deaths\n",
      "103 Offsite\n",
      "104 Quarantined\n",
      "105 No ICU Care\n"
     ]
    }
   ],
   "source": [
    "for i in range(len(do_nothing_baseline.columns)):\n",
    "    print(i, do_nothing_baseline.columns[i])"
   ]
  },
  {
   "cell_type": "code",
   "execution_count": 29,
   "id": "latin-horror",
   "metadata": {},
   "outputs": [
    {
     "data": {
      "text/plain": [
       "19996.100556672925"
      ]
     },
     "execution_count": 29,
     "metadata": {},
     "output_type": "execute_result"
    }
   ],
   "source": [
    "do_nothing_baseline['Susceptible'][2]"
   ]
  },
  {
   "cell_type": "code",
   "execution_count": 30,
   "id": "amber-relations",
   "metadata": {},
   "outputs": [
    {
     "data": {
      "text/plain": [
       "19996.10055667292"
      ]
     },
     "execution_count": 30,
     "metadata": {},
     "output_type": "execute_result"
    }
   ],
   "source": [
    "#do_nothing_baseline['Susceptible'][2].equals(do_nothing_baseline['Susceptible: 0-9'][2] + do_nothing_baseline['Susceptible: 10-19'][2] + do_nothing_baseline['Susceptible: 20-29'][2] + do_nothing_baseline['Susceptible: 30-39'][2] + do_nothing_baseline['Susceptible: 40-49'][2] + do_nothing_baseline['Susceptible: 50-59'][2] + do_nothing_baseline['Susceptible: 60-69'][2] + do_nothing_baseline['Susceptible: 70+'][2]  )\n",
    "do_nothing_baseline['Susceptible: 0-9'][2] + do_nothing_baseline['Susceptible: 10-19'][2] + do_nothing_baseline['Susceptible: 20-29'][2] + do_nothing_baseline['Susceptible: 30-39'][2] + do_nothing_baseline['Susceptible: 40-49'][2] + do_nothing_baseline['Susceptible: 50-59'][2] + do_nothing_baseline['Susceptible: 60-69'][2] + do_nothing_baseline['Susceptible: 70+'][2]  "
   ]
  },
  {
   "cell_type": "code",
   "execution_count": 31,
   "id": "ignored-statistics",
   "metadata": {},
   "outputs": [
    {
     "name": "stderr",
     "output_type": "stream",
     "text": [
      "D:\\Anaconda\\envs\\compartment\\lib\\site-packages\\ipykernel_launcher.py:1: FutureWarning: pandas.util.testing is deprecated. Use the functions in the public API at pandas.testing instead.\n",
      "  \"\"\"Entry point for launching an IPython kernel.\n"
     ]
    }
   ],
   "source": [
    "from pandas.util.testing import assert_almost_equal"
   ]
  },
  {
   "cell_type": "code",
   "execution_count": 32,
   "id": "australian-ordinance",
   "metadata": {
    "scrolled": true
   },
   "outputs": [],
   "source": [
    "#check within age divisions sum is equal to each compartment\n",
    "for j in ['Susceptible','Exposed','Infected (symptomatic)','Asymptomatically Infected','Recovered','Hospitalised','Critical','Deaths','Offsite','Quarantined','No ICU Care']:\n",
    "    for i in range(0,201):\n",
    "        assert_almost_equal(do_nothing_baseline[j][i],do_nothing_baseline[str(j)+': 0-9'][i] + do_nothing_baseline[str(j)+': 10-19'][i] + do_nothing_baseline[str(j)+': 20-29'][i] + do_nothing_baseline[str(j)+': 30-39'][i] + do_nothing_baseline[str(j)+': 40-49'][i] + do_nothing_baseline[str(j)+': 50-59'][i] + do_nothing_baseline[str(j)+': 60-69'][i] + do_nothing_baseline[str(j)+': 70+'][i]  )"
   ]
  },
  {
   "cell_type": "code",
   "execution_count": 33,
   "id": "hairy-physics",
   "metadata": {},
   "outputs": [],
   "source": [
    "sum=0\n",
    "for j in ['Susceptible','Exposed','Infected (symptomatic)','Asymptomatically Infected','Recovered','Hospitalised','Critical','Deaths','Offsite','Quarantined','No ICU Care']:\n",
    "    sum+=do_nothing_baseline[j]"
   ]
  },
  {
   "cell_type": "code",
   "execution_count": 34,
   "id": "informed-corruption",
   "metadata": {},
   "outputs": [],
   "source": [
    "#checking the total population by adding up the individual compartments and check equal to total population of the camp\n",
    "import numpy as np\n",
    "for i in range(0,201):\n",
    "    assert_almost_equal(sum[i],camp_params.total_population)"
   ]
  },
  {
   "cell_type": "code",
   "execution_count": 35,
   "id": "dated-reader",
   "metadata": {},
   "outputs": [],
   "source": [
    "sim_groups = do_nothing_baseline.groupby('R0')"
   ]
  },
  {
   "cell_type": "code",
   "execution_count": 36,
   "id": "competitive-stanley",
   "metadata": {},
   "outputs": [
    {
     "data": {
      "image/png": "[encoded data removed]",
      "text/plain": [
       "<Figure size 432x288 with 1 Axes>"
      ]
     },
     "metadata": {
      "needs_background": "light"
     },
     "output_type": "display_data"
    }
   ],
   "source": [
    "for index,group in sim_groups:\n",
    "    group['Susceptible'].plot()"
   ]
  },
  {
   "cell_type": "code",
   "execution_count": 37,
   "id": "indian-forty",
   "metadata": {},
   "outputs": [
    {
     "data": {
      "image/png": "[encoded data removed]",
      "text/plain": [
       "<Figure size 432x288 with 1 Axes>"
      ]
     },
     "metadata": {
      "needs_background": "light"
     },
     "output_type": "display_data"
    }
   ],
   "source": [
    "for index,group in sim_groups:\n",
    "    group['Infected (symptomatic)'].plot()"
   ]
  },
  {
   "cell_type": "code",
   "execution_count": 38,
   "id": "working-binary",
   "metadata": {},
   "outputs": [
    {
     "data": {
      "image/png": "[encoded data removed]",
      "text/plain": [
       "<Figure size 432x288 with 1 Axes>"
      ]
     },
     "metadata": {
      "needs_background": "light"
     },
     "output_type": "display_data"
    }
   ],
   "source": [
    "for index,group in sim_groups:\n",
    "    group['Deaths'].plot()"
   ]
  },
  {
   "cell_type": "code",
   "execution_count": 39,
   "id": "fifth-entrance",
   "metadata": {},
   "outputs": [
    {
     "data": {
      "image/png": "[encoded data removed]",
      "text/plain": [
       "<Figure size 432x288 with 1 Axes>"
      ]
     },
     "metadata": {
      "needs_background": "light"
     },
     "output_type": "display_data"
    }
   ],
   "source": [
    "for index,group in sim_groups:\n",
    "    group['Hospitalised'].plot()"
   ]
  },
  {
   "cell_type": "code",
   "execution_count": 40,
   "id": "reduced-tribe",
   "metadata": {
    "scrolled": true
   },
   "outputs": [
    {
     "data": {
      "image/png": "[encoded data removed]",
      "text/plain": [
       "<Figure size 432x288 with 1 Axes>"
      ]
     },
     "metadata": {
      "needs_background": "light"
     },
     "output_type": "display_data"
    }
   ],
   "source": [
    "for index,group in sim_groups:\n",
    "    group['Critical'].plot()"
   ]
  },
  {
   "cell_type": "code",
   "execution_count": 41,
   "id": "historical-saturn",
   "metadata": {},
   "outputs": [
    {
     "data": {
      "image/png": "[encoded data removed]",
      "text/plain": [
       "<Figure size 432x288 with 1 Axes>"
      ]
     },
     "metadata": {
      "needs_background": "light"
     },
     "output_type": "display_data"
    }
   ],
   "source": [
    "for index,group in sim_groups:\n",
    "    group['No ICU Care'].plot()"
   ]
  },
  {
   "cell_type": "code",
   "execution_count": 42,
   "id": "guided-bloom",
   "metadata": {},
   "outputs": [],
   "source": [
    "sim_groups_camp = camp_baseline.groupby('R0')"
   ]
  },
  {
   "cell_type": "code",
   "execution_count": 43,
   "id": "informational-warner",
   "metadata": {},
   "outputs": [
    {
     "data": {
      "image/png": "[encoded data removed]",
      "text/plain": [
       "<Figure size 432x288 with 1 Axes>"
      ]
     },
     "metadata": {
      "needs_background": "light"
     },
     "output_type": "display_data"
    }
   ],
   "source": [
    "for index,group in sim_groups_camp:\n",
    "    group['Susceptible'].plot()"
   ]
  },
  {
   "cell_type": "code",
   "execution_count": 44,
   "id": "artistic-breast",
   "metadata": {},
   "outputs": [
    {
     "data": {
      "image/png": "[encoded data removed]",
      "text/plain": [
       "<Figure size 432x288 with 1 Axes>"
      ]
     },
     "metadata": {
      "needs_background": "light"
     },
     "output_type": "display_data"
    }
   ],
   "source": [
    "for index,group in sim_groups_camp:\n",
    "    group['Infected (symptomatic)'].plot()"
   ]
  },
  {
   "cell_type": "code",
   "execution_count": 45,
   "id": "oriental-wisdom",
   "metadata": {},
   "outputs": [
    {
     "data": {
      "image/png": "[encoded data removed]",
      "text/plain": [
       "<Figure size 432x288 with 1 Axes>"
      ]
     },
     "metadata": {
      "needs_background": "light"
     },
     "output_type": "display_data"
    }
   ],
   "source": [
    "for index,group in sim_groups_camp:\n",
    "    group['Critical'].plot()"
   ]
  },
  {
   "cell_type": "code",
   "execution_count": 46,
   "id": "enclosed-hacker",
   "metadata": {},
   "outputs": [
    {
     "data": {
      "image/png": "[encoded data removed]",
      "text/plain": [
       "<Figure size 432x288 with 1 Axes>"
      ]
     },
     "metadata": {
      "needs_background": "light"
     },
     "output_type": "display_data"
    }
   ],
   "source": [
    "for index,group in sim_groups_camp:\n",
    "    group['No ICU Care'].plot()"
   ]
  },
  {
   "cell_type": "code",
   "execution_count": 47,
   "id": "honey-assurance",
   "metadata": {},
   "outputs": [
    {
     "data": {
      "image/png": "[encoded data removed]",
      "text/plain": [
       "<Figure size 432x288 with 1 Axes>"
      ]
     },
     "metadata": {
      "needs_background": "light"
     },
     "output_type": "display_data"
    }
   ],
   "source": [
    "for index,group in sim_groups_camp:\n",
    "    group['Offsite'].plot()"
   ]
  },
  {
   "cell_type": "code",
   "execution_count": 48,
   "id": "graduate-official",
   "metadata": {},
   "outputs": [
    {
     "data": {
      "image/png": "[encoded data removed]",
      "text/plain": [
       "<Figure size 432x288 with 1 Axes>"
      ]
     },
     "metadata": {
      "needs_background": "light"
     },
     "output_type": "display_data"
    }
   ],
   "source": [
    "for index,group in sim_groups_camp:\n",
    "    group['Quarantined'].plot()"
   ]
  },
  {
   "cell_type": "markdown",
   "id": "dried-circular",
   "metadata": {},
   "source": [
    "### Import the compartmental model and tinker with a few options\n",
    "1. Single interventions\n",
    "- better hygiene\n",
    "- remove symptomatic (test out if the capacity implementation is working)\n",
    "- increase ICU\n",
    "- remove high risk\n",
    "- shielding"
   ]
  },
  {
   "cell_type": "code",
   "execution_count": 49,
   "id": "adverse-collins",
   "metadata": {},
   "outputs": [],
   "source": [
    "# test with less iterations for sure 1000 is a nightmare to plot "
   ]
  },
  {
   "cell_type": "code",
   "execution_count": 50,
   "id": "pregnant-rental",
   "metadata": {},
   "outputs": [
    {
     "data": {
      "text/plain": [
       "20000"
      ]
     },
     "execution_count": 50,
     "metadata": {},
     "output_type": "execute_result"
    }
   ],
   "source": [
    "camp_params.total_population"
   ]
  },
  {
   "cell_type": "code",
   "execution_count": 51,
   "id": "geological-afternoon",
   "metadata": {},
   "outputs": [],
   "source": [
    "model = DeterministicCompartmentalModel(camp_params, num_iterations=num_iterations)"
   ]
  },
  {
   "cell_type": "code",
   "execution_count": 52,
   "id": "radio-spoke",
   "metadata": {},
   "outputs": [],
   "source": [
    "better_hygiene_6_month = SingleInterventionScenario(camp_params.total_population, [0], [180], model.infection_matrix, transmission_reduction_factor_inter=0.7)"
   ]
  },
  {
   "cell_type": "code",
   "execution_count": 53,
   "id": "annoying-component",
   "metadata": {},
   "outputs": [
    {
     "name": "stdout",
     "output_type": "stream",
     "text": [
      "Wall time: 106 ms\n"
     ]
    }
   ],
   "source": [
    "%%time\n",
    "better_hygiene_6_month_results = model.run_single_simulation(better_hygiene_6_month, generated_params_df = runner.generated_params_df)"
   ]
  },
  {
   "cell_type": "code",
   "execution_count": 54,
   "id": "federal-world",
   "metadata": {},
   "outputs": [],
   "source": [
    "better_hygiene_6_month_results = camp_params.total_population * better_hygiene_6_month_results"
   ]
  },
  {
   "cell_type": "code",
   "execution_count": 55,
   "id": "charming-percentage",
   "metadata": {},
   "outputs": [],
   "source": [
    "better_hygiene_6_month_groups = better_hygiene_6_month_results.groupby('R0')"
   ]
  },
  {
   "cell_type": "code",
   "execution_count": 61,
   "id": "canadian-ground",
   "metadata": {},
   "outputs": [
    {
     "data": {
      "image/png": "[encoded data removed]",
      "image/svg+xml": [
       "<?xml version=\"1.0\" encoding=\"utf-8\" standalone=\"no\"?>\r\n",
       "<!DOCTYPE svg PUBLIC \"-//W3C//DTD SVG 1.1//EN\"\r\n",
       "  \"http://www.w3.org/Graphics/SVG/1.1/DTD/svg11.dtd\">\r\n",
       "<!-- Created with matplotlib (https://matplotlib.org/) -->\r\n",
       "<svg height=\"248.518125pt\" version=\"1.1\" viewBox=\"0 0 388.0125 248.518125\" width=\"388.0125pt\" xmlns=\"http://www.w3.org/2000/svg\" xmlns:xlink=\"http://www.w3.org/1999/xlink\">\r\n",
       " <metadata>\r\n",
       "  <rdf:RDF xmlns:cc=\"http://creativecommons.org/ns#\" xmlns:dc=\"http://purl.org/dc/elements/1.1/\" xmlns:rdf=\"http://www.w3.org/1999/02/22-rdf-syntax-ns#\">\r\n",
       "   <cc:Work>\r\n",
       "    <dc:type rdf:resource=\"http://purl.org/dc/dcmitype/StillImage\"/>\r\n",
       "    <dc:date>2021-04-19T04:55:53.345449</dc:date>\r\n",
       "    <dc:format>image/svg+xml</dc:format>\r\n",
       "    <dc:creator>\r\n",
       "     <cc:Agent>\r\n",
       "      <dc:title>Matplotlib v3.3.4, https://matplotlib.org/</dc:title>\r\n",
       "     </cc:Agent>\r\n",
       "    </dc:creator>\r\n",
       "   </cc:Work>\r\n",
       "  </rdf:RDF>\r\n",
       " </metadata>\r\n",
       " <defs>\r\n",
       "  <style type=\"text/css\">*{stroke-linecap:butt;stroke-linejoin:round;}</style>\r\n",
       " </defs>\r\n",
       " <g id=\"figure_1\">\r\n",
       "  <g id=\"patch_1\">\r\n",
       "   <path d=\"M 0 248.518125 \r\n",
       "L 388.0125 248.518125 \r\n",
       "L 388.0125 0 \r\n",
       "L 0 0 \r\n",
       "z\r\n",
       "\" style=\"fill:none;\"/>\r\n",
       "  </g>\r\n",
       "  <g id=\"axes_1\">\r\n",
       "   <g id=\"patch_2\">\r\n",
       "    <path d=\"M 46.0125 224.64 \r\n",
       "L 380.8125 224.64 \r\n",
       "L 380.8125 7.2 \r\n",
       "L 46.0125 7.2 \r\n",
       "z\r\n",
       "\" style=\"fill:#ffffff;\"/>\r\n",
       "   </g>\r\n",
       "   <g id=\"matplotlib.axis_1\">\r\n",
       "    <g id=\"xtick_1\">\r\n",
       "     <g id=\"line2d_1\">\r\n",
       "      <defs>\r\n",
       "       <path d=\"M 0 0 \r\n",
       "L 0 3.5 \r\n",
       "\" id=\"md423b23ef7\" style=\"stroke:#000000;stroke-width:0.8;\"/>\r\n",
       "      </defs>\r\n",
       "      <g>\r\n",
       "       <use style=\"stroke:#000000;stroke-width:0.8;\" x=\"61.230682\" xlink:href=\"#md423b23ef7\" y=\"224.64\"/>\r\n",
       "      </g>\r\n",
       "     </g>\r\n",
       "     <g id=\"text_1\">\r\n",
       "      <!-- 0 -->\r\n",
       "      <g transform=\"translate(58.049432 239.238437)scale(0.1 -0.1)\">\r\n",
       "       <defs>\r\n",
       "        <path d=\"M 31.78125 66.40625 \r\n",
       "Q 24.171875 66.40625 20.328125 58.90625 \r\n",
       "Q 16.5 51.421875 16.5 36.375 \r\n",
       "Q 16.5 21.390625 20.328125 13.890625 \r\n",
       "Q 24.171875 6.390625 31.78125 6.390625 \r\n",
       "Q 39.453125 6.390625 43.28125 13.890625 \r\n",
       "Q 47.125 21.390625 47.125 36.375 \r\n",
       "Q 47.125 51.421875 43.28125 58.90625 \r\n",
       "Q 39.453125 66.40625 31.78125 66.40625 \r\n",
       "z\r\n",
       "M 31.78125 74.21875 \r\n",
       "Q 44.046875 74.21875 50.515625 64.515625 \r\n",
       "Q 56.984375 54.828125 56.984375 36.375 \r\n",
       "Q 56.984375 17.96875 50.515625 8.265625 \r\n",
       "Q 44.046875 -1.421875 31.78125 -1.421875 \r\n",
       "Q 19.53125 -1.421875 13.0625 8.265625 \r\n",
       "Q 6.59375 17.96875 6.59375 36.375 \r\n",
       "Q 6.59375 54.828125 13.0625 64.515625 \r\n",
       "Q 19.53125 74.21875 31.78125 74.21875 \r\n",
       "z\r\n",
       "\" id=\"DejaVuSans-48\"/>\r\n",
       "       </defs>\r\n",
       "       <use xlink:href=\"#DejaVuSans-48\"/>\r\n",
       "      </g>\r\n",
       "     </g>\r\n",
       "    </g>\r\n",
       "    <g id=\"xtick_2\">\r\n",
       "     <g id=\"line2d_2\">\r\n",
       "      <g>\r\n",
       "       <use style=\"stroke:#000000;stroke-width:0.8;\" x=\"99.276136\" xlink:href=\"#md423b23ef7\" y=\"224.64\"/>\r\n",
       "      </g>\r\n",
       "     </g>\r\n",
       "     <g id=\"text_2\">\r\n",
       "      <!-- 25 -->\r\n",
       "      <g transform=\"translate(92.913636 239.238437)scale(0.1 -0.1)\">\r\n",
       "       <defs>\r\n",
       "        <path d=\"M 19.1875 8.296875 \r\n",
       "L 53.609375 8.296875 \r\n",
       "L 53.609375 0 \r\n",
       "L 7.328125 0 \r\n",
       "L 7.328125 8.296875 \r\n",
       "Q 12.9375 14.109375 22.625 23.890625 \r\n",
       "Q 32.328125 33.6875 34.8125 36.53125 \r\n",
       "Q 39.546875 41.84375 41.421875 45.53125 \r\n",
       "Q 43.3125 49.21875 43.3125 52.78125 \r\n",
       "Q 43.3125 58.59375 39.234375 62.25 \r\n",
       "Q 35.15625 65.921875 28.609375 65.921875 \r\n",
       "Q 23.96875 65.921875 18.8125 64.3125 \r\n",
       "Q 13.671875 62.703125 7.8125 59.421875 \r\n",
       "L 7.8125 69.390625 \r\n",
       "Q 13.765625 71.78125 18.9375 73 \r\n",
       "Q 24.125 74.21875 28.421875 74.21875 \r\n",
       "Q 39.75 74.21875 46.484375 68.546875 \r\n",
       "Q 53.21875 62.890625 53.21875 53.421875 \r\n",
       "Q 53.21875 48.921875 51.53125 44.890625 \r\n",
       "Q 49.859375 40.875 45.40625 35.40625 \r\n",
       "Q 44.1875 33.984375 37.640625 27.21875 \r\n",
       "Q 31.109375 20.453125 19.1875 8.296875 \r\n",
       "z\r\n",
       "\" id=\"DejaVuSans-50\"/>\r\n",
       "        <path d=\"M 10.796875 72.90625 \r\n",
       "L 49.515625 72.90625 \r\n",
       "L 49.515625 64.59375 \r\n",
       "L 19.828125 64.59375 \r\n",
       "L 19.828125 46.734375 \r\n",
       "Q 21.96875 47.46875 24.109375 47.828125 \r\n",
       "Q 26.265625 48.1875 28.421875 48.1875 \r\n",
       "Q 40.625 48.1875 47.75 41.5 \r\n",
       "Q 54.890625 34.8125 54.890625 23.390625 \r\n",
       "Q 54.890625 11.625 47.5625 5.09375 \r\n",
       "Q 40.234375 -1.421875 26.90625 -1.421875 \r\n",
       "Q 22.3125 -1.421875 17.546875 -0.640625 \r\n",
       "Q 12.796875 0.140625 7.71875 1.703125 \r\n",
       "L 7.71875 11.625 \r\n",
       "Q 12.109375 9.234375 16.796875 8.0625 \r\n",
       "Q 21.484375 6.890625 26.703125 6.890625 \r\n",
       "Q 35.15625 6.890625 40.078125 11.328125 \r\n",
       "Q 45.015625 15.765625 45.015625 23.390625 \r\n",
       "Q 45.015625 31 40.078125 35.4375 \r\n",
       "Q 35.15625 39.890625 26.703125 39.890625 \r\n",
       "Q 22.75 39.890625 18.8125 39.015625 \r\n",
       "Q 14.890625 38.140625 10.796875 36.28125 \r\n",
       "z\r\n",
       "\" id=\"DejaVuSans-53\"/>\r\n",
       "       </defs>\r\n",
       "       <use xlink:href=\"#DejaVuSans-50\"/>\r\n",
       "       <use x=\"63.623047\" xlink:href=\"#DejaVuSans-53\"/>\r\n",
       "      </g>\r\n",
       "     </g>\r\n",
       "    </g>\r\n",
       "    <g id=\"xtick_3\">\r\n",
       "     <g id=\"line2d_3\">\r\n",
       "      <g>\r\n",
       "       <use style=\"stroke:#000000;stroke-width:0.8;\" x=\"137.321591\" xlink:href=\"#md423b23ef7\" y=\"224.64\"/>\r\n",
       "      </g>\r\n",
       "     </g>\r\n",
       "     <g id=\"text_3\">\r\n",
       "      <!-- 50 -->\r\n",
       "      <g transform=\"translate(130.959091 239.238437)scale(0.1 -0.1)\">\r\n",
       "       <use xlink:href=\"#DejaVuSans-53\"/>\r\n",
       "       <use x=\"63.623047\" xlink:href=\"#DejaVuSans-48\"/>\r\n",
       "      </g>\r\n",
       "     </g>\r\n",
       "    </g>\r\n",
       "    <g id=\"xtick_4\">\r\n",
       "     <g id=\"line2d_4\">\r\n",
       "      <g>\r\n",
       "       <use style=\"stroke:#000000;stroke-width:0.8;\" x=\"175.367045\" xlink:href=\"#md423b23ef7\" y=\"224.64\"/>\r\n",
       "      </g>\r\n",
       "     </g>\r\n",
       "     <g id=\"text_4\">\r\n",
       "      <!-- 75 -->\r\n",
       "      <g transform=\"translate(169.004545 239.238437)scale(0.1 -0.1)\">\r\n",
       "       <defs>\r\n",
       "        <path d=\"M 8.203125 72.90625 \r\n",
       "L 55.078125 72.90625 \r\n",
       "L 55.078125 68.703125 \r\n",
       "L 28.609375 0 \r\n",
       "L 18.3125 0 \r\n",
       "L 43.21875 64.59375 \r\n",
       "L 8.203125 64.59375 \r\n",
       "z\r\n",
       "\" id=\"DejaVuSans-55\"/>\r\n",
       "       </defs>\r\n",
       "       <use xlink:href=\"#DejaVuSans-55\"/>\r\n",
       "       <use x=\"63.623047\" xlink:href=\"#DejaVuSans-53\"/>\r\n",
       "      </g>\r\n",
       "     </g>\r\n",
       "    </g>\r\n",
       "    <g id=\"xtick_5\">\r\n",
       "     <g id=\"line2d_5\">\r\n",
       "      <g>\r\n",
       "       <use style=\"stroke:#000000;stroke-width:0.8;\" x=\"213.4125\" xlink:href=\"#md423b23ef7\" y=\"224.64\"/>\r\n",
       "      </g>\r\n",
       "     </g>\r\n",
       "     <g id=\"text_5\">\r\n",
       "      <!-- 100 -->\r\n",
       "      <g transform=\"translate(203.86875 239.238437)scale(0.1 -0.1)\">\r\n",
       "       <defs>\r\n",
       "        <path d=\"M 12.40625 8.296875 \r\n",
       "L 28.515625 8.296875 \r\n",
       "L 28.515625 63.921875 \r\n",
       "L 10.984375 60.40625 \r\n",
       "L 10.984375 69.390625 \r\n",
       "L 28.421875 72.90625 \r\n",
       "L 38.28125 72.90625 \r\n",
       "L 38.28125 8.296875 \r\n",
       "L 54.390625 8.296875 \r\n",
       "L 54.390625 0 \r\n",
       "L 12.40625 0 \r\n",
       "z\r\n",
       "\" id=\"DejaVuSans-49\"/>\r\n",
       "       </defs>\r\n",
       "       <use xlink:href=\"#DejaVuSans-49\"/>\r\n",
       "       <use x=\"63.623047\" xlink:href=\"#DejaVuSans-48\"/>\r\n",
       "       <use x=\"127.246094\" xlink:href=\"#DejaVuSans-48\"/>\r\n",
       "      </g>\r\n",
       "     </g>\r\n",
       "    </g>\r\n",
       "    <g id=\"xtick_6\">\r\n",
       "     <g id=\"line2d_6\">\r\n",
       "      <g>\r\n",
       "       <use style=\"stroke:#000000;stroke-width:0.8;\" x=\"251.457955\" xlink:href=\"#md423b23ef7\" y=\"224.64\"/>\r\n",
       "      </g>\r\n",
       "     </g>\r\n",
       "     <g id=\"text_6\">\r\n",
       "      <!-- 125 -->\r\n",
       "      <g transform=\"translate(241.914205 239.238437)scale(0.1 -0.1)\">\r\n",
       "       <use xlink:href=\"#DejaVuSans-49\"/>\r\n",
       "       <use x=\"63.623047\" xlink:href=\"#DejaVuSans-50\"/>\r\n",
       "       <use x=\"127.246094\" xlink:href=\"#DejaVuSans-53\"/>\r\n",
       "      </g>\r\n",
       "     </g>\r\n",
       "    </g>\r\n",
       "    <g id=\"xtick_7\">\r\n",
       "     <g id=\"line2d_7\">\r\n",
       "      <g>\r\n",
       "       <use style=\"stroke:#000000;stroke-width:0.8;\" x=\"289.503409\" xlink:href=\"#md423b23ef7\" y=\"224.64\"/>\r\n",
       "      </g>\r\n",
       "     </g>\r\n",
       "     <g id=\"text_7\">\r\n",
       "      <!-- 150 -->\r\n",
       "      <g transform=\"translate(279.959659 239.238437)scale(0.1 -0.1)\">\r\n",
       "       <use xlink:href=\"#DejaVuSans-49\"/>\r\n",
       "       <use x=\"63.623047\" xlink:href=\"#DejaVuSans-53\"/>\r\n",
       "       <use x=\"127.246094\" xlink:href=\"#DejaVuSans-48\"/>\r\n",
       "      </g>\r\n",
       "     </g>\r\n",
       "    </g>\r\n",
       "    <g id=\"xtick_8\">\r\n",
       "     <g id=\"line2d_8\">\r\n",
       "      <g>\r\n",
       "       <use style=\"stroke:#000000;stroke-width:0.8;\" x=\"327.548864\" xlink:href=\"#md423b23ef7\" y=\"224.64\"/>\r\n",
       "      </g>\r\n",
       "     </g>\r\n",
       "     <g id=\"text_8\">\r\n",
       "      <!-- 175 -->\r\n",
       "      <g transform=\"translate(318.005114 239.238437)scale(0.1 -0.1)\">\r\n",
       "       <use xlink:href=\"#DejaVuSans-49\"/>\r\n",
       "       <use x=\"63.623047\" xlink:href=\"#DejaVuSans-55\"/>\r\n",
       "       <use x=\"127.246094\" xlink:href=\"#DejaVuSans-53\"/>\r\n",
       "      </g>\r\n",
       "     </g>\r\n",
       "    </g>\r\n",
       "    <g id=\"xtick_9\">\r\n",
       "     <g id=\"line2d_9\">\r\n",
       "      <g>\r\n",
       "       <use style=\"stroke:#000000;stroke-width:0.8;\" x=\"365.594318\" xlink:href=\"#md423b23ef7\" y=\"224.64\"/>\r\n",
       "      </g>\r\n",
       "     </g>\r\n",
       "     <g id=\"text_9\">\r\n",
       "      <!-- 200 -->\r\n",
       "      <g transform=\"translate(356.050568 239.238437)scale(0.1 -0.1)\">\r\n",
       "       <use xlink:href=\"#DejaVuSans-50\"/>\r\n",
       "       <use x=\"63.623047\" xlink:href=\"#DejaVuSans-48\"/>\r\n",
       "       <use x=\"127.246094\" xlink:href=\"#DejaVuSans-48\"/>\r\n",
       "      </g>\r\n",
       "     </g>\r\n",
       "    </g>\r\n",
       "   </g>\r\n",
       "   <g id=\"matplotlib.axis_2\">\r\n",
       "    <g id=\"ytick_1\">\r\n",
       "     <g id=\"line2d_10\">\r\n",
       "      <defs>\r\n",
       "       <path d=\"M 0 0 \r\n",
       "L -3.5 0 \r\n",
       "\" id=\"m5bc32eefe3\" style=\"stroke:#000000;stroke-width:0.8;\"/>\r\n",
       "      </defs>\r\n",
       "      <g>\r\n",
       "       <use style=\"stroke:#000000;stroke-width:0.8;\" x=\"46.0125\" xlink:href=\"#m5bc32eefe3\" y=\"215.652122\"/>\r\n",
       "      </g>\r\n",
       "     </g>\r\n",
       "     <g id=\"text_10\">\r\n",
       "      <!-- 4000 -->\r\n",
       "      <g transform=\"translate(13.5625 219.451341)scale(0.1 -0.1)\">\r\n",
       "       <defs>\r\n",
       "        <path d=\"M 37.796875 64.3125 \r\n",
       "L 12.890625 25.390625 \r\n",
       "L 37.796875 25.390625 \r\n",
       "z\r\n",
       "M 35.203125 72.90625 \r\n",
       "L 47.609375 72.90625 \r\n",
       "L 47.609375 25.390625 \r\n",
       "L 58.015625 25.390625 \r\n",
       "L 58.015625 17.1875 \r\n",
       "L 47.609375 17.1875 \r\n",
       "L 47.609375 0 \r\n",
       "L 37.796875 0 \r\n",
       "L 37.796875 17.1875 \r\n",
       "L 4.890625 17.1875 \r\n",
       "L 4.890625 26.703125 \r\n",
       "z\r\n",
       "\" id=\"DejaVuSans-52\"/>\r\n",
       "       </defs>\r\n",
       "       <use xlink:href=\"#DejaVuSans-52\"/>\r\n",
       "       <use x=\"63.623047\" xlink:href=\"#DejaVuSans-48\"/>\r\n",
       "       <use x=\"127.246094\" xlink:href=\"#DejaVuSans-48\"/>\r\n",
       "       <use x=\"190.869141\" xlink:href=\"#DejaVuSans-48\"/>\r\n",
       "      </g>\r\n",
       "     </g>\r\n",
       "    </g>\r\n",
       "    <g id=\"ytick_2\">\r\n",
       "     <g id=\"line2d_11\">\r\n",
       "      <g>\r\n",
       "       <use style=\"stroke:#000000;stroke-width:0.8;\" x=\"46.0125\" xlink:href=\"#m5bc32eefe3\" y=\"190.827959\"/>\r\n",
       "      </g>\r\n",
       "     </g>\r\n",
       "     <g id=\"text_11\">\r\n",
       "      <!-- 6000 -->\r\n",
       "      <g transform=\"translate(13.5625 194.627177)scale(0.1 -0.1)\">\r\n",
       "       <defs>\r\n",
       "        <path d=\"M 33.015625 40.375 \r\n",
       "Q 26.375 40.375 22.484375 35.828125 \r\n",
       "Q 18.609375 31.296875 18.609375 23.390625 \r\n",
       "Q 18.609375 15.53125 22.484375 10.953125 \r\n",
       "Q 26.375 6.390625 33.015625 6.390625 \r\n",
       "Q 39.65625 6.390625 43.53125 10.953125 \r\n",
       "Q 47.40625 15.53125 47.40625 23.390625 \r\n",
       "Q 47.40625 31.296875 43.53125 35.828125 \r\n",
       "Q 39.65625 40.375 33.015625 40.375 \r\n",
       "z\r\n",
       "M 52.59375 71.296875 \r\n",
       "L 52.59375 62.3125 \r\n",
       "Q 48.875 64.0625 45.09375 64.984375 \r\n",
       "Q 41.3125 65.921875 37.59375 65.921875 \r\n",
       "Q 27.828125 65.921875 22.671875 59.328125 \r\n",
       "Q 17.53125 52.734375 16.796875 39.40625 \r\n",
       "Q 19.671875 43.65625 24.015625 45.921875 \r\n",
       "Q 28.375 48.1875 33.59375 48.1875 \r\n",
       "Q 44.578125 48.1875 50.953125 41.515625 \r\n",
       "Q 57.328125 34.859375 57.328125 23.390625 \r\n",
       "Q 57.328125 12.15625 50.6875 5.359375 \r\n",
       "Q 44.046875 -1.421875 33.015625 -1.421875 \r\n",
       "Q 20.359375 -1.421875 13.671875 8.265625 \r\n",
       "Q 6.984375 17.96875 6.984375 36.375 \r\n",
       "Q 6.984375 53.65625 15.1875 63.9375 \r\n",
       "Q 23.390625 74.21875 37.203125 74.21875 \r\n",
       "Q 40.921875 74.21875 44.703125 73.484375 \r\n",
       "Q 48.484375 72.75 52.59375 71.296875 \r\n",
       "z\r\n",
       "\" id=\"DejaVuSans-54\"/>\r\n",
       "       </defs>\r\n",
       "       <use xlink:href=\"#DejaVuSans-54\"/>\r\n",
       "       <use x=\"63.623047\" xlink:href=\"#DejaVuSans-48\"/>\r\n",
       "       <use x=\"127.246094\" xlink:href=\"#DejaVuSans-48\"/>\r\n",
       "       <use x=\"190.869141\" xlink:href=\"#DejaVuSans-48\"/>\r\n",
       "      </g>\r\n",
       "     </g>\r\n",
       "    </g>\r\n",
       "    <g id=\"ytick_3\">\r\n",
       "     <g id=\"line2d_12\">\r\n",
       "      <g>\r\n",
       "       <use style=\"stroke:#000000;stroke-width:0.8;\" x=\"46.0125\" xlink:href=\"#m5bc32eefe3\" y=\"166.003795\"/>\r\n",
       "      </g>\r\n",
       "     </g>\r\n",
       "     <g id=\"text_12\">\r\n",
       "      <!-- 8000 -->\r\n",
       "      <g transform=\"translate(13.5625 169.803013)scale(0.1 -0.1)\">\r\n",
       "       <defs>\r\n",
       "        <path d=\"M 31.78125 34.625 \r\n",
       "Q 24.75 34.625 20.71875 30.859375 \r\n",
       "Q 16.703125 27.09375 16.703125 20.515625 \r\n",
       "Q 16.703125 13.921875 20.71875 10.15625 \r\n",
       "Q 24.75 6.390625 31.78125 6.390625 \r\n",
       "Q 38.8125 6.390625 42.859375 10.171875 \r\n",
       "Q 46.921875 13.96875 46.921875 20.515625 \r\n",
       "Q 46.921875 27.09375 42.890625 30.859375 \r\n",
       "Q 38.875 34.625 31.78125 34.625 \r\n",
       "z\r\n",
       "M 21.921875 38.8125 \r\n",
       "Q 15.578125 40.375 12.03125 44.71875 \r\n",
       "Q 8.5 49.078125 8.5 55.328125 \r\n",
       "Q 8.5 64.0625 14.71875 69.140625 \r\n",
       "Q 20.953125 74.21875 31.78125 74.21875 \r\n",
       "Q 42.671875 74.21875 48.875 69.140625 \r\n",
       "Q 55.078125 64.0625 55.078125 55.328125 \r\n",
       "Q 55.078125 49.078125 51.53125 44.71875 \r\n",
       "Q 48 40.375 41.703125 38.8125 \r\n",
       "Q 48.828125 37.15625 52.796875 32.3125 \r\n",
       "Q 56.78125 27.484375 56.78125 20.515625 \r\n",
       "Q 56.78125 9.90625 50.3125 4.234375 \r\n",
       "Q 43.84375 -1.421875 31.78125 -1.421875 \r\n",
       "Q 19.734375 -1.421875 13.25 4.234375 \r\n",
       "Q 6.78125 9.90625 6.78125 20.515625 \r\n",
       "Q 6.78125 27.484375 10.78125 32.3125 \r\n",
       "Q 14.796875 37.15625 21.921875 38.8125 \r\n",
       "z\r\n",
       "M 18.3125 54.390625 \r\n",
       "Q 18.3125 48.734375 21.84375 45.5625 \r\n",
       "Q 25.390625 42.390625 31.78125 42.390625 \r\n",
       "Q 38.140625 42.390625 41.71875 45.5625 \r\n",
       "Q 45.3125 48.734375 45.3125 54.390625 \r\n",
       "Q 45.3125 60.0625 41.71875 63.234375 \r\n",
       "Q 38.140625 66.40625 31.78125 66.40625 \r\n",
       "Q 25.390625 66.40625 21.84375 63.234375 \r\n",
       "Q 18.3125 60.0625 18.3125 54.390625 \r\n",
       "z\r\n",
       "\" id=\"DejaVuSans-56\"/>\r\n",
       "       </defs>\r\n",
       "       <use xlink:href=\"#DejaVuSans-56\"/>\r\n",
       "       <use x=\"63.623047\" xlink:href=\"#DejaVuSans-48\"/>\r\n",
       "       <use x=\"127.246094\" xlink:href=\"#DejaVuSans-48\"/>\r\n",
       "       <use x=\"190.869141\" xlink:href=\"#DejaVuSans-48\"/>\r\n",
       "      </g>\r\n",
       "     </g>\r\n",
       "    </g>\r\n",
       "    <g id=\"ytick_4\">\r\n",
       "     <g id=\"line2d_13\">\r\n",
       "      <g>\r\n",
       "       <use style=\"stroke:#000000;stroke-width:0.8;\" x=\"46.0125\" xlink:href=\"#m5bc32eefe3\" y=\"141.179631\"/>\r\n",
       "      </g>\r\n",
       "     </g>\r\n",
       "     <g id=\"text_13\">\r\n",
       "      <!-- 10000 -->\r\n",
       "      <g transform=\"translate(7.2 144.97885)scale(0.1 -0.1)\">\r\n",
       "       <use xlink:href=\"#DejaVuSans-49\"/>\r\n",
       "       <use x=\"63.623047\" xlink:href=\"#DejaVuSans-48\"/>\r\n",
       "       <use x=\"127.246094\" xlink:href=\"#DejaVuSans-48\"/>\r\n",
       "       <use x=\"190.869141\" xlink:href=\"#DejaVuSans-48\"/>\r\n",
       "       <use x=\"254.492188\" xlink:href=\"#DejaVuSans-48\"/>\r\n",
       "      </g>\r\n",
       "     </g>\r\n",
       "    </g>\r\n",
       "    <g id=\"ytick_5\">\r\n",
       "     <g id=\"line2d_14\">\r\n",
       "      <g>\r\n",
       "       <use style=\"stroke:#000000;stroke-width:0.8;\" x=\"46.0125\" xlink:href=\"#m5bc32eefe3\" y=\"116.355467\"/>\r\n",
       "      </g>\r\n",
       "     </g>\r\n",
       "     <g id=\"text_14\">\r\n",
       "      <!-- 12000 -->\r\n",
       "      <g transform=\"translate(7.2 120.154686)scale(0.1 -0.1)\">\r\n",
       "       <use xlink:href=\"#DejaVuSans-49\"/>\r\n",
       "       <use x=\"63.623047\" xlink:href=\"#DejaVuSans-50\"/>\r\n",
       "       <use x=\"127.246094\" xlink:href=\"#DejaVuSans-48\"/>\r\n",
       "       <use x=\"190.869141\" xlink:href=\"#DejaVuSans-48\"/>\r\n",
       "       <use x=\"254.492188\" xlink:href=\"#DejaVuSans-48\"/>\r\n",
       "      </g>\r\n",
       "     </g>\r\n",
       "    </g>\r\n",
       "    <g id=\"ytick_6\">\r\n",
       "     <g id=\"line2d_15\">\r\n",
       "      <g>\r\n",
       "       <use style=\"stroke:#000000;stroke-width:0.8;\" x=\"46.0125\" xlink:href=\"#m5bc32eefe3\" y=\"91.531303\"/>\r\n",
       "      </g>\r\n",
       "     </g>\r\n",
       "     <g id=\"text_15\">\r\n",
       "      <!-- 14000 -->\r\n",
       "      <g transform=\"translate(7.2 95.330522)scale(0.1 -0.1)\">\r\n",
       "       <use xlink:href=\"#DejaVuSans-49\"/>\r\n",
       "       <use x=\"63.623047\" xlink:href=\"#DejaVuSans-52\"/>\r\n",
       "       <use x=\"127.246094\" xlink:href=\"#DejaVuSans-48\"/>\r\n",
       "       <use x=\"190.869141\" xlink:href=\"#DejaVuSans-48\"/>\r\n",
       "       <use x=\"254.492188\" xlink:href=\"#DejaVuSans-48\"/>\r\n",
       "      </g>\r\n",
       "     </g>\r\n",
       "    </g>\r\n",
       "    <g id=\"ytick_7\">\r\n",
       "     <g id=\"line2d_16\">\r\n",
       "      <g>\r\n",
       "       <use style=\"stroke:#000000;stroke-width:0.8;\" x=\"46.0125\" xlink:href=\"#m5bc32eefe3\" y=\"66.70714\"/>\r\n",
       "      </g>\r\n",
       "     </g>\r\n",
       "     <g id=\"text_16\">\r\n",
       "      <!-- 16000 -->\r\n",
       "      <g transform=\"translate(7.2 70.506358)scale(0.1 -0.1)\">\r\n",
       "       <use xlink:href=\"#DejaVuSans-49\"/>\r\n",
       "       <use x=\"63.623047\" xlink:href=\"#DejaVuSans-54\"/>\r\n",
       "       <use x=\"127.246094\" xlink:href=\"#DejaVuSans-48\"/>\r\n",
       "       <use x=\"190.869141\" xlink:href=\"#DejaVuSans-48\"/>\r\n",
       "       <use x=\"254.492188\" xlink:href=\"#DejaVuSans-48\"/>\r\n",
       "      </g>\r\n",
       "     </g>\r\n",
       "    </g>\r\n",
       "    <g id=\"ytick_8\">\r\n",
       "     <g id=\"line2d_17\">\r\n",
       "      <g>\r\n",
       "       <use style=\"stroke:#000000;stroke-width:0.8;\" x=\"46.0125\" xlink:href=\"#m5bc32eefe3\" y=\"41.882976\"/>\r\n",
       "      </g>\r\n",
       "     </g>\r\n",
       "     <g id=\"text_17\">\r\n",
       "      <!-- 18000 -->\r\n",
       "      <g transform=\"translate(7.2 45.682195)scale(0.1 -0.1)\">\r\n",
       "       <use xlink:href=\"#DejaVuSans-49\"/>\r\n",
       "       <use x=\"63.623047\" xlink:href=\"#DejaVuSans-56\"/>\r\n",
       "       <use x=\"127.246094\" xlink:href=\"#DejaVuSans-48\"/>\r\n",
       "       <use x=\"190.869141\" xlink:href=\"#DejaVuSans-48\"/>\r\n",
       "       <use x=\"254.492188\" xlink:href=\"#DejaVuSans-48\"/>\r\n",
       "      </g>\r\n",
       "     </g>\r\n",
       "    </g>\r\n",
       "    <g id=\"ytick_9\">\r\n",
       "     <g id=\"line2d_18\">\r\n",
       "      <g>\r\n",
       "       <use style=\"stroke:#000000;stroke-width:0.8;\" x=\"46.0125\" xlink:href=\"#m5bc32eefe3\" y=\"17.058812\"/>\r\n",
       "      </g>\r\n",
       "     </g>\r\n",
       "     <g id=\"text_18\">\r\n",
       "      <!-- 20000 -->\r\n",
       "      <g transform=\"translate(7.2 20.858031)scale(0.1 -0.1)\">\r\n",
       "       <use xlink:href=\"#DejaVuSans-50\"/>\r\n",
       "       <use x=\"63.623047\" xlink:href=\"#DejaVuSans-48\"/>\r\n",
       "       <use x=\"127.246094\" xlink:href=\"#DejaVuSans-48\"/>\r\n",
       "       <use x=\"190.869141\" xlink:href=\"#DejaVuSans-48\"/>\r\n",
       "       <use x=\"254.492188\" xlink:href=\"#DejaVuSans-48\"/>\r\n",
       "      </g>\r\n",
       "     </g>\r\n",
       "    </g>\r\n",
       "   </g>\r\n",
       "   <g id=\"line2d_19\">\r\n",
       "    <path clip-path=\"url(#p3241d8f0d7)\" d=\"M 61.230682 17.083636 \r\n",
       "L 88.623409 17.343516 \r\n",
       "L 99.276136 17.646378 \r\n",
       "L 106.885227 18.033842 \r\n",
       "L 112.9725 18.51474 \r\n",
       "L 119.059773 19.226089 \r\n",
       "L 123.625227 19.973772 \r\n",
       "L 128.190682 20.972084 \r\n",
       "L 131.234318 21.815401 \r\n",
       "L 134.277955 22.834061 \r\n",
       "L 137.321591 24.061884 \r\n",
       "L 140.365227 25.537994 \r\n",
       "L 143.408864 27.307081 \r\n",
       "L 146.4525 29.419411 \r\n",
       "L 149.496136 31.930371 \r\n",
       "L 152.539773 34.899437 \r\n",
       "L 155.583409 38.388294 \r\n",
       "L 158.627045 42.457936 \r\n",
       "L 161.670682 47.164562 \r\n",
       "L 164.714318 52.554267 \r\n",
       "L 167.757955 58.656711 \r\n",
       "L 170.801591 65.478276 \r\n",
       "L 173.845227 72.995595 \r\n",
       "L 176.888864 81.150631 \r\n",
       "L 179.9325 89.848661 \r\n",
       "L 184.497955 103.622719 \r\n",
       "L 195.150682 136.207868 \r\n",
       "L 198.194318 144.874098 \r\n",
       "L 201.237955 153.00786 \r\n",
       "L 204.281591 160.527218 \r\n",
       "L 207.325227 167.385108 \r\n",
       "L 210.368864 173.565858 \r\n",
       "L 213.4125 179.079588 \r\n",
       "L 216.456136 183.955761 \r\n",
       "L 219.499773 188.236913 \r\n",
       "L 222.543409 191.973197 \r\n",
       "L 225.587045 195.218031 \r\n",
       "L 228.630682 198.024896 \r\n",
       "L 231.674318 200.445157 \r\n",
       "L 234.717955 202.526716 \r\n",
       "L 237.761591 204.3133 \r\n",
       "L 240.805227 205.844187 \r\n",
       "L 243.848864 207.154241 \r\n",
       "L 246.8925 208.274127 \r\n",
       "L 251.457955 209.655002 \r\n",
       "L 256.023409 210.743381 \r\n",
       "L 260.588864 211.60025 \r\n",
       "L 266.676136 212.465248 \r\n",
       "L 272.763409 213.09265 \r\n",
       "L 280.3725 213.639888 \r\n",
       "L 289.503409 214.062481 \r\n",
       "L 301.677955 214.384875 \r\n",
       "L 319.939773 214.604754 \r\n",
       "L 354.941591 214.73879 \r\n",
       "L 365.594318 214.756364 \r\n",
       "L 365.594318 214.756364 \r\n",
       "\" style=\"fill:none;stroke:#1f77b4;stroke-linecap:square;stroke-width:1.5;\"/>\r\n",
       "   </g>\r\n",
       "   <g id=\"patch_3\">\r\n",
       "    <path d=\"M 46.0125 224.64 \r\n",
       "L 46.0125 7.2 \r\n",
       "\" style=\"fill:none;stroke:#000000;stroke-linecap:square;stroke-linejoin:miter;stroke-width:0.8;\"/>\r\n",
       "   </g>\r\n",
       "   <g id=\"patch_4\">\r\n",
       "    <path d=\"M 380.8125 224.64 \r\n",
       "L 380.8125 7.2 \r\n",
       "\" style=\"fill:none;stroke:#000000;stroke-linecap:square;stroke-linejoin:miter;stroke-width:0.8;\"/>\r\n",
       "   </g>\r\n",
       "   <g id=\"patch_5\">\r\n",
       "    <path d=\"M 46.0125 224.64 \r\n",
       "L 380.8125 224.64 \r\n",
       "\" style=\"fill:none;stroke:#000000;stroke-linecap:square;stroke-linejoin:miter;stroke-width:0.8;\"/>\r\n",
       "   </g>\r\n",
       "   <g id=\"patch_6\">\r\n",
       "    <path d=\"M 46.0125 7.2 \r\n",
       "L 380.8125 7.2 \r\n",
       "\" style=\"fill:none;stroke:#000000;stroke-linecap:square;stroke-linejoin:miter;stroke-width:0.8;\"/>\r\n",
       "   </g>\r\n",
       "  </g>\r\n",
       " </g>\r\n",
       " <defs>\r\n",
       "  <clipPath id=\"p3241d8f0d7\">\r\n",
       "   <rect height=\"217.44\" width=\"334.8\" x=\"46.0125\" y=\"7.2\"/>\r\n",
       "  </clipPath>\r\n",
       " </defs>\r\n",
       "</svg>\r\n"
      ],
      "text/plain": [
       "<Figure size 432x288 with 1 Axes>"
      ]
     },
     "metadata": {
      "needs_background": "light"
     },
     "output_type": "display_data"
    }
   ],
   "source": [
    "for index,group in better_hygiene_6_month_groups:\n",
    "    group['Susceptible'].plot()"
   ]
  },
  {
   "cell_type": "code",
   "execution_count": 56,
   "id": "wanted-morocco",
   "metadata": {},
   "outputs": [
    {
     "data": {
      "image/png": "[encoded data removed]",
      "text/plain": [
       "<Figure size 432x288 with 1 Axes>"
      ]
     },
     "metadata": {
      "needs_background": "light"
     },
     "output_type": "display_data"
    }
   ],
   "source": [
    "for index,group in better_hygiene_6_month_groups:\n",
    "    group['Infected (symptomatic)'].plot()"
   ]
  },
  {
   "cell_type": "code",
   "execution_count": 60,
   "id": "wireless-valentine",
   "metadata": {},
   "outputs": [
    {
     "data": {
      "image/png": "[encoded data removed]",
      "image/svg+xml": [
       "<?xml version=\"1.0\" encoding=\"utf-8\" standalone=\"no\"?>\r\n",
       "<!DOCTYPE svg PUBLIC \"-//W3C//DTD SVG 1.1//EN\"\r\n",
       "  \"http://www.w3.org/Graphics/SVG/1.1/DTD/svg11.dtd\">\r\n",
       "<!-- Created with matplotlib (https://matplotlib.org/) -->\r\n",
       "<svg height=\"248.518125pt\" version=\"1.1\" viewBox=\"0 0 375.2875 248.518125\" width=\"375.2875pt\" xmlns=\"http://www.w3.org/2000/svg\" xmlns:xlink=\"http://www.w3.org/1999/xlink\">\r\n",
       " <metadata>\r\n",
       "  <rdf:RDF xmlns:cc=\"http://creativecommons.org/ns#\" xmlns:dc=\"http://purl.org/dc/elements/1.1/\" xmlns:rdf=\"http://www.w3.org/1999/02/22-rdf-syntax-ns#\">\r\n",
       "   <cc:Work>\r\n",
       "    <dc:type rdf:resource=\"http://purl.org/dc/dcmitype/StillImage\"/>\r\n",
       "    <dc:date>2021-04-19T04:55:50.310586</dc:date>\r\n",
       "    <dc:format>image/svg+xml</dc:format>\r\n",
       "    <dc:creator>\r\n",
       "     <cc:Agent>\r\n",
       "      <dc:title>Matplotlib v3.3.4, https://matplotlib.org/</dc:title>\r\n",
       "     </cc:Agent>\r\n",
       "    </dc:creator>\r\n",
       "   </cc:Work>\r\n",
       "  </rdf:RDF>\r\n",
       " </metadata>\r\n",
       " <defs>\r\n",
       "  <style type=\"text/css\">*{stroke-linecap:butt;stroke-linejoin:round;}</style>\r\n",
       " </defs>\r\n",
       " <g id=\"figure_1\">\r\n",
       "  <g id=\"patch_1\">\r\n",
       "   <path d=\"M 0 248.518125 \r\n",
       "L 375.2875 248.518125 \r\n",
       "L 375.2875 0 \r\n",
       "L 0 0 \r\n",
       "z\r\n",
       "\" style=\"fill:none;\"/>\r\n",
       "  </g>\r\n",
       "  <g id=\"axes_1\">\r\n",
       "   <g id=\"patch_2\">\r\n",
       "    <path d=\"M 33.2875 224.64 \r\n",
       "L 368.0875 224.64 \r\n",
       "L 368.0875 7.2 \r\n",
       "L 33.2875 7.2 \r\n",
       "z\r\n",
       "\" style=\"fill:#ffffff;\"/>\r\n",
       "   </g>\r\n",
       "   <g id=\"matplotlib.axis_1\">\r\n",
       "    <g id=\"xtick_1\">\r\n",
       "     <g id=\"line2d_1\">\r\n",
       "      <defs>\r\n",
       "       <path d=\"M 0 0 \r\n",
       "L 0 3.5 \r\n",
       "\" id=\"mac963c25b9\" style=\"stroke:#000000;stroke-width:0.8;\"/>\r\n",
       "      </defs>\r\n",
       "      <g>\r\n",
       "       <use style=\"stroke:#000000;stroke-width:0.8;\" x=\"48.505682\" xlink:href=\"#mac963c25b9\" y=\"224.64\"/>\r\n",
       "      </g>\r\n",
       "     </g>\r\n",
       "     <g id=\"text_1\">\r\n",
       "      <!-- 0 -->\r\n",
       "      <g transform=\"translate(45.324432 239.238437)scale(0.1 -0.1)\">\r\n",
       "       <defs>\r\n",
       "        <path d=\"M 31.78125 66.40625 \r\n",
       "Q 24.171875 66.40625 20.328125 58.90625 \r\n",
       "Q 16.5 51.421875 16.5 36.375 \r\n",
       "Q 16.5 21.390625 20.328125 13.890625 \r\n",
       "Q 24.171875 6.390625 31.78125 6.390625 \r\n",
       "Q 39.453125 6.390625 43.28125 13.890625 \r\n",
       "Q 47.125 21.390625 47.125 36.375 \r\n",
       "Q 47.125 51.421875 43.28125 58.90625 \r\n",
       "Q 39.453125 66.40625 31.78125 66.40625 \r\n",
       "z\r\n",
       "M 31.78125 74.21875 \r\n",
       "Q 44.046875 74.21875 50.515625 64.515625 \r\n",
       "Q 56.984375 54.828125 56.984375 36.375 \r\n",
       "Q 56.984375 17.96875 50.515625 8.265625 \r\n",
       "Q 44.046875 -1.421875 31.78125 -1.421875 \r\n",
       "Q 19.53125 -1.421875 13.0625 8.265625 \r\n",
       "Q 6.59375 17.96875 6.59375 36.375 \r\n",
       "Q 6.59375 54.828125 13.0625 64.515625 \r\n",
       "Q 19.53125 74.21875 31.78125 74.21875 \r\n",
       "z\r\n",
       "\" id=\"DejaVuSans-48\"/>\r\n",
       "       </defs>\r\n",
       "       <use xlink:href=\"#DejaVuSans-48\"/>\r\n",
       "      </g>\r\n",
       "     </g>\r\n",
       "    </g>\r\n",
       "    <g id=\"xtick_2\">\r\n",
       "     <g id=\"line2d_2\">\r\n",
       "      <g>\r\n",
       "       <use style=\"stroke:#000000;stroke-width:0.8;\" x=\"86.551136\" xlink:href=\"#mac963c25b9\" y=\"224.64\"/>\r\n",
       "      </g>\r\n",
       "     </g>\r\n",
       "     <g id=\"text_2\">\r\n",
       "      <!-- 25 -->\r\n",
       "      <g transform=\"translate(80.188636 239.238437)scale(0.1 -0.1)\">\r\n",
       "       <defs>\r\n",
       "        <path d=\"M 19.1875 8.296875 \r\n",
       "L 53.609375 8.296875 \r\n",
       "L 53.609375 0 \r\n",
       "L 7.328125 0 \r\n",
       "L 7.328125 8.296875 \r\n",
       "Q 12.9375 14.109375 22.625 23.890625 \r\n",
       "Q 32.328125 33.6875 34.8125 36.53125 \r\n",
       "Q 39.546875 41.84375 41.421875 45.53125 \r\n",
       "Q 43.3125 49.21875 43.3125 52.78125 \r\n",
       "Q 43.3125 58.59375 39.234375 62.25 \r\n",
       "Q 35.15625 65.921875 28.609375 65.921875 \r\n",
       "Q 23.96875 65.921875 18.8125 64.3125 \r\n",
       "Q 13.671875 62.703125 7.8125 59.421875 \r\n",
       "L 7.8125 69.390625 \r\n",
       "Q 13.765625 71.78125 18.9375 73 \r\n",
       "Q 24.125 74.21875 28.421875 74.21875 \r\n",
       "Q 39.75 74.21875 46.484375 68.546875 \r\n",
       "Q 53.21875 62.890625 53.21875 53.421875 \r\n",
       "Q 53.21875 48.921875 51.53125 44.890625 \r\n",
       "Q 49.859375 40.875 45.40625 35.40625 \r\n",
       "Q 44.1875 33.984375 37.640625 27.21875 \r\n",
       "Q 31.109375 20.453125 19.1875 8.296875 \r\n",
       "z\r\n",
       "\" id=\"DejaVuSans-50\"/>\r\n",
       "        <path d=\"M 10.796875 72.90625 \r\n",
       "L 49.515625 72.90625 \r\n",
       "L 49.515625 64.59375 \r\n",
       "L 19.828125 64.59375 \r\n",
       "L 19.828125 46.734375 \r\n",
       "Q 21.96875 47.46875 24.109375 47.828125 \r\n",
       "Q 26.265625 48.1875 28.421875 48.1875 \r\n",
       "Q 40.625 48.1875 47.75 41.5 \r\n",
       "Q 54.890625 34.8125 54.890625 23.390625 \r\n",
       "Q 54.890625 11.625 47.5625 5.09375 \r\n",
       "Q 40.234375 -1.421875 26.90625 -1.421875 \r\n",
       "Q 22.3125 -1.421875 17.546875 -0.640625 \r\n",
       "Q 12.796875 0.140625 7.71875 1.703125 \r\n",
       "L 7.71875 11.625 \r\n",
       "Q 12.109375 9.234375 16.796875 8.0625 \r\n",
       "Q 21.484375 6.890625 26.703125 6.890625 \r\n",
       "Q 35.15625 6.890625 40.078125 11.328125 \r\n",
       "Q 45.015625 15.765625 45.015625 23.390625 \r\n",
       "Q 45.015625 31 40.078125 35.4375 \r\n",
       "Q 35.15625 39.890625 26.703125 39.890625 \r\n",
       "Q 22.75 39.890625 18.8125 39.015625 \r\n",
       "Q 14.890625 38.140625 10.796875 36.28125 \r\n",
       "z\r\n",
       "\" id=\"DejaVuSans-53\"/>\r\n",
       "       </defs>\r\n",
       "       <use xlink:href=\"#DejaVuSans-50\"/>\r\n",
       "       <use x=\"63.623047\" xlink:href=\"#DejaVuSans-53\"/>\r\n",
       "      </g>\r\n",
       "     </g>\r\n",
       "    </g>\r\n",
       "    <g id=\"xtick_3\">\r\n",
       "     <g id=\"line2d_3\">\r\n",
       "      <g>\r\n",
       "       <use style=\"stroke:#000000;stroke-width:0.8;\" x=\"124.596591\" xlink:href=\"#mac963c25b9\" y=\"224.64\"/>\r\n",
       "      </g>\r\n",
       "     </g>\r\n",
       "     <g id=\"text_3\">\r\n",
       "      <!-- 50 -->\r\n",
       "      <g transform=\"translate(118.234091 239.238437)scale(0.1 -0.1)\">\r\n",
       "       <use xlink:href=\"#DejaVuSans-53\"/>\r\n",
       "       <use x=\"63.623047\" xlink:href=\"#DejaVuSans-48\"/>\r\n",
       "      </g>\r\n",
       "     </g>\r\n",
       "    </g>\r\n",
       "    <g id=\"xtick_4\">\r\n",
       "     <g id=\"line2d_4\">\r\n",
       "      <g>\r\n",
       "       <use style=\"stroke:#000000;stroke-width:0.8;\" x=\"162.642045\" xlink:href=\"#mac963c25b9\" y=\"224.64\"/>\r\n",
       "      </g>\r\n",
       "     </g>\r\n",
       "     <g id=\"text_4\">\r\n",
       "      <!-- 75 -->\r\n",
       "      <g transform=\"translate(156.279545 239.238437)scale(0.1 -0.1)\">\r\n",
       "       <defs>\r\n",
       "        <path d=\"M 8.203125 72.90625 \r\n",
       "L 55.078125 72.90625 \r\n",
       "L 55.078125 68.703125 \r\n",
       "L 28.609375 0 \r\n",
       "L 18.3125 0 \r\n",
       "L 43.21875 64.59375 \r\n",
       "L 8.203125 64.59375 \r\n",
       "z\r\n",
       "\" id=\"DejaVuSans-55\"/>\r\n",
       "       </defs>\r\n",
       "       <use xlink:href=\"#DejaVuSans-55\"/>\r\n",
       "       <use x=\"63.623047\" xlink:href=\"#DejaVuSans-53\"/>\r\n",
       "      </g>\r\n",
       "     </g>\r\n",
       "    </g>\r\n",
       "    <g id=\"xtick_5\">\r\n",
       "     <g id=\"line2d_5\">\r\n",
       "      <g>\r\n",
       "       <use style=\"stroke:#000000;stroke-width:0.8;\" x=\"200.6875\" xlink:href=\"#mac963c25b9\" y=\"224.64\"/>\r\n",
       "      </g>\r\n",
       "     </g>\r\n",
       "     <g id=\"text_5\">\r\n",
       "      <!-- 100 -->\r\n",
       "      <g transform=\"translate(191.14375 239.238437)scale(0.1 -0.1)\">\r\n",
       "       <defs>\r\n",
       "        <path d=\"M 12.40625 8.296875 \r\n",
       "L 28.515625 8.296875 \r\n",
       "L 28.515625 63.921875 \r\n",
       "L 10.984375 60.40625 \r\n",
       "L 10.984375 69.390625 \r\n",
       "L 28.421875 72.90625 \r\n",
       "L 38.28125 72.90625 \r\n",
       "L 38.28125 8.296875 \r\n",
       "L 54.390625 8.296875 \r\n",
       "L 54.390625 0 \r\n",
       "L 12.40625 0 \r\n",
       "z\r\n",
       "\" id=\"DejaVuSans-49\"/>\r\n",
       "       </defs>\r\n",
       "       <use xlink:href=\"#DejaVuSans-49\"/>\r\n",
       "       <use x=\"63.623047\" xlink:href=\"#DejaVuSans-48\"/>\r\n",
       "       <use x=\"127.246094\" xlink:href=\"#DejaVuSans-48\"/>\r\n",
       "      </g>\r\n",
       "     </g>\r\n",
       "    </g>\r\n",
       "    <g id=\"xtick_6\">\r\n",
       "     <g id=\"line2d_6\">\r\n",
       "      <g>\r\n",
       "       <use style=\"stroke:#000000;stroke-width:0.8;\" x=\"238.732955\" xlink:href=\"#mac963c25b9\" y=\"224.64\"/>\r\n",
       "      </g>\r\n",
       "     </g>\r\n",
       "     <g id=\"text_6\">\r\n",
       "      <!-- 125 -->\r\n",
       "      <g transform=\"translate(229.189205 239.238437)scale(0.1 -0.1)\">\r\n",
       "       <use xlink:href=\"#DejaVuSans-49\"/>\r\n",
       "       <use x=\"63.623047\" xlink:href=\"#DejaVuSans-50\"/>\r\n",
       "       <use x=\"127.246094\" xlink:href=\"#DejaVuSans-53\"/>\r\n",
       "      </g>\r\n",
       "     </g>\r\n",
       "    </g>\r\n",
       "    <g id=\"xtick_7\">\r\n",
       "     <g id=\"line2d_7\">\r\n",
       "      <g>\r\n",
       "       <use style=\"stroke:#000000;stroke-width:0.8;\" x=\"276.778409\" xlink:href=\"#mac963c25b9\" y=\"224.64\"/>\r\n",
       "      </g>\r\n",
       "     </g>\r\n",
       "     <g id=\"text_7\">\r\n",
       "      <!-- 150 -->\r\n",
       "      <g transform=\"translate(267.234659 239.238437)scale(0.1 -0.1)\">\r\n",
       "       <use xlink:href=\"#DejaVuSans-49\"/>\r\n",
       "       <use x=\"63.623047\" xlink:href=\"#DejaVuSans-53\"/>\r\n",
       "       <use x=\"127.246094\" xlink:href=\"#DejaVuSans-48\"/>\r\n",
       "      </g>\r\n",
       "     </g>\r\n",
       "    </g>\r\n",
       "    <g id=\"xtick_8\">\r\n",
       "     <g id=\"line2d_8\">\r\n",
       "      <g>\r\n",
       "       <use style=\"stroke:#000000;stroke-width:0.8;\" x=\"314.823864\" xlink:href=\"#mac963c25b9\" y=\"224.64\"/>\r\n",
       "      </g>\r\n",
       "     </g>\r\n",
       "     <g id=\"text_8\">\r\n",
       "      <!-- 175 -->\r\n",
       "      <g transform=\"translate(305.280114 239.238437)scale(0.1 -0.1)\">\r\n",
       "       <use xlink:href=\"#DejaVuSans-49\"/>\r\n",
       "       <use x=\"63.623047\" xlink:href=\"#DejaVuSans-55\"/>\r\n",
       "       <use x=\"127.246094\" xlink:href=\"#DejaVuSans-53\"/>\r\n",
       "      </g>\r\n",
       "     </g>\r\n",
       "    </g>\r\n",
       "    <g id=\"xtick_9\">\r\n",
       "     <g id=\"line2d_9\">\r\n",
       "      <g>\r\n",
       "       <use style=\"stroke:#000000;stroke-width:0.8;\" x=\"352.869318\" xlink:href=\"#mac963c25b9\" y=\"224.64\"/>\r\n",
       "      </g>\r\n",
       "     </g>\r\n",
       "     <g id=\"text_9\">\r\n",
       "      <!-- 200 -->\r\n",
       "      <g transform=\"translate(343.325568 239.238437)scale(0.1 -0.1)\">\r\n",
       "       <use xlink:href=\"#DejaVuSans-50\"/>\r\n",
       "       <use x=\"63.623047\" xlink:href=\"#DejaVuSans-48\"/>\r\n",
       "       <use x=\"127.246094\" xlink:href=\"#DejaVuSans-48\"/>\r\n",
       "      </g>\r\n",
       "     </g>\r\n",
       "    </g>\r\n",
       "   </g>\r\n",
       "   <g id=\"matplotlib.axis_2\">\r\n",
       "    <g id=\"ytick_1\">\r\n",
       "     <g id=\"line2d_10\">\r\n",
       "      <defs>\r\n",
       "       <path d=\"M 0 0 \r\n",
       "L -3.5 0 \r\n",
       "\" id=\"m8c3867fe13\" style=\"stroke:#000000;stroke-width:0.8;\"/>\r\n",
       "      </defs>\r\n",
       "      <g>\r\n",
       "       <use style=\"stroke:#000000;stroke-width:0.8;\" x=\"33.2875\" xlink:href=\"#m8c3867fe13\" y=\"214.756364\"/>\r\n",
       "      </g>\r\n",
       "     </g>\r\n",
       "     <g id=\"text_10\">\r\n",
       "      <!-- 0 -->\r\n",
       "      <g transform=\"translate(19.925 218.555582)scale(0.1 -0.1)\">\r\n",
       "       <use xlink:href=\"#DejaVuSans-48\"/>\r\n",
       "      </g>\r\n",
       "     </g>\r\n",
       "    </g>\r\n",
       "    <g id=\"ytick_2\">\r\n",
       "     <g id=\"line2d_11\">\r\n",
       "      <g>\r\n",
       "       <use style=\"stroke:#000000;stroke-width:0.8;\" x=\"33.2875\" xlink:href=\"#m8c3867fe13\" y=\"169.646635\"/>\r\n",
       "      </g>\r\n",
       "     </g>\r\n",
       "     <g id=\"text_11\">\r\n",
       "      <!-- 100 -->\r\n",
       "      <g transform=\"translate(7.2 173.445854)scale(0.1 -0.1)\">\r\n",
       "       <use xlink:href=\"#DejaVuSans-49\"/>\r\n",
       "       <use x=\"63.623047\" xlink:href=\"#DejaVuSans-48\"/>\r\n",
       "       <use x=\"127.246094\" xlink:href=\"#DejaVuSans-48\"/>\r\n",
       "      </g>\r\n",
       "     </g>\r\n",
       "    </g>\r\n",
       "    <g id=\"ytick_3\">\r\n",
       "     <g id=\"line2d_12\">\r\n",
       "      <g>\r\n",
       "       <use style=\"stroke:#000000;stroke-width:0.8;\" x=\"33.2875\" xlink:href=\"#m8c3867fe13\" y=\"124.536907\"/>\r\n",
       "      </g>\r\n",
       "     </g>\r\n",
       "     <g id=\"text_12\">\r\n",
       "      <!-- 200 -->\r\n",
       "      <g transform=\"translate(7.2 128.336126)scale(0.1 -0.1)\">\r\n",
       "       <use xlink:href=\"#DejaVuSans-50\"/>\r\n",
       "       <use x=\"63.623047\" xlink:href=\"#DejaVuSans-48\"/>\r\n",
       "       <use x=\"127.246094\" xlink:href=\"#DejaVuSans-48\"/>\r\n",
       "      </g>\r\n",
       "     </g>\r\n",
       "    </g>\r\n",
       "    <g id=\"ytick_4\">\r\n",
       "     <g id=\"line2d_13\">\r\n",
       "      <g>\r\n",
       "       <use style=\"stroke:#000000;stroke-width:0.8;\" x=\"33.2875\" xlink:href=\"#m8c3867fe13\" y=\"79.427179\"/>\r\n",
       "      </g>\r\n",
       "     </g>\r\n",
       "     <g id=\"text_13\">\r\n",
       "      <!-- 300 -->\r\n",
       "      <g transform=\"translate(7.2 83.226398)scale(0.1 -0.1)\">\r\n",
       "       <defs>\r\n",
       "        <path d=\"M 40.578125 39.3125 \r\n",
       "Q 47.65625 37.796875 51.625 33 \r\n",
       "Q 55.609375 28.21875 55.609375 21.1875 \r\n",
       "Q 55.609375 10.40625 48.1875 4.484375 \r\n",
       "Q 40.765625 -1.421875 27.09375 -1.421875 \r\n",
       "Q 22.515625 -1.421875 17.65625 -0.515625 \r\n",
       "Q 12.796875 0.390625 7.625 2.203125 \r\n",
       "L 7.625 11.71875 \r\n",
       "Q 11.71875 9.328125 16.59375 8.109375 \r\n",
       "Q 21.484375 6.890625 26.8125 6.890625 \r\n",
       "Q 36.078125 6.890625 40.9375 10.546875 \r\n",
       "Q 45.796875 14.203125 45.796875 21.1875 \r\n",
       "Q 45.796875 27.640625 41.28125 31.265625 \r\n",
       "Q 36.765625 34.90625 28.71875 34.90625 \r\n",
       "L 20.21875 34.90625 \r\n",
       "L 20.21875 43.015625 \r\n",
       "L 29.109375 43.015625 \r\n",
       "Q 36.375 43.015625 40.234375 45.921875 \r\n",
       "Q 44.09375 48.828125 44.09375 54.296875 \r\n",
       "Q 44.09375 59.90625 40.109375 62.90625 \r\n",
       "Q 36.140625 65.921875 28.71875 65.921875 \r\n",
       "Q 24.65625 65.921875 20.015625 65.03125 \r\n",
       "Q 15.375 64.15625 9.8125 62.3125 \r\n",
       "L 9.8125 71.09375 \r\n",
       "Q 15.4375 72.65625 20.34375 73.4375 \r\n",
       "Q 25.25 74.21875 29.59375 74.21875 \r\n",
       "Q 40.828125 74.21875 47.359375 69.109375 \r\n",
       "Q 53.90625 64.015625 53.90625 55.328125 \r\n",
       "Q 53.90625 49.265625 50.4375 45.09375 \r\n",
       "Q 46.96875 40.921875 40.578125 39.3125 \r\n",
       "z\r\n",
       "\" id=\"DejaVuSans-51\"/>\r\n",
       "       </defs>\r\n",
       "       <use xlink:href=\"#DejaVuSans-51\"/>\r\n",
       "       <use x=\"63.623047\" xlink:href=\"#DejaVuSans-48\"/>\r\n",
       "       <use x=\"127.246094\" xlink:href=\"#DejaVuSans-48\"/>\r\n",
       "      </g>\r\n",
       "     </g>\r\n",
       "    </g>\r\n",
       "    <g id=\"ytick_5\">\r\n",
       "     <g id=\"line2d_14\">\r\n",
       "      <g>\r\n",
       "       <use style=\"stroke:#000000;stroke-width:0.8;\" x=\"33.2875\" xlink:href=\"#m8c3867fe13\" y=\"34.317451\"/>\r\n",
       "      </g>\r\n",
       "     </g>\r\n",
       "     <g id=\"text_14\">\r\n",
       "      <!-- 400 -->\r\n",
       "      <g transform=\"translate(7.2 38.11667)scale(0.1 -0.1)\">\r\n",
       "       <defs>\r\n",
       "        <path d=\"M 37.796875 64.3125 \r\n",
       "L 12.890625 25.390625 \r\n",
       "L 37.796875 25.390625 \r\n",
       "z\r\n",
       "M 35.203125 72.90625 \r\n",
       "L 47.609375 72.90625 \r\n",
       "L 47.609375 25.390625 \r\n",
       "L 58.015625 25.390625 \r\n",
       "L 58.015625 17.1875 \r\n",
       "L 47.609375 17.1875 \r\n",
       "L 47.609375 0 \r\n",
       "L 37.796875 0 \r\n",
       "L 37.796875 17.1875 \r\n",
       "L 4.890625 17.1875 \r\n",
       "L 4.890625 26.703125 \r\n",
       "z\r\n",
       "\" id=\"DejaVuSans-52\"/>\r\n",
       "       </defs>\r\n",
       "       <use xlink:href=\"#DejaVuSans-52\"/>\r\n",
       "       <use x=\"63.623047\" xlink:href=\"#DejaVuSans-48\"/>\r\n",
       "       <use x=\"127.246094\" xlink:href=\"#DejaVuSans-48\"/>\r\n",
       "      </g>\r\n",
       "     </g>\r\n",
       "    </g>\r\n",
       "   </g>\r\n",
       "   <g id=\"line2d_15\">\r\n",
       "    <path clip-path=\"url(#p4d9695a6ef)\" d=\"M 48.505682 214.756364 \r\n",
       "L 78.942045 214.360826 \r\n",
       "L 89.594773 213.956333 \r\n",
       "L 97.203864 213.442476 \r\n",
       "L 103.291136 212.805439 \r\n",
       "L 107.856591 212.134015 \r\n",
       "L 112.422045 211.234104 \r\n",
       "L 115.465682 210.47072 \r\n",
       "L 118.509318 209.544637 \r\n",
       "L 121.552955 208.422554 \r\n",
       "L 124.596591 207.065013 \r\n",
       "L 127.640227 205.425584 \r\n",
       "L 130.683864 203.450108 \r\n",
       "L 133.7275 201.076005 \r\n",
       "L 136.771136 198.232236 \r\n",
       "L 139.814773 194.849873 \r\n",
       "L 142.858409 190.853788 \r\n",
       "L 145.902045 186.153275 \r\n",
       "L 148.945682 180.654006 \r\n",
       "L 151.989318 174.264889 \r\n",
       "L 155.032955 166.905587 \r\n",
       "L 158.076591 158.51608 \r\n",
       "L 161.120227 149.068259 \r\n",
       "L 164.163864 138.578831 \r\n",
       "L 167.2075 127.122183 \r\n",
       "L 170.251136 114.84122 \r\n",
       "L 174.816591 95.371182 \r\n",
       "L 180.903864 69.155849 \r\n",
       "L 183.9475 56.828659 \r\n",
       "L 186.991136 45.585705 \r\n",
       "L 188.512955 40.497039 \r\n",
       "L 190.034773 35.824793 \r\n",
       "L 191.556591 31.609476 \r\n",
       "L 193.078409 27.886368 \r\n",
       "L 194.600227 24.68492 \r\n",
       "L 196.122045 22.028312 \r\n",
       "L 197.643864 19.93318 \r\n",
       "L 199.165682 18.409505 \r\n",
       "L 200.6875 17.460665 \r\n",
       "L 202.209318 17.083636 \r\n",
       "L 203.731136 17.269323 \r\n",
       "L 205.252955 18.003006 \r\n",
       "L 206.774773 19.26487 \r\n",
       "L 208.296591 21.030611 \r\n",
       "L 209.818409 23.27208 \r\n",
       "L 211.340227 25.957949 \r\n",
       "L 212.862045 29.054386 \r\n",
       "L 214.383864 32.52571 \r\n",
       "L 215.905682 36.335021 \r\n",
       "L 218.949318 44.817379 \r\n",
       "L 221.992955 54.202937 \r\n",
       "L 226.558409 69.355401 \r\n",
       "L 237.211136 105.61036 \r\n",
       "L 241.776591 120.134747 \r\n",
       "L 244.820227 129.205327 \r\n",
       "L 247.863864 137.71714 \r\n",
       "L 250.9075 145.637234 \r\n",
       "L 253.951136 152.951599 \r\n",
       "L 256.994773 159.661495 \r\n",
       "L 260.038409 165.780106 \r\n",
       "L 263.082045 171.329577 \r\n",
       "L 266.125682 176.338472 \r\n",
       "L 269.169318 180.839637 \r\n",
       "L 272.212955 184.868457 \r\n",
       "L 275.256591 188.461457 \r\n",
       "L 278.300227 191.655213 \r\n",
       "L 281.343864 194.485528 \r\n",
       "L 284.3875 196.986835 \r\n",
       "L 287.431136 199.191776 \r\n",
       "L 290.474773 201.130935 \r\n",
       "L 293.518409 202.832688 \r\n",
       "L 296.562045 204.32314 \r\n",
       "L 299.605682 205.626136 \r\n",
       "L 304.171136 207.276876 \r\n",
       "L 308.736591 208.625171 \r\n",
       "L 313.302045 209.729066 \r\n",
       "L 317.8675 210.63431 \r\n",
       "L 323.954773 211.594185 \r\n",
       "L 330.042045 212.326424 \r\n",
       "L 337.651136 212.995251 \r\n",
       "L 346.782045 213.546691 \r\n",
       "L 352.869318 213.809752 \r\n",
       "L 352.869318 213.809752 \r\n",
       "\" style=\"fill:none;stroke:#1f77b4;stroke-linecap:square;stroke-width:1.5;\"/>\r\n",
       "   </g>\r\n",
       "   <g id=\"patch_3\">\r\n",
       "    <path d=\"M 33.2875 224.64 \r\n",
       "L 33.2875 7.2 \r\n",
       "\" style=\"fill:none;stroke:#000000;stroke-linecap:square;stroke-linejoin:miter;stroke-width:0.8;\"/>\r\n",
       "   </g>\r\n",
       "   <g id=\"patch_4\">\r\n",
       "    <path d=\"M 368.0875 224.64 \r\n",
       "L 368.0875 7.2 \r\n",
       "\" style=\"fill:none;stroke:#000000;stroke-linecap:square;stroke-linejoin:miter;stroke-width:0.8;\"/>\r\n",
       "   </g>\r\n",
       "   <g id=\"patch_5\">\r\n",
       "    <path d=\"M 33.2875 224.64 \r\n",
       "L 368.0875 224.64 \r\n",
       "\" style=\"fill:none;stroke:#000000;stroke-linecap:square;stroke-linejoin:miter;stroke-width:0.8;\"/>\r\n",
       "   </g>\r\n",
       "   <g id=\"patch_6\">\r\n",
       "    <path d=\"M 33.2875 7.2 \r\n",
       "L 368.0875 7.2 \r\n",
       "\" style=\"fill:none;stroke:#000000;stroke-linecap:square;stroke-linejoin:miter;stroke-width:0.8;\"/>\r\n",
       "   </g>\r\n",
       "  </g>\r\n",
       " </g>\r\n",
       " <defs>\r\n",
       "  <clipPath id=\"p4d9695a6ef\">\r\n",
       "   <rect height=\"217.44\" width=\"334.8\" x=\"33.2875\" y=\"7.2\"/>\r\n",
       "  </clipPath>\r\n",
       " </defs>\r\n",
       "</svg>\r\n"
      ],
      "text/plain": [
       "<Figure size 432x288 with 1 Axes>"
      ]
     },
     "metadata": {
      "needs_background": "light"
     },
     "output_type": "display_data"
    }
   ],
   "source": [
    "for index,group in better_hygiene_6_month_groups:\n",
    "    group['Hospitalised'].plot()"
   ]
  },
  {
   "cell_type": "code",
   "execution_count": 59,
   "id": "infinite-cameroon",
   "metadata": {},
   "outputs": [
    {
     "data": {
      "image/png": "[encoded data removed]",
      "image/svg+xml": [
       "<?xml version=\"1.0\" encoding=\"utf-8\" standalone=\"no\"?>\r\n",
       "<!DOCTYPE svg PUBLIC \"-//W3C//DTD SVG 1.1//EN\"\r\n",
       "  \"http://www.w3.org/Graphics/SVG/1.1/DTD/svg11.dtd\">\r\n",
       "<!-- Created with matplotlib (https://matplotlib.org/) -->\r\n",
       "<svg height=\"248.518125pt\" version=\"1.1\" viewBox=\"0 0 375.2875 248.518125\" width=\"375.2875pt\" xmlns=\"http://www.w3.org/2000/svg\" xmlns:xlink=\"http://www.w3.org/1999/xlink\">\r\n",
       " <metadata>\r\n",
       "  <rdf:RDF xmlns:cc=\"http://creativecommons.org/ns#\" xmlns:dc=\"http://purl.org/dc/elements/1.1/\" xmlns:rdf=\"http://www.w3.org/1999/02/22-rdf-syntax-ns#\">\r\n",
       "   <cc:Work>\r\n",
       "    <dc:type rdf:resource=\"http://purl.org/dc/dcmitype/StillImage\"/>\r\n",
       "    <dc:date>2021-04-19T04:55:20.760127</dc:date>\r\n",
       "    <dc:format>image/svg+xml</dc:format>\r\n",
       "    <dc:creator>\r\n",
       "     <cc:Agent>\r\n",
       "      <dc:title>Matplotlib v3.3.4, https://matplotlib.org/</dc:title>\r\n",
       "     </cc:Agent>\r\n",
       "    </dc:creator>\r\n",
       "   </cc:Work>\r\n",
       "  </rdf:RDF>\r\n",
       " </metadata>\r\n",
       " <defs>\r\n",
       "  <style type=\"text/css\">*{stroke-linecap:butt;stroke-linejoin:round;}</style>\r\n",
       " </defs>\r\n",
       " <g id=\"figure_1\">\r\n",
       "  <g id=\"patch_1\">\r\n",
       "   <path d=\"M 0 248.518125 \r\n",
       "L 375.2875 248.518125 \r\n",
       "L 375.2875 0 \r\n",
       "L 0 0 \r\n",
       "z\r\n",
       "\" style=\"fill:none;\"/>\r\n",
       "  </g>\r\n",
       "  <g id=\"axes_1\">\r\n",
       "   <g id=\"patch_2\">\r\n",
       "    <path d=\"M 33.2875 224.64 \r\n",
       "L 368.0875 224.64 \r\n",
       "L 368.0875 7.2 \r\n",
       "L 33.2875 7.2 \r\n",
       "z\r\n",
       "\" style=\"fill:#ffffff;\"/>\r\n",
       "   </g>\r\n",
       "   <g id=\"matplotlib.axis_1\">\r\n",
       "    <g id=\"xtick_1\">\r\n",
       "     <g id=\"line2d_1\">\r\n",
       "      <defs>\r\n",
       "       <path d=\"M 0 0 \r\n",
       "L 0 3.5 \r\n",
       "\" id=\"m26f6eaf1a8\" style=\"stroke:#000000;stroke-width:0.8;\"/>\r\n",
       "      </defs>\r\n",
       "      <g>\r\n",
       "       <use style=\"stroke:#000000;stroke-width:0.8;\" x=\"48.505682\" xlink:href=\"#m26f6eaf1a8\" y=\"224.64\"/>\r\n",
       "      </g>\r\n",
       "     </g>\r\n",
       "     <g id=\"text_1\">\r\n",
       "      <!-- 0 -->\r\n",
       "      <g transform=\"translate(45.324432 239.238437)scale(0.1 -0.1)\">\r\n",
       "       <defs>\r\n",
       "        <path d=\"M 31.78125 66.40625 \r\n",
       "Q 24.171875 66.40625 20.328125 58.90625 \r\n",
       "Q 16.5 51.421875 16.5 36.375 \r\n",
       "Q 16.5 21.390625 20.328125 13.890625 \r\n",
       "Q 24.171875 6.390625 31.78125 6.390625 \r\n",
       "Q 39.453125 6.390625 43.28125 13.890625 \r\n",
       "Q 47.125 21.390625 47.125 36.375 \r\n",
       "Q 47.125 51.421875 43.28125 58.90625 \r\n",
       "Q 39.453125 66.40625 31.78125 66.40625 \r\n",
       "z\r\n",
       "M 31.78125 74.21875 \r\n",
       "Q 44.046875 74.21875 50.515625 64.515625 \r\n",
       "Q 56.984375 54.828125 56.984375 36.375 \r\n",
       "Q 56.984375 17.96875 50.515625 8.265625 \r\n",
       "Q 44.046875 -1.421875 31.78125 -1.421875 \r\n",
       "Q 19.53125 -1.421875 13.0625 8.265625 \r\n",
       "Q 6.59375 17.96875 6.59375 36.375 \r\n",
       "Q 6.59375 54.828125 13.0625 64.515625 \r\n",
       "Q 19.53125 74.21875 31.78125 74.21875 \r\n",
       "z\r\n",
       "\" id=\"DejaVuSans-48\"/>\r\n",
       "       </defs>\r\n",
       "       <use xlink:href=\"#DejaVuSans-48\"/>\r\n",
       "      </g>\r\n",
       "     </g>\r\n",
       "    </g>\r\n",
       "    <g id=\"xtick_2\">\r\n",
       "     <g id=\"line2d_2\">\r\n",
       "      <g>\r\n",
       "       <use style=\"stroke:#000000;stroke-width:0.8;\" x=\"86.551136\" xlink:href=\"#m26f6eaf1a8\" y=\"224.64\"/>\r\n",
       "      </g>\r\n",
       "     </g>\r\n",
       "     <g id=\"text_2\">\r\n",
       "      <!-- 25 -->\r\n",
       "      <g transform=\"translate(80.188636 239.238437)scale(0.1 -0.1)\">\r\n",
       "       <defs>\r\n",
       "        <path d=\"M 19.1875 8.296875 \r\n",
       "L 53.609375 8.296875 \r\n",
       "L 53.609375 0 \r\n",
       "L 7.328125 0 \r\n",
       "L 7.328125 8.296875 \r\n",
       "Q 12.9375 14.109375 22.625 23.890625 \r\n",
       "Q 32.328125 33.6875 34.8125 36.53125 \r\n",
       "Q 39.546875 41.84375 41.421875 45.53125 \r\n",
       "Q 43.3125 49.21875 43.3125 52.78125 \r\n",
       "Q 43.3125 58.59375 39.234375 62.25 \r\n",
       "Q 35.15625 65.921875 28.609375 65.921875 \r\n",
       "Q 23.96875 65.921875 18.8125 64.3125 \r\n",
       "Q 13.671875 62.703125 7.8125 59.421875 \r\n",
       "L 7.8125 69.390625 \r\n",
       "Q 13.765625 71.78125 18.9375 73 \r\n",
       "Q 24.125 74.21875 28.421875 74.21875 \r\n",
       "Q 39.75 74.21875 46.484375 68.546875 \r\n",
       "Q 53.21875 62.890625 53.21875 53.421875 \r\n",
       "Q 53.21875 48.921875 51.53125 44.890625 \r\n",
       "Q 49.859375 40.875 45.40625 35.40625 \r\n",
       "Q 44.1875 33.984375 37.640625 27.21875 \r\n",
       "Q 31.109375 20.453125 19.1875 8.296875 \r\n",
       "z\r\n",
       "\" id=\"DejaVuSans-50\"/>\r\n",
       "        <path d=\"M 10.796875 72.90625 \r\n",
       "L 49.515625 72.90625 \r\n",
       "L 49.515625 64.59375 \r\n",
       "L 19.828125 64.59375 \r\n",
       "L 19.828125 46.734375 \r\n",
       "Q 21.96875 47.46875 24.109375 47.828125 \r\n",
       "Q 26.265625 48.1875 28.421875 48.1875 \r\n",
       "Q 40.625 48.1875 47.75 41.5 \r\n",
       "Q 54.890625 34.8125 54.890625 23.390625 \r\n",
       "Q 54.890625 11.625 47.5625 5.09375 \r\n",
       "Q 40.234375 -1.421875 26.90625 -1.421875 \r\n",
       "Q 22.3125 -1.421875 17.546875 -0.640625 \r\n",
       "Q 12.796875 0.140625 7.71875 1.703125 \r\n",
       "L 7.71875 11.625 \r\n",
       "Q 12.109375 9.234375 16.796875 8.0625 \r\n",
       "Q 21.484375 6.890625 26.703125 6.890625 \r\n",
       "Q 35.15625 6.890625 40.078125 11.328125 \r\n",
       "Q 45.015625 15.765625 45.015625 23.390625 \r\n",
       "Q 45.015625 31 40.078125 35.4375 \r\n",
       "Q 35.15625 39.890625 26.703125 39.890625 \r\n",
       "Q 22.75 39.890625 18.8125 39.015625 \r\n",
       "Q 14.890625 38.140625 10.796875 36.28125 \r\n",
       "z\r\n",
       "\" id=\"DejaVuSans-53\"/>\r\n",
       "       </defs>\r\n",
       "       <use xlink:href=\"#DejaVuSans-50\"/>\r\n",
       "       <use x=\"63.623047\" xlink:href=\"#DejaVuSans-53\"/>\r\n",
       "      </g>\r\n",
       "     </g>\r\n",
       "    </g>\r\n",
       "    <g id=\"xtick_3\">\r\n",
       "     <g id=\"line2d_3\">\r\n",
       "      <g>\r\n",
       "       <use style=\"stroke:#000000;stroke-width:0.8;\" x=\"124.596591\" xlink:href=\"#m26f6eaf1a8\" y=\"224.64\"/>\r\n",
       "      </g>\r\n",
       "     </g>\r\n",
       "     <g id=\"text_3\">\r\n",
       "      <!-- 50 -->\r\n",
       "      <g transform=\"translate(118.234091 239.238437)scale(0.1 -0.1)\">\r\n",
       "       <use xlink:href=\"#DejaVuSans-53\"/>\r\n",
       "       <use x=\"63.623047\" xlink:href=\"#DejaVuSans-48\"/>\r\n",
       "      </g>\r\n",
       "     </g>\r\n",
       "    </g>\r\n",
       "    <g id=\"xtick_4\">\r\n",
       "     <g id=\"line2d_4\">\r\n",
       "      <g>\r\n",
       "       <use style=\"stroke:#000000;stroke-width:0.8;\" x=\"162.642045\" xlink:href=\"#m26f6eaf1a8\" y=\"224.64\"/>\r\n",
       "      </g>\r\n",
       "     </g>\r\n",
       "     <g id=\"text_4\">\r\n",
       "      <!-- 75 -->\r\n",
       "      <g transform=\"translate(156.279545 239.238437)scale(0.1 -0.1)\">\r\n",
       "       <defs>\r\n",
       "        <path d=\"M 8.203125 72.90625 \r\n",
       "L 55.078125 72.90625 \r\n",
       "L 55.078125 68.703125 \r\n",
       "L 28.609375 0 \r\n",
       "L 18.3125 0 \r\n",
       "L 43.21875 64.59375 \r\n",
       "L 8.203125 64.59375 \r\n",
       "z\r\n",
       "\" id=\"DejaVuSans-55\"/>\r\n",
       "       </defs>\r\n",
       "       <use xlink:href=\"#DejaVuSans-55\"/>\r\n",
       "       <use x=\"63.623047\" xlink:href=\"#DejaVuSans-53\"/>\r\n",
       "      </g>\r\n",
       "     </g>\r\n",
       "    </g>\r\n",
       "    <g id=\"xtick_5\">\r\n",
       "     <g id=\"line2d_5\">\r\n",
       "      <g>\r\n",
       "       <use style=\"stroke:#000000;stroke-width:0.8;\" x=\"200.6875\" xlink:href=\"#m26f6eaf1a8\" y=\"224.64\"/>\r\n",
       "      </g>\r\n",
       "     </g>\r\n",
       "     <g id=\"text_5\">\r\n",
       "      <!-- 100 -->\r\n",
       "      <g transform=\"translate(191.14375 239.238437)scale(0.1 -0.1)\">\r\n",
       "       <defs>\r\n",
       "        <path d=\"M 12.40625 8.296875 \r\n",
       "L 28.515625 8.296875 \r\n",
       "L 28.515625 63.921875 \r\n",
       "L 10.984375 60.40625 \r\n",
       "L 10.984375 69.390625 \r\n",
       "L 28.421875 72.90625 \r\n",
       "L 38.28125 72.90625 \r\n",
       "L 38.28125 8.296875 \r\n",
       "L 54.390625 8.296875 \r\n",
       "L 54.390625 0 \r\n",
       "L 12.40625 0 \r\n",
       "z\r\n",
       "\" id=\"DejaVuSans-49\"/>\r\n",
       "       </defs>\r\n",
       "       <use xlink:href=\"#DejaVuSans-49\"/>\r\n",
       "       <use x=\"63.623047\" xlink:href=\"#DejaVuSans-48\"/>\r\n",
       "       <use x=\"127.246094\" xlink:href=\"#DejaVuSans-48\"/>\r\n",
       "      </g>\r\n",
       "     </g>\r\n",
       "    </g>\r\n",
       "    <g id=\"xtick_6\">\r\n",
       "     <g id=\"line2d_6\">\r\n",
       "      <g>\r\n",
       "       <use style=\"stroke:#000000;stroke-width:0.8;\" x=\"238.732955\" xlink:href=\"#m26f6eaf1a8\" y=\"224.64\"/>\r\n",
       "      </g>\r\n",
       "     </g>\r\n",
       "     <g id=\"text_6\">\r\n",
       "      <!-- 125 -->\r\n",
       "      <g transform=\"translate(229.189205 239.238437)scale(0.1 -0.1)\">\r\n",
       "       <use xlink:href=\"#DejaVuSans-49\"/>\r\n",
       "       <use x=\"63.623047\" xlink:href=\"#DejaVuSans-50\"/>\r\n",
       "       <use x=\"127.246094\" xlink:href=\"#DejaVuSans-53\"/>\r\n",
       "      </g>\r\n",
       "     </g>\r\n",
       "    </g>\r\n",
       "    <g id=\"xtick_7\">\r\n",
       "     <g id=\"line2d_7\">\r\n",
       "      <g>\r\n",
       "       <use style=\"stroke:#000000;stroke-width:0.8;\" x=\"276.778409\" xlink:href=\"#m26f6eaf1a8\" y=\"224.64\"/>\r\n",
       "      </g>\r\n",
       "     </g>\r\n",
       "     <g id=\"text_7\">\r\n",
       "      <!-- 150 -->\r\n",
       "      <g transform=\"translate(267.234659 239.238437)scale(0.1 -0.1)\">\r\n",
       "       <use xlink:href=\"#DejaVuSans-49\"/>\r\n",
       "       <use x=\"63.623047\" xlink:href=\"#DejaVuSans-53\"/>\r\n",
       "       <use x=\"127.246094\" xlink:href=\"#DejaVuSans-48\"/>\r\n",
       "      </g>\r\n",
       "     </g>\r\n",
       "    </g>\r\n",
       "    <g id=\"xtick_8\">\r\n",
       "     <g id=\"line2d_8\">\r\n",
       "      <g>\r\n",
       "       <use style=\"stroke:#000000;stroke-width:0.8;\" x=\"314.823864\" xlink:href=\"#m26f6eaf1a8\" y=\"224.64\"/>\r\n",
       "      </g>\r\n",
       "     </g>\r\n",
       "     <g id=\"text_8\">\r\n",
       "      <!-- 175 -->\r\n",
       "      <g transform=\"translate(305.280114 239.238437)scale(0.1 -0.1)\">\r\n",
       "       <use xlink:href=\"#DejaVuSans-49\"/>\r\n",
       "       <use x=\"63.623047\" xlink:href=\"#DejaVuSans-55\"/>\r\n",
       "       <use x=\"127.246094\" xlink:href=\"#DejaVuSans-53\"/>\r\n",
       "      </g>\r\n",
       "     </g>\r\n",
       "    </g>\r\n",
       "    <g id=\"xtick_9\">\r\n",
       "     <g id=\"line2d_9\">\r\n",
       "      <g>\r\n",
       "       <use style=\"stroke:#000000;stroke-width:0.8;\" x=\"352.869318\" xlink:href=\"#m26f6eaf1a8\" y=\"224.64\"/>\r\n",
       "      </g>\r\n",
       "     </g>\r\n",
       "     <g id=\"text_9\">\r\n",
       "      <!-- 200 -->\r\n",
       "      <g transform=\"translate(343.325568 239.238437)scale(0.1 -0.1)\">\r\n",
       "       <use xlink:href=\"#DejaVuSans-50\"/>\r\n",
       "       <use x=\"63.623047\" xlink:href=\"#DejaVuSans-48\"/>\r\n",
       "       <use x=\"127.246094\" xlink:href=\"#DejaVuSans-48\"/>\r\n",
       "      </g>\r\n",
       "     </g>\r\n",
       "    </g>\r\n",
       "   </g>\r\n",
       "   <g id=\"matplotlib.axis_2\">\r\n",
       "    <g id=\"ytick_1\">\r\n",
       "     <g id=\"line2d_10\">\r\n",
       "      <defs>\r\n",
       "       <path d=\"M 0 0 \r\n",
       "L -3.5 0 \r\n",
       "\" id=\"m172cdce20b\" style=\"stroke:#000000;stroke-width:0.8;\"/>\r\n",
       "      </defs>\r\n",
       "      <g>\r\n",
       "       <use style=\"stroke:#000000;stroke-width:0.8;\" x=\"33.2875\" xlink:href=\"#m172cdce20b\" y=\"214.756364\"/>\r\n",
       "      </g>\r\n",
       "     </g>\r\n",
       "     <g id=\"text_10\">\r\n",
       "      <!-- 0 -->\r\n",
       "      <g transform=\"translate(19.925 218.555582)scale(0.1 -0.1)\">\r\n",
       "       <use xlink:href=\"#DejaVuSans-48\"/>\r\n",
       "      </g>\r\n",
       "     </g>\r\n",
       "    </g>\r\n",
       "    <g id=\"ytick_2\">\r\n",
       "     <g id=\"line2d_11\">\r\n",
       "      <g>\r\n",
       "       <use style=\"stroke:#000000;stroke-width:0.8;\" x=\"33.2875\" xlink:href=\"#m172cdce20b\" y=\"186.26535\"/>\r\n",
       "      </g>\r\n",
       "     </g>\r\n",
       "     <g id=\"text_11\">\r\n",
       "      <!-- 100 -->\r\n",
       "      <g transform=\"translate(7.2 190.064569)scale(0.1 -0.1)\">\r\n",
       "       <use xlink:href=\"#DejaVuSans-49\"/>\r\n",
       "       <use x=\"63.623047\" xlink:href=\"#DejaVuSans-48\"/>\r\n",
       "       <use x=\"127.246094\" xlink:href=\"#DejaVuSans-48\"/>\r\n",
       "      </g>\r\n",
       "     </g>\r\n",
       "    </g>\r\n",
       "    <g id=\"ytick_3\">\r\n",
       "     <g id=\"line2d_12\">\r\n",
       "      <g>\r\n",
       "       <use style=\"stroke:#000000;stroke-width:0.8;\" x=\"33.2875\" xlink:href=\"#m172cdce20b\" y=\"157.774337\"/>\r\n",
       "      </g>\r\n",
       "     </g>\r\n",
       "     <g id=\"text_12\">\r\n",
       "      <!-- 200 -->\r\n",
       "      <g transform=\"translate(7.2 161.573555)scale(0.1 -0.1)\">\r\n",
       "       <use xlink:href=\"#DejaVuSans-50\"/>\r\n",
       "       <use x=\"63.623047\" xlink:href=\"#DejaVuSans-48\"/>\r\n",
       "       <use x=\"127.246094\" xlink:href=\"#DejaVuSans-48\"/>\r\n",
       "      </g>\r\n",
       "     </g>\r\n",
       "    </g>\r\n",
       "    <g id=\"ytick_4\">\r\n",
       "     <g id=\"line2d_13\">\r\n",
       "      <g>\r\n",
       "       <use style=\"stroke:#000000;stroke-width:0.8;\" x=\"33.2875\" xlink:href=\"#m172cdce20b\" y=\"129.283323\"/>\r\n",
       "      </g>\r\n",
       "     </g>\r\n",
       "     <g id=\"text_13\">\r\n",
       "      <!-- 300 -->\r\n",
       "      <g transform=\"translate(7.2 133.082542)scale(0.1 -0.1)\">\r\n",
       "       <defs>\r\n",
       "        <path d=\"M 40.578125 39.3125 \r\n",
       "Q 47.65625 37.796875 51.625 33 \r\n",
       "Q 55.609375 28.21875 55.609375 21.1875 \r\n",
       "Q 55.609375 10.40625 48.1875 4.484375 \r\n",
       "Q 40.765625 -1.421875 27.09375 -1.421875 \r\n",
       "Q 22.515625 -1.421875 17.65625 -0.515625 \r\n",
       "Q 12.796875 0.390625 7.625 2.203125 \r\n",
       "L 7.625 11.71875 \r\n",
       "Q 11.71875 9.328125 16.59375 8.109375 \r\n",
       "Q 21.484375 6.890625 26.8125 6.890625 \r\n",
       "Q 36.078125 6.890625 40.9375 10.546875 \r\n",
       "Q 45.796875 14.203125 45.796875 21.1875 \r\n",
       "Q 45.796875 27.640625 41.28125 31.265625 \r\n",
       "Q 36.765625 34.90625 28.71875 34.90625 \r\n",
       "L 20.21875 34.90625 \r\n",
       "L 20.21875 43.015625 \r\n",
       "L 29.109375 43.015625 \r\n",
       "Q 36.375 43.015625 40.234375 45.921875 \r\n",
       "Q 44.09375 48.828125 44.09375 54.296875 \r\n",
       "Q 44.09375 59.90625 40.109375 62.90625 \r\n",
       "Q 36.140625 65.921875 28.71875 65.921875 \r\n",
       "Q 24.65625 65.921875 20.015625 65.03125 \r\n",
       "Q 15.375 64.15625 9.8125 62.3125 \r\n",
       "L 9.8125 71.09375 \r\n",
       "Q 15.4375 72.65625 20.34375 73.4375 \r\n",
       "Q 25.25 74.21875 29.59375 74.21875 \r\n",
       "Q 40.828125 74.21875 47.359375 69.109375 \r\n",
       "Q 53.90625 64.015625 53.90625 55.328125 \r\n",
       "Q 53.90625 49.265625 50.4375 45.09375 \r\n",
       "Q 46.96875 40.921875 40.578125 39.3125 \r\n",
       "z\r\n",
       "\" id=\"DejaVuSans-51\"/>\r\n",
       "       </defs>\r\n",
       "       <use xlink:href=\"#DejaVuSans-51\"/>\r\n",
       "       <use x=\"63.623047\" xlink:href=\"#DejaVuSans-48\"/>\r\n",
       "       <use x=\"127.246094\" xlink:href=\"#DejaVuSans-48\"/>\r\n",
       "      </g>\r\n",
       "     </g>\r\n",
       "    </g>\r\n",
       "    <g id=\"ytick_5\">\r\n",
       "     <g id=\"line2d_14\">\r\n",
       "      <g>\r\n",
       "       <use style=\"stroke:#000000;stroke-width:0.8;\" x=\"33.2875\" xlink:href=\"#m172cdce20b\" y=\"100.79231\"/>\r\n",
       "      </g>\r\n",
       "     </g>\r\n",
       "     <g id=\"text_14\">\r\n",
       "      <!-- 400 -->\r\n",
       "      <g transform=\"translate(7.2 104.591529)scale(0.1 -0.1)\">\r\n",
       "       <defs>\r\n",
       "        <path d=\"M 37.796875 64.3125 \r\n",
       "L 12.890625 25.390625 \r\n",
       "L 37.796875 25.390625 \r\n",
       "z\r\n",
       "M 35.203125 72.90625 \r\n",
       "L 47.609375 72.90625 \r\n",
       "L 47.609375 25.390625 \r\n",
       "L 58.015625 25.390625 \r\n",
       "L 58.015625 17.1875 \r\n",
       "L 47.609375 17.1875 \r\n",
       "L 47.609375 0 \r\n",
       "L 37.796875 0 \r\n",
       "L 37.796875 17.1875 \r\n",
       "L 4.890625 17.1875 \r\n",
       "L 4.890625 26.703125 \r\n",
       "z\r\n",
       "\" id=\"DejaVuSans-52\"/>\r\n",
       "       </defs>\r\n",
       "       <use xlink:href=\"#DejaVuSans-52\"/>\r\n",
       "       <use x=\"63.623047\" xlink:href=\"#DejaVuSans-48\"/>\r\n",
       "       <use x=\"127.246094\" xlink:href=\"#DejaVuSans-48\"/>\r\n",
       "      </g>\r\n",
       "     </g>\r\n",
       "    </g>\r\n",
       "    <g id=\"ytick_6\">\r\n",
       "     <g id=\"line2d_15\">\r\n",
       "      <g>\r\n",
       "       <use style=\"stroke:#000000;stroke-width:0.8;\" x=\"33.2875\" xlink:href=\"#m172cdce20b\" y=\"72.301296\"/>\r\n",
       "      </g>\r\n",
       "     </g>\r\n",
       "     <g id=\"text_15\">\r\n",
       "      <!-- 500 -->\r\n",
       "      <g transform=\"translate(7.2 76.100515)scale(0.1 -0.1)\">\r\n",
       "       <use xlink:href=\"#DejaVuSans-53\"/>\r\n",
       "       <use x=\"63.623047\" xlink:href=\"#DejaVuSans-48\"/>\r\n",
       "       <use x=\"127.246094\" xlink:href=\"#DejaVuSans-48\"/>\r\n",
       "      </g>\r\n",
       "     </g>\r\n",
       "    </g>\r\n",
       "    <g id=\"ytick_7\">\r\n",
       "     <g id=\"line2d_16\">\r\n",
       "      <g>\r\n",
       "       <use style=\"stroke:#000000;stroke-width:0.8;\" x=\"33.2875\" xlink:href=\"#m172cdce20b\" y=\"43.810283\"/>\r\n",
       "      </g>\r\n",
       "     </g>\r\n",
       "     <g id=\"text_16\">\r\n",
       "      <!-- 600 -->\r\n",
       "      <g transform=\"translate(7.2 47.609502)scale(0.1 -0.1)\">\r\n",
       "       <defs>\r\n",
       "        <path d=\"M 33.015625 40.375 \r\n",
       "Q 26.375 40.375 22.484375 35.828125 \r\n",
       "Q 18.609375 31.296875 18.609375 23.390625 \r\n",
       "Q 18.609375 15.53125 22.484375 10.953125 \r\n",
       "Q 26.375 6.390625 33.015625 6.390625 \r\n",
       "Q 39.65625 6.390625 43.53125 10.953125 \r\n",
       "Q 47.40625 15.53125 47.40625 23.390625 \r\n",
       "Q 47.40625 31.296875 43.53125 35.828125 \r\n",
       "Q 39.65625 40.375 33.015625 40.375 \r\n",
       "z\r\n",
       "M 52.59375 71.296875 \r\n",
       "L 52.59375 62.3125 \r\n",
       "Q 48.875 64.0625 45.09375 64.984375 \r\n",
       "Q 41.3125 65.921875 37.59375 65.921875 \r\n",
       "Q 27.828125 65.921875 22.671875 59.328125 \r\n",
       "Q 17.53125 52.734375 16.796875 39.40625 \r\n",
       "Q 19.671875 43.65625 24.015625 45.921875 \r\n",
       "Q 28.375 48.1875 33.59375 48.1875 \r\n",
       "Q 44.578125 48.1875 50.953125 41.515625 \r\n",
       "Q 57.328125 34.859375 57.328125 23.390625 \r\n",
       "Q 57.328125 12.15625 50.6875 5.359375 \r\n",
       "Q 44.046875 -1.421875 33.015625 -1.421875 \r\n",
       "Q 20.359375 -1.421875 13.671875 8.265625 \r\n",
       "Q 6.984375 17.96875 6.984375 36.375 \r\n",
       "Q 6.984375 53.65625 15.1875 63.9375 \r\n",
       "Q 23.390625 74.21875 37.203125 74.21875 \r\n",
       "Q 40.921875 74.21875 44.703125 73.484375 \r\n",
       "Q 48.484375 72.75 52.59375 71.296875 \r\n",
       "z\r\n",
       "\" id=\"DejaVuSans-54\"/>\r\n",
       "       </defs>\r\n",
       "       <use xlink:href=\"#DejaVuSans-54\"/>\r\n",
       "       <use x=\"63.623047\" xlink:href=\"#DejaVuSans-48\"/>\r\n",
       "       <use x=\"127.246094\" xlink:href=\"#DejaVuSans-48\"/>\r\n",
       "      </g>\r\n",
       "     </g>\r\n",
       "    </g>\r\n",
       "    <g id=\"ytick_8\">\r\n",
       "     <g id=\"line2d_17\">\r\n",
       "      <g>\r\n",
       "       <use style=\"stroke:#000000;stroke-width:0.8;\" x=\"33.2875\" xlink:href=\"#m172cdce20b\" y=\"15.319269\"/>\r\n",
       "      </g>\r\n",
       "     </g>\r\n",
       "     <g id=\"text_17\">\r\n",
       "      <!-- 700 -->\r\n",
       "      <g transform=\"translate(7.2 19.118488)scale(0.1 -0.1)\">\r\n",
       "       <use xlink:href=\"#DejaVuSans-55\"/>\r\n",
       "       <use x=\"63.623047\" xlink:href=\"#DejaVuSans-48\"/>\r\n",
       "       <use x=\"127.246094\" xlink:href=\"#DejaVuSans-48\"/>\r\n",
       "      </g>\r\n",
       "     </g>\r\n",
       "    </g>\r\n",
       "   </g>\r\n",
       "   <g id=\"line2d_18\">\r\n",
       "    <path clip-path=\"url(#p9e99883c32)\" d=\"M 48.505682 214.756364 \r\n",
       "L 100.2475 214.647837 \r\n",
       "L 116.9875 214.406667 \r\n",
       "L 127.640227 214.044802 \r\n",
       "L 135.249318 213.585548 \r\n",
       "L 138.292955 213.295665 \r\n",
       "L 141.336591 212.799963 \r\n",
       "L 144.380227 212.104603 \r\n",
       "L 147.423864 211.221562 \r\n",
       "L 150.4675 210.138008 \r\n",
       "L 153.511136 208.827317 \r\n",
       "L 156.554773 207.255679 \r\n",
       "L 159.598409 205.385058 \r\n",
       "L 162.642045 203.174923 \r\n",
       "L 165.685682 200.583881 \r\n",
       "L 168.729318 197.571623 \r\n",
       "L 171.772955 194.101279 \r\n",
       "L 174.816591 190.142132 \r\n",
       "L 177.860227 185.672521 \r\n",
       "L 180.903864 180.682637 \r\n",
       "L 183.9475 175.176914 \r\n",
       "L 186.991136 169.175652 \r\n",
       "L 190.034773 162.715605 \r\n",
       "L 193.078409 155.849387 \r\n",
       "L 197.643864 144.937486 \r\n",
       "L 203.731136 129.672961 \r\n",
       "L 212.862045 106.668833 \r\n",
       "L 217.4275 95.711806 \r\n",
       "L 221.992955 85.406962 \r\n",
       "L 225.036591 78.974052 \r\n",
       "L 228.080227 72.92627 \r\n",
       "L 231.123864 67.281989 \r\n",
       "L 234.1675 62.049967 \r\n",
       "L 237.211136 57.230603 \r\n",
       "L 240.254773 52.817285 \r\n",
       "L 243.298409 48.797746 \r\n",
       "L 246.342045 45.15534 \r\n",
       "L 249.385682 41.870219 \r\n",
       "L 252.429318 38.920367 \r\n",
       "L 255.472955 36.282489 \r\n",
       "L 258.516591 33.932746 \r\n",
       "L 261.560227 31.847354 \r\n",
       "L 264.603864 30.003045 \r\n",
       "L 267.6475 28.377423 \r\n",
       "L 270.691136 26.949213 \r\n",
       "L 273.734773 25.698429 \r\n",
       "L 278.300227 24.114636 \r\n",
       "L 282.865682 22.831836 \r\n",
       "L 287.431136 21.800509 \r\n",
       "L 291.996591 20.977972 \r\n",
       "L 298.083864 20.143971 \r\n",
       "L 305.692955 19.404429 \r\n",
       "L 317.8675 18.48403 \r\n",
       "L 330.042045 17.809125 \r\n",
       "L 343.738409 17.306433 \r\n",
       "L 352.869318 17.083636 \r\n",
       "L 352.869318 17.083636 \r\n",
       "\" style=\"fill:none;stroke:#1f77b4;stroke-linecap:square;stroke-width:1.5;\"/>\r\n",
       "   </g>\r\n",
       "   <g id=\"patch_3\">\r\n",
       "    <path d=\"M 33.2875 224.64 \r\n",
       "L 33.2875 7.2 \r\n",
       "\" style=\"fill:none;stroke:#000000;stroke-linecap:square;stroke-linejoin:miter;stroke-width:0.8;\"/>\r\n",
       "   </g>\r\n",
       "   <g id=\"patch_4\">\r\n",
       "    <path d=\"M 368.0875 224.64 \r\n",
       "L 368.0875 7.2 \r\n",
       "\" style=\"fill:none;stroke:#000000;stroke-linecap:square;stroke-linejoin:miter;stroke-width:0.8;\"/>\r\n",
       "   </g>\r\n",
       "   <g id=\"patch_5\">\r\n",
       "    <path d=\"M 33.2875 224.64 \r\n",
       "L 368.0875 224.64 \r\n",
       "\" style=\"fill:none;stroke:#000000;stroke-linecap:square;stroke-linejoin:miter;stroke-width:0.8;\"/>\r\n",
       "   </g>\r\n",
       "   <g id=\"patch_6\">\r\n",
       "    <path d=\"M 33.2875 7.2 \r\n",
       "L 368.0875 7.2 \r\n",
       "\" style=\"fill:none;stroke:#000000;stroke-linecap:square;stroke-linejoin:miter;stroke-width:0.8;\"/>\r\n",
       "   </g>\r\n",
       "  </g>\r\n",
       " </g>\r\n",
       " <defs>\r\n",
       "  <clipPath id=\"p9e99883c32\">\r\n",
       "   <rect height=\"217.44\" width=\"334.8\" x=\"33.2875\" y=\"7.2\"/>\r\n",
       "  </clipPath>\r\n",
       " </defs>\r\n",
       "</svg>\r\n"
      ],
      "text/plain": [
       "<Figure size 432x288 with 1 Axes>"
      ]
     },
     "metadata": {
      "needs_background": "light"
     },
     "output_type": "display_data"
    }
   ],
   "source": [
    "for index,group in better_hygiene_6_month_groups:\n",
    "    group['Deaths'].plot()"
   ]
  },
  {
   "cell_type": "code",
   "execution_count": 99,
   "id": "composed-boston",
   "metadata": {},
   "outputs": [],
   "source": [
    "do_nothing_infected = 0 \n",
    "for index, group in sim_groups:\n",
    "    do_nothing_infected = group[\"Infected (symptomatic)\"][1:31]"
   ]
  },
  {
   "cell_type": "code",
   "execution_count": 100,
   "id": "synthetic-fitting",
   "metadata": {},
   "outputs": [],
   "source": [
    "camp_baseline_infected = 0 \n",
    "for index, group in sim_groups_camp:\n",
    "    camp_baseline_infected = group[\"Infected (symptomatic)\"][1:31]"
   ]
  },
  {
   "cell_type": "code",
   "execution_count": 101,
   "id": "moved-berkeley",
   "metadata": {},
   "outputs": [],
   "source": [
    "do_nothing_hospitalised = 0 \n",
    "for index, group in sim_groups:\n",
    "    do_nothing_hospitalised = group[\"Hospitalised\"][1:31]"
   ]
  },
  {
   "cell_type": "code",
   "execution_count": 102,
   "id": "endless-links",
   "metadata": {},
   "outputs": [],
   "source": [
    "camp_baseline_hospitalised = 0 \n",
    "for index, group in sim_groups_camp:\n",
    "    camp_baseline_hospitalised = group[\"Hospitalised\"][1:31]"
   ]
  },
  {
   "cell_type": "code",
   "execution_count": 103,
   "id": "herbal-california",
   "metadata": {},
   "outputs": [],
   "source": [
    "do_nothing_critical = 0 \n",
    "for index, group in sim_groups:\n",
    "    do_nothing_critical = group[\"Critical\"][1:31]"
   ]
  },
  {
   "cell_type": "code",
   "execution_count": 104,
   "id": "rocky-favorite",
   "metadata": {},
   "outputs": [],
   "source": [
    "camp_baseline_critical = 0 \n",
    "for index, group in sim_groups_camp:\n",
    "    camp_baseline_critical = group[\"Critical\"][1:31]"
   ]
  },
  {
   "cell_type": "code",
   "execution_count": 105,
   "id": "nearby-municipality",
   "metadata": {},
   "outputs": [],
   "source": [
    "do_nothing_deaths = 0 \n",
    "for index, group in sim_groups:\n",
    "    do_nothing_deaths = group[\"Deaths\"][1:31]"
   ]
  },
  {
   "cell_type": "code",
   "execution_count": 106,
   "id": "devoted-sculpture",
   "metadata": {},
   "outputs": [],
   "source": [
    "camp_baseline_deaths = 0 \n",
    "for index, group in sim_groups_camp:\n",
    "    camp_baseline_deaths = group[\"Deaths\"][1:31]"
   ]
  },
  {
   "cell_type": "code",
   "execution_count": 107,
   "id": "blank-exclusive",
   "metadata": {},
   "outputs": [],
   "source": [
    "better_hygiene_infected = 0 \n",
    "for index, group in better_hygiene_6_month_groups:\n",
    "    better_hygiene_infected = group[\"Infected (symptomatic)\"][1:31]"
   ]
  },
  {
   "cell_type": "code",
   "execution_count": 108,
   "id": "israeli-auction",
   "metadata": {},
   "outputs": [],
   "source": [
    "better_hygiene_hospitalised = 0 \n",
    "for index, group in better_hygiene_6_month_groups:\n",
    "    better_hygiene_hospitalised = group[\"Hospitalised\"][1:31]"
   ]
  },
  {
   "cell_type": "code",
   "execution_count": 109,
   "id": "radio-borough",
   "metadata": {},
   "outputs": [],
   "source": [
    "better_hygiene_critical = 0 \n",
    "for index, group in better_hygiene_6_month_groups:\n",
    "    better_hygiene_critical = group[\"Critical\"][1:31]"
   ]
  },
  {
   "cell_type": "code",
   "execution_count": 110,
   "id": "former-length",
   "metadata": {},
   "outputs": [],
   "source": [
    "better_hygiene_deaths = 0 \n",
    "for index, group in better_hygiene_6_month_groups:\n",
    "    better_hygiene_deaths = group[\"Deaths\"][1:31]"
   ]
  },
  {
   "cell_type": "code",
   "execution_count": 111,
   "id": "verified-beatles",
   "metadata": {},
   "outputs": [],
   "source": [
    "from numpy.testing import assert_array_less"
   ]
  },
  {
   "cell_type": "code",
   "execution_count": 112,
   "id": "aboriginal-pakistan",
   "metadata": {},
   "outputs": [],
   "source": [
    "#testing infected is lesser in better hygiene scenarios than do nothing\n",
    "assert_array_less(better_hygiene_infected, do_nothing_infected)"
   ]
  },
  {
   "cell_type": "code",
   "execution_count": 113,
   "id": "bacterial-dublin",
   "metadata": {},
   "outputs": [
    {
     "ename": "AssertionError",
     "evalue": "\nArrays are not less-ordered\n\nMismatched elements: 30 / 30 (100%)\nMax absolute difference: 10.22917834\nMax relative difference: 28.48541538\n x: array([ 0.877414,  0.834409,  0.841165,  0.880484,  0.942621,  1.022229,\n        1.116605,  1.224625,  1.346158,  1.481701,  1.632178,  1.798846,\n        1.983206,  2.187006,  2.4122  ,  2.660993,  2.935821,  3.239373,...\n y: array([0.339932, 0.163924, 0.122088, 0.116584, 0.120369, 0.12619 ,\n       0.132263, 0.138266, 0.144238, 0.150285, 0.156502, 0.162967,\n       0.169739, 0.176864, 0.184376, 0.192306, 0.20068 , 0.209514,...",
     "output_type": "error",
     "traceback": [
      "\u001b[1;31m---------------------------------------------------------------------------\u001b[0m",
      "\u001b[1;31mAssertionError\u001b[0m                            Traceback (most recent call last)",
      "\u001b[1;32m<ipython-input-113-48b948c110e4>\u001b[0m in \u001b[0;36m<module>\u001b[1;34m\u001b[0m\n\u001b[0;32m      1\u001b[0m \u001b[1;31m#testing infected is lesser in better hygiene scenarios than camp baselines\u001b[0m\u001b[1;33m\u001b[0m\u001b[1;33m\u001b[0m\u001b[1;33m\u001b[0m\u001b[0m\n\u001b[1;32m----> 2\u001b[1;33m \u001b[0massert_array_less\u001b[0m\u001b[1;33m(\u001b[0m\u001b[0mbetter_hygiene_infected\u001b[0m\u001b[1;33m,\u001b[0m \u001b[0mcamp_baseline_infected\u001b[0m\u001b[1;33m)\u001b[0m\u001b[1;33m\u001b[0m\u001b[1;33m\u001b[0m\u001b[0m\n\u001b[0m",
      "    \u001b[1;31m[... skipping hidden 1 frame]\u001b[0m\n",
      "\u001b[1;32mD:\\Anaconda\\envs\\compartment\\lib\\site-packages\\numpy\\testing\\_private\\utils.py\u001b[0m in \u001b[0;36massert_array_compare\u001b[1;34m(comparison, x, y, err_msg, verbose, header, precision, equal_nan, equal_inf)\u001b[0m\n\u001b[0;32m    838\u001b[0m                                 \u001b[0mverbose\u001b[0m\u001b[1;33m=\u001b[0m\u001b[0mverbose\u001b[0m\u001b[1;33m,\u001b[0m \u001b[0mheader\u001b[0m\u001b[1;33m=\u001b[0m\u001b[0mheader\u001b[0m\u001b[1;33m,\u001b[0m\u001b[1;33m\u001b[0m\u001b[1;33m\u001b[0m\u001b[0m\n\u001b[0;32m    839\u001b[0m                                 names=('x', 'y'), precision=precision)\n\u001b[1;32m--> 840\u001b[1;33m             \u001b[1;32mraise\u001b[0m \u001b[0mAssertionError\u001b[0m\u001b[1;33m(\u001b[0m\u001b[0mmsg\u001b[0m\u001b[1;33m)\u001b[0m\u001b[1;33m\u001b[0m\u001b[1;33m\u001b[0m\u001b[0m\n\u001b[0m\u001b[0;32m    841\u001b[0m     \u001b[1;32mexcept\u001b[0m \u001b[0mValueError\u001b[0m\u001b[1;33m:\u001b[0m\u001b[1;33m\u001b[0m\u001b[1;33m\u001b[0m\u001b[0m\n\u001b[0;32m    842\u001b[0m         \u001b[1;32mimport\u001b[0m \u001b[0mtraceback\u001b[0m\u001b[1;33m\u001b[0m\u001b[1;33m\u001b[0m\u001b[0m\n",
      "\u001b[1;31mAssertionError\u001b[0m: \nArrays are not less-ordered\n\nMismatched elements: 30 / 30 (100%)\nMax absolute difference: 10.22917834\nMax relative difference: 28.48541538\n x: array([ 0.877414,  0.834409,  0.841165,  0.880484,  0.942621,  1.022229,\n        1.116605,  1.224625,  1.346158,  1.481701,  1.632178,  1.798846,\n        1.983206,  2.187006,  2.4122  ,  2.660993,  2.935821,  3.239373,...\n y: array([0.339932, 0.163924, 0.122088, 0.116584, 0.120369, 0.12619 ,\n       0.132263, 0.138266, 0.144238, 0.150285, 0.156502, 0.162967,\n       0.169739, 0.176864, 0.184376, 0.192306, 0.20068 , 0.209514,..."
     ]
    }
   ],
   "source": [
    "#testing infected is lesser in better hygiene scenarios than camp baselines\n",
    "assert_array_less(better_hygiene_infected, camp_baseline_infected)"
   ]
  },
  {
   "cell_type": "code",
   "execution_count": 114,
   "id": "offensive-likelihood",
   "metadata": {},
   "outputs": [],
   "source": [
    "#testing hospitalised is lesser in better hygiene scenarios than do nothing\n",
    "assert_array_less(better_hygiene_hospitalised, do_nothing_hospitalised)"
   ]
  },
  {
   "cell_type": "code",
   "execution_count": 115,
   "id": "advance-utility",
   "metadata": {},
   "outputs": [
    {
     "ename": "AssertionError",
     "evalue": "\nArrays are not less-ordered\n\nMismatched elements: 30 / 30 (100%)\nMax absolute difference: 2.24549809\nMax relative difference: 15.62683586\n x: array([0.033381, 0.061181, 0.086536, 0.111296, 0.136573, 0.163071,\n       0.191267, 0.221527, 0.254165, 0.289486, 0.327803, 0.369454,\n       0.414811, 0.464284, 0.51833 , 0.577454, 0.642215, 0.713232,...\n y: array([0.02176 , 0.029031, 0.032656, 0.035511, 0.038304, 0.04118 ,\n       0.044143, 0.047179, 0.050273, 0.053421, 0.056624, 0.059888,\n       0.063224, 0.066642, 0.070157, 0.073781, 0.077528, 0.081413,...",
     "output_type": "error",
     "traceback": [
      "\u001b[1;31m---------------------------------------------------------------------------\u001b[0m",
      "\u001b[1;31mAssertionError\u001b[0m                            Traceback (most recent call last)",
      "\u001b[1;32m<ipython-input-115-eacb34cd203e>\u001b[0m in \u001b[0;36m<module>\u001b[1;34m\u001b[0m\n\u001b[0;32m      1\u001b[0m \u001b[1;31m#testing hospitalised is lesser in better hygiene scenarios\u001b[0m\u001b[1;33m\u001b[0m\u001b[1;33m\u001b[0m\u001b[1;33m\u001b[0m\u001b[0m\n\u001b[1;32m----> 2\u001b[1;33m \u001b[0massert_array_less\u001b[0m\u001b[1;33m(\u001b[0m\u001b[0mbetter_hygiene_hospitalised\u001b[0m\u001b[1;33m,\u001b[0m \u001b[0mcamp_baseline_hospitalised\u001b[0m\u001b[1;33m)\u001b[0m\u001b[1;33m\u001b[0m\u001b[1;33m\u001b[0m\u001b[0m\n\u001b[0m",
      "    \u001b[1;31m[... skipping hidden 1 frame]\u001b[0m\n",
      "\u001b[1;32mD:\\Anaconda\\envs\\compartment\\lib\\site-packages\\numpy\\testing\\_private\\utils.py\u001b[0m in \u001b[0;36massert_array_compare\u001b[1;34m(comparison, x, y, err_msg, verbose, header, precision, equal_nan, equal_inf)\u001b[0m\n\u001b[0;32m    838\u001b[0m                                 \u001b[0mverbose\u001b[0m\u001b[1;33m=\u001b[0m\u001b[0mverbose\u001b[0m\u001b[1;33m,\u001b[0m \u001b[0mheader\u001b[0m\u001b[1;33m=\u001b[0m\u001b[0mheader\u001b[0m\u001b[1;33m,\u001b[0m\u001b[1;33m\u001b[0m\u001b[1;33m\u001b[0m\u001b[0m\n\u001b[0;32m    839\u001b[0m                                 names=('x', 'y'), precision=precision)\n\u001b[1;32m--> 840\u001b[1;33m             \u001b[1;32mraise\u001b[0m \u001b[0mAssertionError\u001b[0m\u001b[1;33m(\u001b[0m\u001b[0mmsg\u001b[0m\u001b[1;33m)\u001b[0m\u001b[1;33m\u001b[0m\u001b[1;33m\u001b[0m\u001b[0m\n\u001b[0m\u001b[0;32m    841\u001b[0m     \u001b[1;32mexcept\u001b[0m \u001b[0mValueError\u001b[0m\u001b[1;33m:\u001b[0m\u001b[1;33m\u001b[0m\u001b[1;33m\u001b[0m\u001b[0m\n\u001b[0;32m    842\u001b[0m         \u001b[1;32mimport\u001b[0m \u001b[0mtraceback\u001b[0m\u001b[1;33m\u001b[0m\u001b[1;33m\u001b[0m\u001b[0m\n",
      "\u001b[1;31mAssertionError\u001b[0m: \nArrays are not less-ordered\n\nMismatched elements: 30 / 30 (100%)\nMax absolute difference: 2.24549809\nMax relative difference: 15.62683586\n x: array([0.033381, 0.061181, 0.086536, 0.111296, 0.136573, 0.163071,\n       0.191267, 0.221527, 0.254165, 0.289486, 0.327803, 0.369454,\n       0.414811, 0.464284, 0.51833 , 0.577454, 0.642215, 0.713232,...\n y: array([0.02176 , 0.029031, 0.032656, 0.035511, 0.038304, 0.04118 ,\n       0.044143, 0.047179, 0.050273, 0.053421, 0.056624, 0.059888,\n       0.063224, 0.066642, 0.070157, 0.073781, 0.077528, 0.081413,..."
     ]
    }
   ],
   "source": [
    "#testing hospitalised is lesser in better hygiene scenarios than camp baseline\n",
    "assert_array_less(better_hygiene_hospitalised, camp_baseline_hospitalised)"
   ]
  },
  {
   "cell_type": "code",
   "execution_count": 116,
   "id": "independent-array",
   "metadata": {},
   "outputs": [],
   "source": [
    "#testing critcal is lesser in better hygiene scenarios than do nothing\n",
    "assert_array_less(better_hygiene_critical, do_nothing_critical)"
   ]
  },
  {
   "cell_type": "code",
   "execution_count": 117,
   "id": "chubby-firmware",
   "metadata": {},
   "outputs": [
    {
     "ename": "AssertionError",
     "evalue": "\nArrays are not less-ordered\n\nMismatched elements: 30 / 30 (100%)\nMax absolute difference: 0.33932227\nMax relative difference: 11.41409855\n x: array([0.000528, 0.001908, 0.003944, 0.006528, 0.009608, 0.013162,\n       0.017188, 0.021698, 0.02671 , 0.032252, 0.038356, 0.045064,\n       0.052422, 0.060483, 0.069309, 0.078971, 0.089547, 0.101126,...\n y: array([0.000395, 0.001135, 0.001953, 0.002785, 0.00362 , 0.004458,\n       0.005302, 0.006154, 0.007014, 0.007885, 0.008766, 0.009658,\n       0.010561, 0.011478, 0.01241 , 0.013358, 0.014324, 0.01531 ,...",
     "output_type": "error",
     "traceback": [
      "\u001b[1;31m---------------------------------------------------------------------------\u001b[0m",
      "\u001b[1;31mAssertionError\u001b[0m                            Traceback (most recent call last)",
      "\u001b[1;32m<ipython-input-117-36b0d167ad05>\u001b[0m in \u001b[0;36m<module>\u001b[1;34m\u001b[0m\n\u001b[1;32m----> 1\u001b[1;33m \u001b[0massert_array_less\u001b[0m\u001b[1;33m(\u001b[0m\u001b[0mbetter_hygiene_critical\u001b[0m\u001b[1;33m,\u001b[0m \u001b[0mcamp_baseline_critical\u001b[0m\u001b[1;33m)\u001b[0m\u001b[1;33m\u001b[0m\u001b[1;33m\u001b[0m\u001b[0m\n\u001b[0m",
      "    \u001b[1;31m[... skipping hidden 1 frame]\u001b[0m\n",
      "\u001b[1;32mD:\\Anaconda\\envs\\compartment\\lib\\site-packages\\numpy\\testing\\_private\\utils.py\u001b[0m in \u001b[0;36massert_array_compare\u001b[1;34m(comparison, x, y, err_msg, verbose, header, precision, equal_nan, equal_inf)\u001b[0m\n\u001b[0;32m    838\u001b[0m                                 \u001b[0mverbose\u001b[0m\u001b[1;33m=\u001b[0m\u001b[0mverbose\u001b[0m\u001b[1;33m,\u001b[0m \u001b[0mheader\u001b[0m\u001b[1;33m=\u001b[0m\u001b[0mheader\u001b[0m\u001b[1;33m,\u001b[0m\u001b[1;33m\u001b[0m\u001b[1;33m\u001b[0m\u001b[0m\n\u001b[0;32m    839\u001b[0m                                 names=('x', 'y'), precision=precision)\n\u001b[1;32m--> 840\u001b[1;33m             \u001b[1;32mraise\u001b[0m \u001b[0mAssertionError\u001b[0m\u001b[1;33m(\u001b[0m\u001b[0mmsg\u001b[0m\u001b[1;33m)\u001b[0m\u001b[1;33m\u001b[0m\u001b[1;33m\u001b[0m\u001b[0m\n\u001b[0m\u001b[0;32m    841\u001b[0m     \u001b[1;32mexcept\u001b[0m \u001b[0mValueError\u001b[0m\u001b[1;33m:\u001b[0m\u001b[1;33m\u001b[0m\u001b[1;33m\u001b[0m\u001b[0m\n\u001b[0;32m    842\u001b[0m         \u001b[1;32mimport\u001b[0m \u001b[0mtraceback\u001b[0m\u001b[1;33m\u001b[0m\u001b[1;33m\u001b[0m\u001b[0m\n",
      "\u001b[1;31mAssertionError\u001b[0m: \nArrays are not less-ordered\n\nMismatched elements: 30 / 30 (100%)\nMax absolute difference: 0.33932227\nMax relative difference: 11.41409855\n x: array([0.000528, 0.001908, 0.003944, 0.006528, 0.009608, 0.013162,\n       0.017188, 0.021698, 0.02671 , 0.032252, 0.038356, 0.045064,\n       0.052422, 0.060483, 0.069309, 0.078971, 0.089547, 0.101126,...\n y: array([0.000395, 0.001135, 0.001953, 0.002785, 0.00362 , 0.004458,\n       0.005302, 0.006154, 0.007014, 0.007885, 0.008766, 0.009658,\n       0.010561, 0.011478, 0.01241 , 0.013358, 0.014324, 0.01531 ,..."
     ]
    }
   ],
   "source": [
    "#testing critcal is lesser in better hygiene scenarios than camp_baselines\n",
    "assert_array_less(better_hygiene_critical, camp_baseline_critical)"
   ]
  },
  {
   "cell_type": "code",
   "execution_count": 76,
   "id": "short-victim",
   "metadata": {},
   "outputs": [],
   "source": [
    "#testing deaths is lesser in better hygiene scenarios than do nothing\n",
    "assert_array_less(better_hygiene_deaths, do_nothing_deaths)"
   ]
  },
  {
   "cell_type": "code",
   "execution_count": 118,
   "id": "operational-grain",
   "metadata": {},
   "outputs": [
    {
     "ename": "AssertionError",
     "evalue": "\nArrays are not less-ordered\n\nMismatched elements: 30 / 30 (100%)\nMax absolute difference: 0.21102775\nMax relative difference: 6.98723836\n x: array([1.389568e-05, 1.027444e-04, 3.236976e-04, 7.225287e-04,\n       1.339067e-03, 2.210405e-03, 3.372792e-03, 4.862851e-03,\n       6.718377e-03, 8.978962e-03, 1.168653e-02, 1.488580e-02,...\n y: array([1.115774e-05, 6.896641e-05, 1.873681e-04, 3.692723e-04,\n       6.151798e-04, 9.253100e-04, 1.300027e-03, 1.739857e-03,\n       2.245443e-03, 2.817500e-03, 3.456799e-03, 4.164163e-03,...",
     "output_type": "error",
     "traceback": [
      "\u001b[1;31m---------------------------------------------------------------------------\u001b[0m",
      "\u001b[1;31mAssertionError\u001b[0m                            Traceback (most recent call last)",
      "\u001b[1;32m<ipython-input-118-b5e2611eaa2c>\u001b[0m in \u001b[0;36m<module>\u001b[1;34m\u001b[0m\n\u001b[1;32m----> 1\u001b[1;33m \u001b[0massert_array_less\u001b[0m\u001b[1;33m(\u001b[0m\u001b[0mbetter_hygiene_deaths\u001b[0m\u001b[1;33m,\u001b[0m \u001b[0mcamp_baseline_deaths\u001b[0m\u001b[1;33m)\u001b[0m\u001b[1;33m\u001b[0m\u001b[1;33m\u001b[0m\u001b[0m\n\u001b[0m",
      "    \u001b[1;31m[... skipping hidden 1 frame]\u001b[0m\n",
      "\u001b[1;32mD:\\Anaconda\\envs\\compartment\\lib\\site-packages\\numpy\\testing\\_private\\utils.py\u001b[0m in \u001b[0;36massert_array_compare\u001b[1;34m(comparison, x, y, err_msg, verbose, header, precision, equal_nan, equal_inf)\u001b[0m\n\u001b[0;32m    838\u001b[0m                                 \u001b[0mverbose\u001b[0m\u001b[1;33m=\u001b[0m\u001b[0mverbose\u001b[0m\u001b[1;33m,\u001b[0m \u001b[0mheader\u001b[0m\u001b[1;33m=\u001b[0m\u001b[0mheader\u001b[0m\u001b[1;33m,\u001b[0m\u001b[1;33m\u001b[0m\u001b[1;33m\u001b[0m\u001b[0m\n\u001b[0;32m    839\u001b[0m                                 names=('x', 'y'), precision=precision)\n\u001b[1;32m--> 840\u001b[1;33m             \u001b[1;32mraise\u001b[0m \u001b[0mAssertionError\u001b[0m\u001b[1;33m(\u001b[0m\u001b[0mmsg\u001b[0m\u001b[1;33m)\u001b[0m\u001b[1;33m\u001b[0m\u001b[1;33m\u001b[0m\u001b[0m\n\u001b[0m\u001b[0;32m    841\u001b[0m     \u001b[1;32mexcept\u001b[0m \u001b[0mValueError\u001b[0m\u001b[1;33m:\u001b[0m\u001b[1;33m\u001b[0m\u001b[1;33m\u001b[0m\u001b[0m\n\u001b[0;32m    842\u001b[0m         \u001b[1;32mimport\u001b[0m \u001b[0mtraceback\u001b[0m\u001b[1;33m\u001b[0m\u001b[1;33m\u001b[0m\u001b[0m\n",
      "\u001b[1;31mAssertionError\u001b[0m: \nArrays are not less-ordered\n\nMismatched elements: 30 / 30 (100%)\nMax absolute difference: 0.21102775\nMax relative difference: 6.98723836\n x: array([1.389568e-05, 1.027444e-04, 3.236976e-04, 7.225287e-04,\n       1.339067e-03, 2.210405e-03, 3.372792e-03, 4.862851e-03,\n       6.718377e-03, 8.978962e-03, 1.168653e-02, 1.488580e-02,...\n y: array([1.115774e-05, 6.896641e-05, 1.873681e-04, 3.692723e-04,\n       6.151798e-04, 9.253100e-04, 1.300027e-03, 1.739857e-03,\n       2.245443e-03, 2.817500e-03, 3.456799e-03, 4.164163e-03,..."
     ]
    }
   ],
   "source": [
    "#testing deaths is lesser in better hygiene scenarios than camp baselines\n",
    "assert_array_less(better_hygiene_deaths, camp_baseline_deaths)"
   ]
  },
  {
   "cell_type": "code",
   "execution_count": 119,
   "id": "equal-intermediate",
   "metadata": {},
   "outputs": [],
   "source": [
    "# test isolation\n",
    "iso_6_month = SingleInterventionScenario(camp_params.total_population, [0], [180], model.infection_matrix, isolation_capacity_inter=10000, remove_symptomatic_rate_inter=10)"
   ]
  },
  {
   "cell_type": "code",
   "execution_count": 120,
   "id": "bacterial-minister",
   "metadata": {},
   "outputs": [
    {
     "name": "stdout",
     "output_type": "stream",
     "text": [
      "Wall time: 118 ms\n"
     ]
    }
   ],
   "source": [
    "%%time\n",
    "iso_6_month_results = model.run_single_simulation(iso_6_month, generated_params_df = runner.generated_params_df)"
   ]
  },
  {
   "cell_type": "code",
   "execution_count": 122,
   "id": "celtic-lightweight",
   "metadata": {},
   "outputs": [],
   "source": [
    "iso_6_month_results = camp_params.total_population * iso_6_month_results\n",
    "iso_6_month_results_groups = iso_6_month_results.groupby('R0')"
   ]
  },
  {
   "cell_type": "code",
   "execution_count": 123,
   "id": "dedicated-portsmouth",
   "metadata": {},
   "outputs": [
    {
     "data": {
      "image/png": "[encoded data removed]",
      "text/plain": [
       "<Figure size 432x288 with 1 Axes>"
      ]
     },
     "metadata": {
      "needs_background": "light"
     },
     "output_type": "display_data"
    }
   ],
   "source": [
    "for index,group in iso_6_month_results_groups:\n",
    "    group['Quarantined'].plot()"
   ]
  },
  {
   "cell_type": "code",
   "execution_count": 124,
   "id": "written-carroll",
   "metadata": {},
   "outputs": [
    {
     "data": {
      "image/png": "[encoded data removed]",
      "text/plain": [
       "<Figure size 432x288 with 1 Axes>"
      ]
     },
     "metadata": {
      "needs_background": "light"
     },
     "output_type": "display_data"
    }
   ],
   "source": [
    "for index,group in iso_6_month_results_groups:\n",
    "    (group['Infected (symptomatic)']+group['Quarantined']).plot()"
   ]
  },
  {
   "cell_type": "code",
   "execution_count": 17,
   "id": "compliant-luxury",
   "metadata": {},
   "outputs": [],
   "source": [
    "# the Infected dynamics is tinted while they are in quarantine - needs a better solution to deal with this (maybe extra compartments is the answer like the Tucker model)"
   ]
  },
  {
   "cell_type": "code",
   "execution_count": 126,
   "id": "simplified-harrison",
   "metadata": {},
   "outputs": [],
   "source": [
    "isolation_infected = 0 \n",
    "for index, group in iso_6_month_results_groups:\n",
    "    isolation_infected = group[\"Infected (symptomatic)\"][1:31]\n",
    "\n",
    "isolation_hospitalised = 0 \n",
    "for index, group in iso_6_month_results_groups:\n",
    "    isolation_hospitalised = group[\"Hospitalised\"][1:31]\n",
    "\n",
    "isolation_critical = 0 \n",
    "for index, group in iso_6_month_results_groups:\n",
    "    isolation_critical = group[\"Critical\"][1:31]\n",
    "\n",
    "isolation_deaths = 0 \n",
    "for index, group in iso_6_month_results_groups:\n",
    "    isolation_deaths = group[\"Deaths\"][1:31]"
   ]
  },
  {
   "cell_type": "code",
   "execution_count": 127,
   "id": "extensive-shadow",
   "metadata": {},
   "outputs": [],
   "source": [
    "#testing infected is lesser in isolation scenarios than do nothing\n",
    "assert_array_less(isolation_infected, do_nothing_infected)"
   ]
  },
  {
   "cell_type": "code",
   "execution_count": 128,
   "id": "national-trademark",
   "metadata": {},
   "outputs": [],
   "source": [
    "#testing hospitalised is lesser in isolation scenarios than do nothing\n",
    "assert_array_less(isolation_hospitalised, do_nothing_hospitalised)"
   ]
  },
  {
   "cell_type": "code",
   "execution_count": 129,
   "id": "hollywood-breath",
   "metadata": {},
   "outputs": [],
   "source": [
    "#testing critical is lesser in isolation scenarios than do nothing\n",
    "assert_array_less(isolation_critical, do_nothing_critical)"
   ]
  },
  {
   "cell_type": "code",
   "execution_count": 130,
   "id": "broad-buddy",
   "metadata": {},
   "outputs": [],
   "source": [
    "#testing deaths is lesser in isolation scenarios than do nothing\n",
    "assert_array_less(isolation_deaths, do_nothing_deaths)"
   ]
  },
  {
   "cell_type": "code",
   "execution_count": 136,
   "id": "light-national",
   "metadata": {},
   "outputs": [
    {
     "ename": "AssertionError",
     "evalue": "\nArrays are not less-ordered\n\nMismatched elements: 30 / 30 (100%)\nMax absolute difference: 10.22917834\nMax relative difference: 28.48541538\n x: array([ 0.877414,  0.834409,  0.841165,  0.880484,  0.942621,  1.022229,\n        1.116605,  1.224625,  1.346158,  1.481701,  1.632178,  1.798846,\n        1.983206,  2.187006,  2.4122  ,  2.660993,  2.935821,  3.239373,...\n y: array([0.339932, 0.163924, 0.122088, 0.116584, 0.120369, 0.12619 ,\n       0.132263, 0.138266, 0.144238, 0.150285, 0.156502, 0.162967,\n       0.169739, 0.176864, 0.184376, 0.192306, 0.20068 , 0.209514,...",
     "output_type": "error",
     "traceback": [
      "\u001b[1;31m---------------------------------------------------------------------------\u001b[0m",
      "\u001b[1;31mAssertionError\u001b[0m                            Traceback (most recent call last)",
      "\u001b[1;32m<ipython-input-136-d0855112a7f0>\u001b[0m in \u001b[0;36m<module>\u001b[1;34m\u001b[0m\n\u001b[0;32m      1\u001b[0m \u001b[1;31m#testing infected is lesser in isolation scenarios than camp_baseline\u001b[0m\u001b[1;33m\u001b[0m\u001b[1;33m\u001b[0m\u001b[1;33m\u001b[0m\u001b[0m\n\u001b[1;32m----> 2\u001b[1;33m \u001b[0massert_array_less\u001b[0m\u001b[1;33m(\u001b[0m\u001b[0mbetter_hygiene_infected\u001b[0m\u001b[1;33m,\u001b[0m \u001b[0mcamp_baseline_infected\u001b[0m\u001b[1;33m)\u001b[0m\u001b[1;33m\u001b[0m\u001b[1;33m\u001b[0m\u001b[0m\n\u001b[0m",
      "    \u001b[1;31m[... skipping hidden 1 frame]\u001b[0m\n",
      "\u001b[1;32mD:\\Anaconda\\envs\\compartment\\lib\\site-packages\\numpy\\testing\\_private\\utils.py\u001b[0m in \u001b[0;36massert_array_compare\u001b[1;34m(comparison, x, y, err_msg, verbose, header, precision, equal_nan, equal_inf)\u001b[0m\n\u001b[0;32m    838\u001b[0m                                 \u001b[0mverbose\u001b[0m\u001b[1;33m=\u001b[0m\u001b[0mverbose\u001b[0m\u001b[1;33m,\u001b[0m \u001b[0mheader\u001b[0m\u001b[1;33m=\u001b[0m\u001b[0mheader\u001b[0m\u001b[1;33m,\u001b[0m\u001b[1;33m\u001b[0m\u001b[1;33m\u001b[0m\u001b[0m\n\u001b[0;32m    839\u001b[0m                                 names=('x', 'y'), precision=precision)\n\u001b[1;32m--> 840\u001b[1;33m             \u001b[1;32mraise\u001b[0m \u001b[0mAssertionError\u001b[0m\u001b[1;33m(\u001b[0m\u001b[0mmsg\u001b[0m\u001b[1;33m)\u001b[0m\u001b[1;33m\u001b[0m\u001b[1;33m\u001b[0m\u001b[0m\n\u001b[0m\u001b[0;32m    841\u001b[0m     \u001b[1;32mexcept\u001b[0m \u001b[0mValueError\u001b[0m\u001b[1;33m:\u001b[0m\u001b[1;33m\u001b[0m\u001b[1;33m\u001b[0m\u001b[0m\n\u001b[0;32m    842\u001b[0m         \u001b[1;32mimport\u001b[0m \u001b[0mtraceback\u001b[0m\u001b[1;33m\u001b[0m\u001b[1;33m\u001b[0m\u001b[0m\n",
      "\u001b[1;31mAssertionError\u001b[0m: \nArrays are not less-ordered\n\nMismatched elements: 30 / 30 (100%)\nMax absolute difference: 10.22917834\nMax relative difference: 28.48541538\n x: array([ 0.877414,  0.834409,  0.841165,  0.880484,  0.942621,  1.022229,\n        1.116605,  1.224625,  1.346158,  1.481701,  1.632178,  1.798846,\n        1.983206,  2.187006,  2.4122  ,  2.660993,  2.935821,  3.239373,...\n y: array([0.339932, 0.163924, 0.122088, 0.116584, 0.120369, 0.12619 ,\n       0.132263, 0.138266, 0.144238, 0.150285, 0.156502, 0.162967,\n       0.169739, 0.176864, 0.184376, 0.192306, 0.20068 , 0.209514,..."
     ]
    }
   ],
   "source": [
    "#testing infected is lesser in isolation scenarios than camp_baseline\n",
    "assert_array_less(better_hygiene_infected, camp_baseline_infected)"
   ]
  },
  {
   "cell_type": "code",
   "execution_count": 137,
   "id": "turkish-story",
   "metadata": {},
   "outputs": [
    {
     "ename": "AssertionError",
     "evalue": "\nArrays are not less-ordered\n\nMismatched elements: 30 / 30 (100%)\nMax absolute difference: 2.24549809\nMax relative difference: 15.62683586\n x: array([0.033381, 0.061181, 0.086536, 0.111296, 0.136573, 0.163071,\n       0.191267, 0.221527, 0.254165, 0.289486, 0.327803, 0.369454,\n       0.414811, 0.464284, 0.51833 , 0.577454, 0.642215, 0.713232,...\n y: array([0.02176 , 0.029031, 0.032656, 0.035511, 0.038304, 0.04118 ,\n       0.044143, 0.047179, 0.050273, 0.053421, 0.056624, 0.059888,\n       0.063224, 0.066642, 0.070157, 0.073781, 0.077528, 0.081413,...",
     "output_type": "error",
     "traceback": [
      "\u001b[1;31m---------------------------------------------------------------------------\u001b[0m",
      "\u001b[1;31mAssertionError\u001b[0m                            Traceback (most recent call last)",
      "\u001b[1;32m<ipython-input-137-ed001c9615ea>\u001b[0m in \u001b[0;36m<module>\u001b[1;34m\u001b[0m\n\u001b[0;32m      1\u001b[0m \u001b[1;31m#testing hospitalised is lesser in isolation scenarios than camp_baseline\u001b[0m\u001b[1;33m\u001b[0m\u001b[1;33m\u001b[0m\u001b[1;33m\u001b[0m\u001b[0m\n\u001b[1;32m----> 2\u001b[1;33m \u001b[0massert_array_less\u001b[0m\u001b[1;33m(\u001b[0m\u001b[0mbetter_hygiene_hospitalised\u001b[0m\u001b[1;33m,\u001b[0m \u001b[0mcamp_baseline_hospitalised\u001b[0m\u001b[1;33m)\u001b[0m\u001b[1;33m\u001b[0m\u001b[1;33m\u001b[0m\u001b[0m\n\u001b[0m",
      "    \u001b[1;31m[... skipping hidden 1 frame]\u001b[0m\n",
      "\u001b[1;32mD:\\Anaconda\\envs\\compartment\\lib\\site-packages\\numpy\\testing\\_private\\utils.py\u001b[0m in \u001b[0;36massert_array_compare\u001b[1;34m(comparison, x, y, err_msg, verbose, header, precision, equal_nan, equal_inf)\u001b[0m\n\u001b[0;32m    838\u001b[0m                                 \u001b[0mverbose\u001b[0m\u001b[1;33m=\u001b[0m\u001b[0mverbose\u001b[0m\u001b[1;33m,\u001b[0m \u001b[0mheader\u001b[0m\u001b[1;33m=\u001b[0m\u001b[0mheader\u001b[0m\u001b[1;33m,\u001b[0m\u001b[1;33m\u001b[0m\u001b[1;33m\u001b[0m\u001b[0m\n\u001b[0;32m    839\u001b[0m                                 names=('x', 'y'), precision=precision)\n\u001b[1;32m--> 840\u001b[1;33m             \u001b[1;32mraise\u001b[0m \u001b[0mAssertionError\u001b[0m\u001b[1;33m(\u001b[0m\u001b[0mmsg\u001b[0m\u001b[1;33m)\u001b[0m\u001b[1;33m\u001b[0m\u001b[1;33m\u001b[0m\u001b[0m\n\u001b[0m\u001b[0;32m    841\u001b[0m     \u001b[1;32mexcept\u001b[0m \u001b[0mValueError\u001b[0m\u001b[1;33m:\u001b[0m\u001b[1;33m\u001b[0m\u001b[1;33m\u001b[0m\u001b[0m\n\u001b[0;32m    842\u001b[0m         \u001b[1;32mimport\u001b[0m \u001b[0mtraceback\u001b[0m\u001b[1;33m\u001b[0m\u001b[1;33m\u001b[0m\u001b[0m\n",
      "\u001b[1;31mAssertionError\u001b[0m: \nArrays are not less-ordered\n\nMismatched elements: 30 / 30 (100%)\nMax absolute difference: 2.24549809\nMax relative difference: 15.62683586\n x: array([0.033381, 0.061181, 0.086536, 0.111296, 0.136573, 0.163071,\n       0.191267, 0.221527, 0.254165, 0.289486, 0.327803, 0.369454,\n       0.414811, 0.464284, 0.51833 , 0.577454, 0.642215, 0.713232,...\n y: array([0.02176 , 0.029031, 0.032656, 0.035511, 0.038304, 0.04118 ,\n       0.044143, 0.047179, 0.050273, 0.053421, 0.056624, 0.059888,\n       0.063224, 0.066642, 0.070157, 0.073781, 0.077528, 0.081413,..."
     ]
    }
   ],
   "source": [
    "#testing hospitalised is lesser in isolation scenarios than camp_baseline\n",
    "assert_array_less(better_hygiene_hospitalised, camp_baseline_hospitalised)"
   ]
  },
  {
   "cell_type": "code",
   "execution_count": 138,
   "id": "expensive-airport",
   "metadata": {},
   "outputs": [
    {
     "ename": "AssertionError",
     "evalue": "\nArrays are not less-ordered\n\nMismatched elements: 30 / 30 (100%)\nMax absolute difference: 0.33932227\nMax relative difference: 11.41409855\n x: array([0.000528, 0.001908, 0.003944, 0.006528, 0.009608, 0.013162,\n       0.017188, 0.021698, 0.02671 , 0.032252, 0.038356, 0.045064,\n       0.052422, 0.060483, 0.069309, 0.078971, 0.089547, 0.101126,...\n y: array([0.000395, 0.001135, 0.001953, 0.002785, 0.00362 , 0.004458,\n       0.005302, 0.006154, 0.007014, 0.007885, 0.008766, 0.009658,\n       0.010561, 0.011478, 0.01241 , 0.013358, 0.014324, 0.01531 ,...",
     "output_type": "error",
     "traceback": [
      "\u001b[1;31m---------------------------------------------------------------------------\u001b[0m",
      "\u001b[1;31mAssertionError\u001b[0m                            Traceback (most recent call last)",
      "\u001b[1;32m<ipython-input-138-ab4825ccecda>\u001b[0m in \u001b[0;36m<module>\u001b[1;34m\u001b[0m\n\u001b[0;32m      1\u001b[0m \u001b[1;31m#testing critical is lesser in isolation scenarios than camp_baseline\u001b[0m\u001b[1;33m\u001b[0m\u001b[1;33m\u001b[0m\u001b[1;33m\u001b[0m\u001b[0m\n\u001b[1;32m----> 2\u001b[1;33m \u001b[0massert_array_less\u001b[0m\u001b[1;33m(\u001b[0m\u001b[0mbetter_hygiene_critical\u001b[0m\u001b[1;33m,\u001b[0m \u001b[0mcamp_baseline_critical\u001b[0m\u001b[1;33m)\u001b[0m\u001b[1;33m\u001b[0m\u001b[1;33m\u001b[0m\u001b[0m\n\u001b[0m",
      "    \u001b[1;31m[... skipping hidden 1 frame]\u001b[0m\n",
      "\u001b[1;32mD:\\Anaconda\\envs\\compartment\\lib\\site-packages\\numpy\\testing\\_private\\utils.py\u001b[0m in \u001b[0;36massert_array_compare\u001b[1;34m(comparison, x, y, err_msg, verbose, header, precision, equal_nan, equal_inf)\u001b[0m\n\u001b[0;32m    838\u001b[0m                                 \u001b[0mverbose\u001b[0m\u001b[1;33m=\u001b[0m\u001b[0mverbose\u001b[0m\u001b[1;33m,\u001b[0m \u001b[0mheader\u001b[0m\u001b[1;33m=\u001b[0m\u001b[0mheader\u001b[0m\u001b[1;33m,\u001b[0m\u001b[1;33m\u001b[0m\u001b[1;33m\u001b[0m\u001b[0m\n\u001b[0;32m    839\u001b[0m                                 names=('x', 'y'), precision=precision)\n\u001b[1;32m--> 840\u001b[1;33m             \u001b[1;32mraise\u001b[0m \u001b[0mAssertionError\u001b[0m\u001b[1;33m(\u001b[0m\u001b[0mmsg\u001b[0m\u001b[1;33m)\u001b[0m\u001b[1;33m\u001b[0m\u001b[1;33m\u001b[0m\u001b[0m\n\u001b[0m\u001b[0;32m    841\u001b[0m     \u001b[1;32mexcept\u001b[0m \u001b[0mValueError\u001b[0m\u001b[1;33m:\u001b[0m\u001b[1;33m\u001b[0m\u001b[1;33m\u001b[0m\u001b[0m\n\u001b[0;32m    842\u001b[0m         \u001b[1;32mimport\u001b[0m \u001b[0mtraceback\u001b[0m\u001b[1;33m\u001b[0m\u001b[1;33m\u001b[0m\u001b[0m\n",
      "\u001b[1;31mAssertionError\u001b[0m: \nArrays are not less-ordered\n\nMismatched elements: 30 / 30 (100%)\nMax absolute difference: 0.33932227\nMax relative difference: 11.41409855\n x: array([0.000528, 0.001908, 0.003944, 0.006528, 0.009608, 0.013162,\n       0.017188, 0.021698, 0.02671 , 0.032252, 0.038356, 0.045064,\n       0.052422, 0.060483, 0.069309, 0.078971, 0.089547, 0.101126,...\n y: array([0.000395, 0.001135, 0.001953, 0.002785, 0.00362 , 0.004458,\n       0.005302, 0.006154, 0.007014, 0.007885, 0.008766, 0.009658,\n       0.010561, 0.011478, 0.01241 , 0.013358, 0.014324, 0.01531 ,..."
     ]
    }
   ],
   "source": [
    "#testing critical is lesser in isolation scenarios than camp_baseline\n",
    "assert_array_less(better_hygiene_critical, camp_baseline_critical)"
   ]
  },
  {
   "cell_type": "code",
   "execution_count": 139,
   "id": "excess-figure",
   "metadata": {},
   "outputs": [
    {
     "ename": "AssertionError",
     "evalue": "\nArrays are not less-ordered\n\nMismatched elements: 30 / 30 (100%)\nMax absolute difference: 0.21102775\nMax relative difference: 6.98723836\n x: array([1.389568e-05, 1.027444e-04, 3.236976e-04, 7.225287e-04,\n       1.339067e-03, 2.210405e-03, 3.372792e-03, 4.862851e-03,\n       6.718377e-03, 8.978962e-03, 1.168653e-02, 1.488580e-02,...\n y: array([1.115774e-05, 6.896641e-05, 1.873681e-04, 3.692723e-04,\n       6.151798e-04, 9.253100e-04, 1.300027e-03, 1.739857e-03,\n       2.245443e-03, 2.817500e-03, 3.456799e-03, 4.164163e-03,...",
     "output_type": "error",
     "traceback": [
      "\u001b[1;31m---------------------------------------------------------------------------\u001b[0m",
      "\u001b[1;31mAssertionError\u001b[0m                            Traceback (most recent call last)",
      "\u001b[1;32m<ipython-input-139-a4e4408e0018>\u001b[0m in \u001b[0;36m<module>\u001b[1;34m\u001b[0m\n\u001b[0;32m      1\u001b[0m \u001b[1;31m#testing deaths is lesser in isolation scenarios than camp_baseline\u001b[0m\u001b[1;33m\u001b[0m\u001b[1;33m\u001b[0m\u001b[1;33m\u001b[0m\u001b[0m\n\u001b[1;32m----> 2\u001b[1;33m \u001b[0massert_array_less\u001b[0m\u001b[1;33m(\u001b[0m\u001b[0mbetter_hygiene_deaths\u001b[0m\u001b[1;33m,\u001b[0m \u001b[0mcamp_baseline_deaths\u001b[0m\u001b[1;33m)\u001b[0m\u001b[1;33m\u001b[0m\u001b[1;33m\u001b[0m\u001b[0m\n\u001b[0m",
      "    \u001b[1;31m[... skipping hidden 1 frame]\u001b[0m\n",
      "\u001b[1;32mD:\\Anaconda\\envs\\compartment\\lib\\site-packages\\numpy\\testing\\_private\\utils.py\u001b[0m in \u001b[0;36massert_array_compare\u001b[1;34m(comparison, x, y, err_msg, verbose, header, precision, equal_nan, equal_inf)\u001b[0m\n\u001b[0;32m    838\u001b[0m                                 \u001b[0mverbose\u001b[0m\u001b[1;33m=\u001b[0m\u001b[0mverbose\u001b[0m\u001b[1;33m,\u001b[0m \u001b[0mheader\u001b[0m\u001b[1;33m=\u001b[0m\u001b[0mheader\u001b[0m\u001b[1;33m,\u001b[0m\u001b[1;33m\u001b[0m\u001b[1;33m\u001b[0m\u001b[0m\n\u001b[0;32m    839\u001b[0m                                 names=('x', 'y'), precision=precision)\n\u001b[1;32m--> 840\u001b[1;33m             \u001b[1;32mraise\u001b[0m \u001b[0mAssertionError\u001b[0m\u001b[1;33m(\u001b[0m\u001b[0mmsg\u001b[0m\u001b[1;33m)\u001b[0m\u001b[1;33m\u001b[0m\u001b[1;33m\u001b[0m\u001b[0m\n\u001b[0m\u001b[0;32m    841\u001b[0m     \u001b[1;32mexcept\u001b[0m \u001b[0mValueError\u001b[0m\u001b[1;33m:\u001b[0m\u001b[1;33m\u001b[0m\u001b[1;33m\u001b[0m\u001b[0m\n\u001b[0;32m    842\u001b[0m         \u001b[1;32mimport\u001b[0m \u001b[0mtraceback\u001b[0m\u001b[1;33m\u001b[0m\u001b[1;33m\u001b[0m\u001b[0m\n",
      "\u001b[1;31mAssertionError\u001b[0m: \nArrays are not less-ordered\n\nMismatched elements: 30 / 30 (100%)\nMax absolute difference: 0.21102775\nMax relative difference: 6.98723836\n x: array([1.389568e-05, 1.027444e-04, 3.236976e-04, 7.225287e-04,\n       1.339067e-03, 2.210405e-03, 3.372792e-03, 4.862851e-03,\n       6.718377e-03, 8.978962e-03, 1.168653e-02, 1.488580e-02,...\n y: array([1.115774e-05, 6.896641e-05, 1.873681e-04, 3.692723e-04,\n       6.151798e-04, 9.253100e-04, 1.300027e-03, 1.739857e-03,\n       2.245443e-03, 2.817500e-03, 3.456799e-03, 4.164163e-03,..."
     ]
    }
   ],
   "source": [
    "#testing deaths is lesser in isolation scenarios than camp_baseline\n",
    "assert_array_less(better_hygiene_deaths, camp_baseline_deaths)"
   ]
  },
  {
   "cell_type": "code",
   "execution_count": null,
   "id": "copyrighted-arlington",
   "metadata": {},
   "outputs": [],
   "source": []
  }
 ],
 "metadata": {
  "kernelspec": {
   "display_name": "Python 3",
   "language": "python",
   "name": "python3"
  },
  "language_info": {
   "codemirror_mode": {
    "name": "ipython",
    "version": 3
   },
   "file_extension": ".py",
   "mimetype": "text/x-python",
   "name": "python",
   "nbconvert_exporter": "python",
   "pygments_lexer": "ipython3",
   "version": "3.7.10"
  }
 },
 "nbformat": 4,
 "nbformat_minor": 5
}
